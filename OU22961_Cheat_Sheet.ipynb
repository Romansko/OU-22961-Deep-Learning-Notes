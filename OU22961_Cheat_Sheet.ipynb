{
 "cells": [
  {
   "cell_type": "markdown",
   "id": "73250535-ef67-429e-8f1b-69b694422917",
   "metadata": {},
   "source": [
    "# OpenU's Deep Learning 22961 Cheat Sheet\n",
    "\n",
    "**Roman Koifman - Semester 2023b**\n",
    "\n",
    "**Note**: GitHub's internal links seems not to work. As a workaround, you can open this notebook in [nbviewer](https://nbviewer.org/github/Romansko/OU-22961-Deep-Learning-Notes/blob/main/OU22961_Cheat_Sheet.ipynb).\n",
    "\n",
    "**<u>Sections</u>**\n",
    "\n",
    "* [Links](#Links)\n",
    "* [Markdown Formatting](#Markdown-Formatting)\n",
    "* [Numpy](#Numpy)\n",
    "* [PyTorch](#PyTorch)\n",
    "* [Helper Functions](#Helper-Functions)\n",
    "* [Magics & GPU](#Magics-&-GPU)\n",
    "* [Tensor Constructors](#Tensor-Constructors)\n",
    "* [Tensor Properties](#Tensor-Properties)\n",
    "* [Operators](#Operators)\n",
    "* [Indexing](#Indexing)\n",
    "* [Tensor Functions](#Tensor-Functions)\n",
    "* [Broadcasting](#Broadcasting)\n",
    "* [Gradient](#Gradient)\n",
    "* [Datasets](#Datasets)\n",
    "* [Activation Functions](#Activation-Functions)\n",
    "* [Neural Network related](#Neural-Network-related)"
   ]
  },
  {
   "cell_type": "markdown",
   "id": "265e0eb2-018a-464e-ad9f-df01e48e0cfc",
   "metadata": {},
   "source": [
    "---\n",
    "\n",
    "## Links\n",
    "\n",
    "* [Dive into Deep Learning Book](https://d2l.ai)\n",
    "* [Idan Alter (Lecturer) github](https://github.com/Idan-Alter/OU-22961-Deep-Learning)\n",
    "* [Deep Learning in Hebrew](https://github.com/AvrahamRaviv/Deep-Learning-in-Hebrew)\n",
    "* [Yann LeCun Lectures](https://www.youtube.com/playlist?list=PL80I41oVxglKcAHllsU0txr3OuTTaWX2v)\n",
    "* [Standford CS230 Lectures](https://cs230.stanford.edu/lecture)"
   ]
  },
  {
   "cell_type": "markdown",
   "id": "06b178bc-b8cd-4210-8566-71038a452d71",
   "metadata": {},
   "source": [
    "---\n",
    "\n",
    "## Markdown Formatting\n",
    "\n",
    "**Image Formatting**\n",
    "\n",
    "```html\n",
    "<img src=\"path/to/image.png\" alt=\"Image\" width=\"400\">\n",
    "```\n",
    "```markdown\n",
    "![optional-name](path/to/image.png)\n",
    "```\n",
    "\n",
    "**Right to Left**\n",
    "```html\n",
    "<div dir=\"rtl\">\n",
    "Text / Image (only img src..)\n",
    "</div>\n",
    "```"
   ]
  },
  {
   "cell_type": "markdown",
   "id": "6a9a8ea9-03f8-46b4-abbb-0ad97e24db73",
   "metadata": {},
   "source": [
    "---\n",
    "\n",
    "## Numpy"
   ]
  },
  {
   "cell_type": "code",
   "execution_count": 1,
   "id": "ebe5a5de-b93f-4d87-b56f-42c456602b01",
   "metadata": {},
   "outputs": [
    {
     "name": "stdout",
     "output_type": "stream",
     "text": [
      "[*] Using Numpy v1.24.3.\n"
     ]
    }
   ],
   "source": [
    "import numpy as np\n",
    "print(f'[*] Using Numpy v{np.__version__}.')"
   ]
  },
  {
   "cell_type": "code",
   "execution_count": 2,
   "id": "54e56809-67b6-4454-8bf6-72f3fecf1502",
   "metadata": {},
   "outputs": [
    {
     "data": {
      "text/plain": [
       "2.718281828459045"
      ]
     },
     "execution_count": 2,
     "metadata": {},
     "output_type": "execute_result"
    }
   ],
   "source": [
    "np.e"
   ]
  },
  {
   "cell_type": "code",
   "execution_count": 3,
   "id": "e55ad45b-f0af-49d5-829e-a16cf18de20c",
   "metadata": {},
   "outputs": [
    {
     "data": {
      "text/plain": [
       "1.0"
      ]
     },
     "execution_count": 3,
     "metadata": {},
     "output_type": "execute_result"
    }
   ],
   "source": [
    "np.log(np.e)  # aka ln"
   ]
  },
  {
   "cell_type": "markdown",
   "id": "032525ef-6c1e-4698-a814-07dc2e8e2af1",
   "metadata": {},
   "source": [
    "---\n",
    "\n",
    "## PyTorch"
   ]
  },
  {
   "cell_type": "code",
   "execution_count": 4,
   "id": "2f23267f-5f09-455a-92aa-1e0ef0a3f574",
   "metadata": {},
   "outputs": [
    {
     "name": "stdout",
     "output_type": "stream",
     "text": [
      "[*] Using PyTorch v2.0.1.\n"
     ]
    }
   ],
   "source": [
    "import torch # PyTorch library\n",
    "print(f'[*] Using PyTorch v{torch.__version__}.')"
   ]
  },
  {
   "cell_type": "markdown",
   "id": "3cab751a-c3e7-4101-9cb5-84410ba27da9",
   "metadata": {},
   "source": [
    "---\n",
    "\n",
    "## Helper Functions\n",
    "\n",
    "Helper functions for this notebook."
   ]
  },
  {
   "cell_type": "code",
   "execution_count": 5,
   "id": "6f676fa8-fffc-40d4-b9fb-d67b1d007ed4",
   "metadata": {},
   "outputs": [],
   "source": [
    "import warnings\n",
    "def toggle_warnings(on):\n",
    "    if on:\n",
    "        warnings.filterwarnings('default')\n",
    "    else:\n",
    "        warnings.filterwarnings('ignore')"
   ]
  },
  {
   "cell_type": "code",
   "execution_count": 6,
   "id": "5c52944c-c878-4ab0-87a3-a1dc1c3bd0a1",
   "metadata": {},
   "outputs": [],
   "source": [
    "def nprint(name, obj):\n",
    "    print(f\"[*] {name}:\\n{obj}\\n\")"
   ]
  },
  {
   "cell_type": "code",
   "execution_count": 7,
   "id": "16093534-e48f-4eba-a753-8c5ac10ab11a",
   "metadata": {},
   "outputs": [],
   "source": [
    "def print_id(obj):\n",
    "    \"\"\" print id as hex \"\"\"\n",
    "    print(f'[id] {hex(id(obj))}')"
   ]
  },
  {
   "cell_type": "code",
   "execution_count": 8,
   "id": "2bdba2b3-a2b5-4c54-950f-cd5313a8be5b",
   "metadata": {},
   "outputs": [],
   "source": [
    "def set_default_device():\n",
    "    \"\"\" Helper function to select default device \"\"\"\n",
    "    device = torch.device('cuda' if torch.cuda.is_available() else 'cpu')\n",
    "    torch.set_default_device(device)\n",
    "    print(f'[*] {device} is selected as the default device.')"
   ]
  },
  {
   "cell_type": "code",
   "execution_count": 9,
   "id": "472faec7-4962-4770-8d31-086e98aefa55",
   "metadata": {},
   "outputs": [],
   "source": [
    "import matplotlib.pyplot as plt\n",
    "\n",
    "def plot(tensors_list, title, xlabel, label=None):\n",
    "    \"\"\" plot tensors list \"\"\"\n",
    "    plt.plot([t.item() for t in tensors_list], label=label)\n",
    "    plt.xlabel(xlabel)\n",
    "    plt.title(title)"
   ]
  },
  {
   "cell_type": "markdown",
   "id": "553a6608-44cd-4e39-8bac-788f4fab4608",
   "metadata": {},
   "source": [
    "---\n",
    "\n",
    "## Magics & GPU"
   ]
  },
  {
   "cell_type": "markdown",
   "id": "ea56c57d-25a2-4698-a456-3c930db4c01e",
   "metadata": {},
   "source": [
    "https://ipython.readthedocs.io/en/stable/interactive/magics.html\n",
    "\n",
    "- `%run -i file.py`\n",
    "- `%%timeit`\n",
    "- `%%debug` - can type `help`\n",
    "- `%%bash` - run from shell"
   ]
  },
  {
   "cell_type": "code",
   "execution_count": 10,
   "id": "85719ac9-05c0-4ba1-8161-b77b8550d654",
   "metadata": {},
   "outputs": [
    {
     "name": "stdout",
     "output_type": "stream",
     "text": [
      "Python 3.10.9\n"
     ]
    },
    {
     "name": "stderr",
     "output_type": "stream",
     "text": [
      "'uname' is not recognized as an internal or external command,\n",
      "operable program or batch file.\n"
     ]
    }
   ],
   "source": [
    "# Run shell command - Option 1\n",
    "!python --version\n",
    "!uname -a"
   ]
  },
  {
   "cell_type": "code",
   "execution_count": 11,
   "id": "62ecf02b-36a3-4093-8369-82d773f7458d",
   "metadata": {},
   "outputs": [
    {
     "name": "stdout",
     "output_type": "stream",
     "text": [
      "Python 3.10.12\n",
      "Linux OMEN 5.15.90.1-microsoft-standard-WSL2 #1 SMP Fri Jan 27 02:56:13 UTC 2023 x86_64 x86_64 x86_64 GNU/Linux\n"
     ]
    }
   ],
   "source": [
    "%%bash  # Option 2 - magic %%bash - It seems the commands are performed in WSL. Different context than above.\n",
    "python3 --version\n",
    "uname -a"
   ]
  },
  {
   "cell_type": "code",
   "execution_count": 12,
   "id": "d1ebe42e-0f1a-4501-968b-ab022f090fc8",
   "metadata": {},
   "outputs": [
    {
     "name": "stdout",
     "output_type": "stream",
     "text": [
      "Wed Aug 23 11:36:18 2023       \n",
      "+---------------------------------------------------------------------------------------+\n",
      "| NVIDIA-SMI 535.98.01              Driver Version: 536.99       CUDA Version: 12.2     |\n",
      "|-----------------------------------------+----------------------+----------------------+\n",
      "| GPU  Name                 Persistence-M | Bus-Id        Disp.A | Volatile Uncorr. ECC |\n",
      "| Fan  Temp   Perf          Pwr:Usage/Cap |         Memory-Usage | GPU-Util  Compute M. |\n",
      "|                                         |                      |               MIG M. |\n",
      "|=========================================+======================+======================|\n",
      "|   0  NVIDIA GeForce GTX 1650        On  | 00000000:01:00.0  On |                  N/A |\n",
      "| N/A   40C    P8               5W /  10W |    454MiB /  4096MiB |      1%      Default |\n",
      "|                                         |                      |                  N/A |\n",
      "+-----------------------------------------+----------------------+----------------------+\n"
     ]
    }
   ],
   "source": [
    "%%bash   # Getting GPU info - print only 1st table with head command.\n",
    "nvidia-smi | head -n 12"
   ]
  },
  {
   "cell_type": "code",
   "execution_count": 13,
   "id": "a0692fcd-dbc8-449f-99e0-4a24ad4e3c40",
   "metadata": {},
   "outputs": [
    {
     "data": {
      "text/plain": [
       "True"
      ]
     },
     "execution_count": 13,
     "metadata": {},
     "output_type": "execute_result"
    }
   ],
   "source": [
    "# Detecting if GPU available\n",
    "torch.cuda.is_available()"
   ]
  },
  {
   "cell_type": "code",
   "execution_count": 14,
   "id": "1ef25ed5-000e-4ae3-8283-fc0c5ebde41a",
   "metadata": {},
   "outputs": [
    {
     "name": "stdout",
     "output_type": "stream",
     "text": [
      "A's device before: cpu\n",
      "A's device after: cuda:0\n",
      "B's device: cuda:0\n"
     ]
    }
   ],
   "source": [
    "# Transferring between CPU & GPU\n",
    "device = torch.device('cuda')\n",
    "A = torch.empty(1)\n",
    "print(f\"A's device before: {A.device}\")\n",
    "A = A.to(device)    # Always a copy!\n",
    "print(f\"A's device after: {A.device}\")\n",
    "B = torch.empty(1, device=device)\n",
    "print(f\"B's device: {B.device}\")"
   ]
  },
  {
   "cell_type": "code",
   "execution_count": 15,
   "id": "3d109d81-ca38-42eb-9b96-833478a0d544",
   "metadata": {},
   "outputs": [
    {
     "name": "stdout",
     "output_type": "stream",
     "text": [
      "[*] cuda is selected as the default device.\n",
      "C's device: cuda:0\n"
     ]
    }
   ],
   "source": [
    "# Selecting default device    \n",
    "set_default_device()\n",
    "C = torch.empty(1)  # If GPU selected, A's device will be cuda although we didn't explicity selected its device.\n",
    "print(f\"C's device: {C.device}\")  \n",
    "torch.set_default_device(torch.device('cpu'))  # back to default cpu"
   ]
  },
  {
   "cell_type": "markdown",
   "id": "add3d256-11af-4d46-9a2c-6f33e4637d5a",
   "metadata": {},
   "source": [
    "---\n",
    "\n",
    "## Tensor Constructors"
   ]
  },
  {
   "cell_type": "code",
   "execution_count": 16,
   "id": "97d6da54-fd2d-4c76-8026-f9eae2a81532",
   "metadata": {},
   "outputs": [],
   "source": [
    "# torch.tensor(data, *, dtype=None, device=None, requires_grad=False, pin_memory=False) → Tensor\n",
    "\"\"\" Constructs a tensor with no autograd history \"\"\"\n",
    "X = torch.tensor([[1,2],[3,4]])"
   ]
  },
  {
   "cell_type": "code",
   "execution_count": 17,
   "id": "89f8c2ac-2a64-4819-82b7-f7d5669ac789",
   "metadata": {},
   "outputs": [
    {
     "data": {
      "text/plain": [
       "(numpy.ndarray, torch.Tensor)"
      ]
     },
     "execution_count": 17,
     "metadata": {},
     "output_type": "execute_result"
    }
   ],
   "source": [
    "#  Conversion to Other Python Objects\n",
    "A = X.numpy()\n",
    "B = torch.from_numpy(A)\n",
    "type(A), type(B)"
   ]
  },
  {
   "cell_type": "code",
   "execution_count": 18,
   "id": "305a05bc-1a44-4e8a-92b8-7ff3f1046354",
   "metadata": {},
   "outputs": [
    {
     "data": {
      "text/plain": [
       "(tensor([3.5000]), 3.5, 3.5, 3)"
      ]
     },
     "execution_count": 18,
     "metadata": {},
     "output_type": "execute_result"
    }
   ],
   "source": [
    "# To Scalar. Tensor must contain a single element! or RuntimeError is thrown.\n",
    "a = torch.tensor([3.5])\n",
    "a, a.item(), float(a), int(a)"
   ]
  },
  {
   "cell_type": "code",
   "execution_count": 19,
   "id": "1b7a4de8-33b8-4f97-afb1-c5f10f039969",
   "metadata": {},
   "outputs": [
    {
     "data": {
      "text/plain": [
       "tensor([1.3531e+22, 1.2869e-11, 1.3602e-05, 1.3002e+22, 2.1475e-04])"
      ]
     },
     "execution_count": 19,
     "metadata": {},
     "output_type": "execute_result"
    }
   ],
   "source": [
    "# torch.empty(*size, *, out=None, dtype=None, layout=torch.strided, device=None, requires_grad=False, pin_memory=False, memory_format=torch.contiguous_format) → Tensor\n",
    "\"\"\" Returns a tensor filled with uninitialized data. The shape of the tensor is defined by the variable argument size. \"\"\"\n",
    "torch.empty(5)"
   ]
  },
  {
   "cell_type": "code",
   "execution_count": 20,
   "id": "29fda909-d376-4e77-a77e-6fbc3082a583",
   "metadata": {},
   "outputs": [
    {
     "data": {
      "text/plain": [
       "tensor([0., 0., 0., 0.])"
      ]
     },
     "execution_count": 20,
     "metadata": {},
     "output_type": "execute_result"
    }
   ],
   "source": [
    "# torch.zeros(*size, *, out=None, dtype=None, layout=torch.strided, device=None, requires_grad=False) → Tensor\n",
    "\"\"\" Returns a tensor filled with the scalar value 0, with the shape defined by the variable argument size. \"\"\"\n",
    "torch.zeros(size=(4,))"
   ]
  },
  {
   "cell_type": "code",
   "execution_count": 21,
   "id": "57de6a98-0f58-4f43-8681-02ca6c3f71cd",
   "metadata": {},
   "outputs": [
    {
     "data": {
      "text/plain": [
       "tensor([1., 1., 1., 1.])"
      ]
     },
     "execution_count": 21,
     "metadata": {},
     "output_type": "execute_result"
    }
   ],
   "source": [
    "# torch.ones(*size, *, out=None, dtype=None, layout=torch.strided, device=None, requires_grad=False) → Tensor\n",
    "\"\"\" Returns a tensor filled with the scalar value 1, with the shape defined by the variable argument size. \"\"\"\n",
    "torch.ones(size=(4,))  # aka torch.ones(4)"
   ]
  },
  {
   "cell_type": "code",
   "execution_count": 22,
   "id": "77bc6a40-1c78-4c9d-b4da-08205bd09d81",
   "metadata": {},
   "outputs": [
    {
     "data": {
      "text/plain": [
       "(tensor([[1., 0., 0.],\n",
       "         [0., 1., 0.],\n",
       "         [0., 0., 1.]]),\n",
       " tensor([[ True, False, False],\n",
       "         [False,  True, False],\n",
       "         [False, False,  True]]))"
      ]
     },
     "execution_count": 22,
     "metadata": {},
     "output_type": "execute_result"
    }
   ],
   "source": [
    "# torch.eye(n, m=None, *, out=None, dtype=None, layout=torch.strided, device=None, requires_grad=False) → Tensor\n",
    "\"\"\" Returns a 2-D tensor with 1s on the diagonal and 0s elsewhere. (Identity Matrix). \"\"\"\n",
    "torch.eye(3), torch.eye(3, dtype=torch.bool)"
   ]
  },
  {
   "cell_type": "code",
   "execution_count": 23,
   "id": "474c386b-b2a9-420b-afa3-c430f42d430b",
   "metadata": {},
   "outputs": [
    {
     "name": "stdout",
     "output_type": "stream",
     "text": [
      "tensor([0, 1, 2, 3, 4, 5, 6, 7, 8, 9])\n",
      "tensor([0, 1, 2, 3, 4, 5, 6, 7, 8, 9])\n",
      "tensor([ 5,  7,  9, 11, 13])\n"
     ]
    }
   ],
   "source": [
    "# torch.arange(start=0, end, step=1, *, out=None, dtype=None, layout=torch.strided, device=None, requires_grad=False) → Tensor\n",
    "\"\"\" Returns a 1-D tensor of size ⌈(end−start)/step⌉ with values from the interval [start, end) taken with common difference step beginning from start. \"\"\"\n",
    "\n",
    "# Generate a tensor with values from 0 to 9\n",
    "print(torch.arange(10))\n",
    "print(torch.tensor(range(10)))  # same\n",
    "\n",
    "# Generate a tensor with values from 5 to 15 (exclusive) with a step of 2\n",
    "print(torch.arange(5, 15, 2))"
   ]
  },
  {
   "cell_type": "code",
   "execution_count": 24,
   "id": "152eda3a-5798-410d-a8ec-ed9337b10e51",
   "metadata": {},
   "outputs": [
    {
     "data": {
      "text/plain": [
       "tensor([[[[0, 0, 0, 1],\n",
       "          [1, 0, 0, 1]],\n",
       "\n",
       "         [[1, 0, 0, 0],\n",
       "          [0, 0, 0, 0]]]])"
      ]
     },
     "execution_count": 24,
     "metadata": {},
     "output_type": "execute_result"
    }
   ],
   "source": [
    "# torch.randint(low=0, high, size, \\*, generator=None, out=None, dtype=None, layout=torch.strided, device=None, requires_grad=False) → Tensor\n",
    "\"\"\" Returns a tensor filled with random integers generated uniformly between low (inclusive) and high (exclusive). \"\"\"\n",
    "torch.randint(2, (1,2,2,4))    # low = 0, high = 2, size = (1,2,2,4)."
   ]
  },
  {
   "cell_type": "code",
   "execution_count": 25,
   "id": "23b6d655-c13f-41de-b63f-c8c9f8b73619",
   "metadata": {},
   "outputs": [
    {
     "data": {
      "text/plain": [
       "tensor([[[[0.5177, 0.9308, 0.8334, 0.3300],\n",
       "          [0.9748, 0.8349, 0.8086, 0.7539],\n",
       "          [0.3295, 0.3302, 0.2382, 0.4396]],\n",
       "\n",
       "         [[0.6073, 0.0782, 0.8484, 0.1027],\n",
       "          [0.8462, 0.6803, 0.3728, 0.1243],\n",
       "          [0.4478, 0.0348, 0.2145, 0.0464]]]])"
      ]
     },
     "execution_count": 25,
     "metadata": {},
     "output_type": "execute_result"
    }
   ],
   "source": [
    "# torch.rand(*size, *, generator=None, out=None, dtype=None, layout=torch.strided, device=None, requires_grad=False, pin_memory=False) → Tensor\n",
    "\"\"\" Returns a tensor filled with random numbers from a uniform distribution on the interval [0, 1) \"\"\"\n",
    "torch.rand(1,2,3,4)  # Standard uniform distribution"
   ]
  },
  {
   "cell_type": "code",
   "execution_count": 26,
   "id": "62cd0c5c-a223-4893-a1cd-92e5e6251a33",
   "metadata": {},
   "outputs": [
    {
     "data": {
      "text/plain": [
       "tensor([[[-1.4251, -0.8620, -1.3531],\n",
       "         [-0.4239, -1.6320, -1.5172],\n",
       "         [-1.3912, -0.2696, -0.6884]],\n",
       "\n",
       "        [[ 0.4832,  0.5920, -0.1334],\n",
       "         [-0.2291, -0.3221, -1.4150],\n",
       "         [-0.1148,  0.6440,  1.0441]]])"
      ]
     },
     "execution_count": 26,
     "metadata": {},
     "output_type": "execute_result"
    }
   ],
   "source": [
    "# torch.randn(*size, *, out=None, dtype=None, layout=torch.strided, device=None, requires_grad=False, pin_memory=False) → Tensor\n",
    "\"\"\" Returns a tensor filled with random numbers from a normal distribution with mean 0 and variance 1 (also called the standard normal distribution). \"\"\"\n",
    "torch.randn(size=[2, 3, 3])"
   ]
  },
  {
   "cell_type": "markdown",
   "id": "39986c33-e607-44d6-b86a-c4155da2b305",
   "metadata": {},
   "source": [
    "---\n",
    "\n",
    "## Tensor Properties"
   ]
  },
  {
   "cell_type": "code",
   "execution_count": 27,
   "id": "9fdc5f86-f4c3-4e3e-8d83-b27afd01c3fc",
   "metadata": {},
   "outputs": [
    {
     "name": "stdout",
     "output_type": "stream",
     "text": [
      "Row vectors\n",
      "tensor([1., 1., 1.]) torch.Size([3])\n",
      "tensor([1., 1., 1.]) torch.Size([3])\n",
      "tensor([[1., 1., 1.]]) torch.Size([1, 3])\n",
      "\n",
      "Column vector\n",
      "tensor([[1.],\n",
      "        [1.],\n",
      "        [1.]]) torch.Size([3, 1])\n"
     ]
    }
   ],
   "source": [
    "# Row & Column Vectors\n",
    "\n",
    "print(\"Row vectors\")\n",
    "t1 = torch.ones(3)\n",
    "t2 = torch.ones(3,)\n",
    "print(t1, t1.shape)\n",
    "print(t2, t2.shape)\n",
    "\n",
    "# Not the same!!!\n",
    "t3 = torch.ones(1,3)\n",
    "print(t3, t3.shape)\n",
    "\n",
    "print(\"\\nColumn vector\")\n",
    "t = torch.ones(3,1)\n",
    "print(t, t.shape)"
   ]
  },
  {
   "cell_type": "code",
   "execution_count": 28,
   "id": "0e93be6b-9a29-44b0-b448-51a938eeb4d3",
   "metadata": {},
   "outputs": [
    {
     "name": "stdout",
     "output_type": "stream",
     "text": [
      "tensor([[[[-0.5976, -1.5173,  0.7137,  0.6764],\n",
      "          [-0.0243,  0.2384,  1.3021,  0.1003],\n",
      "          [-1.5488,  0.4616, -1.7422,  1.1747]],\n",
      "\n",
      "         [[-0.1784, -0.5535, -2.3092, -1.2677],\n",
      "          [-1.3337,  0.9379,  1.6307, -1.7729],\n",
      "          [-1.1954, -0.4566, -0.6423, -0.2534]]]])\n"
     ]
    }
   ],
   "source": [
    "# Demonstrated tensor\n",
    "t = torch.randn(1,2,3,4)\n",
    "print(t)"
   ]
  },
  {
   "cell_type": "code",
   "execution_count": 29,
   "id": "90a42ab9-d730-4aac-95a0-c1ae5c9e8a39",
   "metadata": {},
   "outputs": [
    {
     "data": {
      "text/plain": [
       "torch.float32"
      ]
     },
     "execution_count": 29,
     "metadata": {},
     "output_type": "execute_result"
    }
   ],
   "source": [
    "# Tensor's data type\n",
    "t.dtype"
   ]
  },
  {
   "cell_type": "code",
   "execution_count": 30,
   "id": "fe177bb4-b0fd-4c56-93c2-c4bd180edd79",
   "metadata": {},
   "outputs": [
    {
     "name": "stdout",
     "output_type": "stream",
     "text": [
      "torch.Size([1, 2, 3, 4])\n",
      "1\n"
     ]
    }
   ],
   "source": [
    "# Tensor.size(dim=None) → torch.Size or int\n",
    "\"\"\"\n",
    "Returns the size of the self tensor. If dim is not specified, the returned value is a torch.Size, a subclass of tuple. \n",
    "If dim is specified, returns an int holding the size of that dimension.\n",
    "\"\"\"\n",
    "print(t.size())\n",
    "print(t.size(0))   # First dimension"
   ]
  },
  {
   "cell_type": "code",
   "execution_count": 31,
   "id": "7071ad8e-fbba-4611-98fc-f79b7bb62e28",
   "metadata": {},
   "outputs": [
    {
     "name": "stdout",
     "output_type": "stream",
     "text": [
      "torch.Size([1, 2, 3, 4])\n",
      "1\n"
     ]
    }
   ],
   "source": [
    "# shape is an alias to size()\n",
    "print(t.shape)\n",
    "print(t.shape[0])   # First dimension"
   ]
  },
  {
   "cell_type": "code",
   "execution_count": 32,
   "id": "d2293104-8336-418a-bad2-e5e7449d9069",
   "metadata": {},
   "outputs": [
    {
     "name": "stdout",
     "output_type": "stream",
     "text": [
      "4\n",
      "4\n",
      "1\n"
     ]
    }
   ],
   "source": [
    "# Tensor.dim() → int\n",
    "\"\"\" Returns the number of dimensions of self tensor. \"\"\"\n",
    "print(t.dim())\n",
    "print(t.ndim)   # Alias for dim()\n",
    "print(len(t))   # len(t) will return the size of the first dimension"
   ]
  },
  {
   "cell_type": "code",
   "execution_count": 33,
   "id": "dcb31399-68db-4e73-8a9b-97d7df2ebc61",
   "metadata": {},
   "outputs": [
    {
     "data": {
      "text/plain": [
       "24"
      ]
     },
     "execution_count": 33,
     "metadata": {},
     "output_type": "execute_result"
    }
   ],
   "source": [
    "# torch.numel(input) → int\n",
    "\"\"\" Returns the total number of elements in the input tensor. \"\"\"\n",
    "t.numel()"
   ]
  },
  {
   "cell_type": "markdown",
   "id": "f89baaf9-db64-4f8c-a88b-d64b529f4bb7",
   "metadata": {},
   "source": [
    "---\n",
    "\n",
    "## Operators"
   ]
  },
  {
   "cell_type": "code",
   "execution_count": 34,
   "id": "d75a12ca-a08a-47e7-86bd-88148b0b2e83",
   "metadata": {},
   "outputs": [
    {
     "data": {
      "text/plain": [
       "2.0"
      ]
     },
     "execution_count": 34,
     "metadata": {},
     "output_type": "execute_result"
    }
   ],
   "source": [
    "# Floor Division\n",
    "5.3 // 2"
   ]
  },
  {
   "cell_type": "code",
   "execution_count": 35,
   "id": "62a5f718-4513-4012-822a-ce189d89e13c",
   "metadata": {},
   "outputs": [
    {
     "data": {
      "text/plain": [
       "8"
      ]
     },
     "execution_count": 35,
     "metadata": {},
     "output_type": "execute_result"
    }
   ],
   "source": [
    "# Power\n",
    "2 ** 3"
   ]
  },
  {
   "cell_type": "code",
   "execution_count": 36,
   "id": "b6797ed6-5ed3-4b6c-a886-03c1b0ce5ef9",
   "metadata": {},
   "outputs": [
    {
     "data": {
      "text/plain": [
       "(tensor([3, 2]), tensor([3, 2]), tensor(13))"
      ]
     },
     "execution_count": 36,
     "metadata": {},
     "output_type": "execute_result"
    }
   ],
   "source": [
    "# Matrix / Vector multiplication: M1 @ M2\n",
    "\"\"\" Matrices should match the dimension: mxn & nxk. \"\"\"\n",
    "t1 = torch.randint(1, 4, (2,))\n",
    "t2 = torch.randint(1, 4, (2,))\n",
    "t1, t2, t1 @ t2"
   ]
  },
  {
   "cell_type": "code",
   "execution_count": 37,
   "id": "d1cace3e-a457-4315-befc-b5046f997470",
   "metadata": {},
   "outputs": [
    {
     "name": "stdout",
     "output_type": "stream",
     "text": [
      "tensor([[0., 0., 0., 0.]])\n",
      "tensor([[0.],\n",
      "        [0.],\n",
      "        [0.],\n",
      "        [0.]])\n"
     ]
    }
   ],
   "source": [
    "# Transpose\n",
    "x = torch.zeros(1, 4)\n",
    "print(x, x.T, sep='\\n')"
   ]
  },
  {
   "cell_type": "code",
   "execution_count": 38,
   "id": "aa09d38f-e32e-430a-93de-355eca079204",
   "metadata": {},
   "outputs": [
    {
     "name": "stdout",
     "output_type": "stream",
     "text": [
      "tensor(0.8369)\n",
      "tensor(0.8369)\n",
      "tensor(0.8369)\n",
      "tensor(0.8369)\n"
     ]
    }
   ],
   "source": [
    "# For single vector, these are the same\n",
    "# Note: The use of `x.T` on tensors of dimension other than 2 to reverse their shape is deprecated and it will throw an error in a future release.\n",
    "x = torch.rand(5)\n",
    "y = torch.rand(5)\n",
    "\n",
    "toggle_warnings(False)\n",
    "print(x@y)\n",
    "print(x@y.T)\n",
    "print(x.T@y)\n",
    "print(x.T@y.T)\n",
    "toggle_warnings(True)"
   ]
  },
  {
   "cell_type": "markdown",
   "id": "5053ecf3-125e-4e7a-8ab0-ce3d93624aeb",
   "metadata": {},
   "source": [
    "---\n",
    "\n",
    "## Indexing"
   ]
  },
  {
   "cell_type": "code",
   "execution_count": 39,
   "id": "06c14a7d-28bb-4dea-a65a-1c72f65444ce",
   "metadata": {},
   "outputs": [
    {
     "name": "stdout",
     "output_type": "stream",
     "text": [
      "tensor([100., 100.])\n"
     ]
    }
   ],
   "source": [
    "y = torch.zeros(size=(2,3,4))\n",
    "y[1,1:2,0:4:2] = 100   # slicing - affects original tensor\n",
    "print(y[y>0])          # boolean mask"
   ]
  },
  {
   "cell_type": "code",
   "execution_count": 40,
   "id": "9b99b3e4-eb42-4500-a090-dfe968c52770",
   "metadata": {},
   "outputs": [
    {
     "data": {
      "text/plain": [
       "(tensor([[[0, 4],\n",
       "          [2, 1]],\n",
       " \n",
       "         [[2, 1],\n",
       "          [3, 1]]]),\n",
       " tensor([[0, 4],\n",
       "         [2, 1]]),\n",
       " tensor([[0, 4],\n",
       "         [2, 1]]))"
      ]
     },
     "execution_count": 40,
     "metadata": {},
     "output_type": "execute_result"
    }
   ],
   "source": [
    "# Slicing remaining dimensions\n",
    "M = torch.randint(5, (2,2,2))\n",
    "M, M[0,...], M[0,:,:]   # Both methods are the same."
   ]
  },
  {
   "cell_type": "code",
   "execution_count": 41,
   "id": "8002f8f0-83d3-4906-a389-95b9a2d7be1c",
   "metadata": {},
   "outputs": [
    {
     "name": "stdout",
     "output_type": "stream",
     "text": [
      "tensor([0.7486, 0.3621, 0.3471])\n"
     ]
    }
   ],
   "source": [
    "# Slicing by range\n",
    "x = torch.randn(10)\n",
    "print(x[2:5])  # prints [2,5) = 2,3,4."
   ]
  },
  {
   "cell_type": "code",
   "execution_count": 42,
   "id": "233a5050-f0a1-4c98-925d-88a9e1f4692e",
   "metadata": {},
   "outputs": [
    {
     "name": "stdout",
     "output_type": "stream",
     "text": [
      "tensor([[[-1.2976],\n",
      "         [ 1.0939]],\n",
      "\n",
      "        [[ 0.6332],\n",
      "         [-1.2579]],\n",
      "\n",
      "        [[-0.8041],\n",
      "         [-0.3516]],\n",
      "\n",
      "        [[ 0.5578],\n",
      "         [ 1.0762]],\n",
      "\n",
      "        [[ 0.1451],\n",
      "         [ 0.7080]]])\n"
     ]
    }
   ],
   "source": [
    "# We can slice by defining start, end and jump conditions.\n",
    "\"\"\" start:end:jump \"\"\"\n",
    "x = torch.randn(10,5,2)\n",
    "print(x[1::2, 1::2, 1::2])  # Print only odd number indexes, starting with 1, choosing all (no end index), and jump by 2."
   ]
  },
  {
   "cell_type": "code",
   "execution_count": 43,
   "id": "55bda9d2-f224-4c80-854c-d2e309da5083",
   "metadata": {},
   "outputs": [
    {
     "name": "stdout",
     "output_type": "stream",
     "text": [
      "[*] a:\n",
      "[1, 2, 3, 4, 5]\n",
      "\n",
      "[*] b:\n",
      "[5, 4, 3, 2, 1]\n",
      "\n"
     ]
    }
   ],
   "source": [
    "# Reversing a list\n",
    "a = [1,2,3,4,5]\n",
    "b = a[::-1]\n",
    "nprint('a', a)\n",
    "nprint('b', b)"
   ]
  },
  {
   "cell_type": "code",
   "execution_count": 44,
   "id": "e1f77f7f-6248-4a2b-93df-35bfc350846c",
   "metadata": {},
   "outputs": [
    {
     "data": {
      "text/plain": [
       "tensor([5, 4, 3, 2, 1])"
      ]
     },
     "execution_count": 44,
     "metadata": {},
     "output_type": "execute_result"
    }
   ],
   "source": [
    "# torch.flip(input, dims) → Tensor\n",
    "\"\"\" Reverse the order of an n-D tensor along given axis in dims. \"\"\"\n",
    "a = torch.tensor([1,2,3,4,5])\n",
    "a.flip(dims=(0,))"
   ]
  },
  {
   "cell_type": "code",
   "execution_count": 45,
   "id": "4fe7e69a-9339-4541-a3f5-9460f2485d84",
   "metadata": {},
   "outputs": [
    {
     "name": "stdout",
     "output_type": "stream",
     "text": [
      "tensor([[[  0,   1,   2,   3,   4],\n",
      "         [  5,   6,   7,   8,   9],\n",
      "         [ 10,  11,  12,  13,  14],\n",
      "         [ 15,  16,  17,  18,  19]],\n",
      "\n",
      "        [[ 20,  21, 100, 100, 100],\n",
      "         [ 25,  26,  27,  28,  29],\n",
      "         [ 30,  31, 100, 100, 100],\n",
      "         [ 35,  36,  37,  38,  39]]])\n"
     ]
    }
   ],
   "source": [
    "# View\n",
    "x = torch.arange(2*4*5).reshape(shape=(2,4,5))\n",
    "y = x[:,0::2,2:5] # changing y's values will change x's values\n",
    "y[-1] = 100\n",
    "print(x)   # if we dont want x to change, we could've used clone(): y = x[:,0::2,2:5].clone()"
   ]
  },
  {
   "cell_type": "code",
   "execution_count": 46,
   "id": "dcc7780e-df22-4a5f-b5e2-b2fdf4e361c5",
   "metadata": {},
   "outputs": [
    {
     "name": "stdout",
     "output_type": "stream",
     "text": [
      "tensor([0, 1, 2, 3, 4])\n",
      "tensor([  2, 100])\n"
     ]
    }
   ],
   "source": [
    "# Using a boolean mask will always return a clone hence the original tensor will not be affected!\n",
    "x = torch.arange(5)\n",
    "y = x[(x>=2) & (x<4)]\n",
    "y[-1] = 100\n",
    "print(x, y, sep='\\n')"
   ]
  },
  {
   "cell_type": "markdown",
   "id": "6115f188-4a71-4feb-9b3e-0607cfc98995",
   "metadata": {},
   "source": [
    "---\n",
    "\n",
    "## Tensor Functions"
   ]
  },
  {
   "cell_type": "markdown",
   "id": "00138acc-ba85-466e-8e23-8d8a3811617b",
   "metadata": {},
   "source": [
    "**Note:** A lot of pytorch functions can be used either by:\n",
    "\n",
    "* `torch.func(t, args)`\n",
    "* `t.func(args)`\n",
    "\n",
    "where `t` is a tensor."
   ]
  },
  {
   "cell_type": "markdown",
   "id": "66c1cecc-0c74-455a-8120-c70f7de7ebbf",
   "metadata": {},
   "source": [
    "**Note:** `_` at some function's end means do actions in place and does not make copies. **This may mess up autograd system!**\n",
    "\n",
    "`func_` might be faster than `func`."
   ]
  },
  {
   "cell_type": "code",
   "execution_count": 47,
   "id": "1ec704e6-8186-4e91-9d84-891e25f4bed2",
   "metadata": {},
   "outputs": [
    {
     "name": "stdout",
     "output_type": "stream",
     "text": [
      "[id] 0x1cf8b05a890\n",
      "[id] 0x1cf8b05a890\n",
      "[id] 0x1cf8b029170\n"
     ]
    }
   ],
   "source": [
    "# torch.clone(input, *, memory_format=torch.preserve_format) → Tensor\n",
    "\"\"\" Returns a copy of input. \"\"\"\n",
    "a = torch.randn(10)\n",
    "b = a\n",
    "c = a.clone()\n",
    "print_id(a)\n",
    "print_id(b)\n",
    "print_id(c)"
   ]
  },
  {
   "cell_type": "code",
   "execution_count": 48,
   "id": "31a206d2-9174-493b-b58b-9e9cc2bb4686",
   "metadata": {},
   "outputs": [
    {
     "name": "stdout",
     "output_type": "stream",
     "text": [
      "[id] 0x1cf8b065170\n",
      "[id] 0x1cf8b065210\n",
      "[id] 0x1cf8b065170\n",
      "tensor([2.7183, 2.7183, 2.7183, 2.7183, 2.7183])\n",
      "[id] 0x1cf8b065170\n"
     ]
    }
   ],
   "source": [
    "# In-Place actions\n",
    "x = torch.ones(5)\n",
    "print_id(x)\n",
    "y = torch.exp(x)  # Allocated new memory\n",
    "print_id(y)\n",
    "x[:] = torch.exp(x)  # In-Place action\n",
    "print_id(x)  # id didn't change.\n",
    "x[:] = torch.ones(5)\n",
    "torch.exp_(x)  # In-Place action.\n",
    "print(x)\n",
    "print_id(x)   # ID didn't change"
   ]
  },
  {
   "cell_type": "code",
   "execution_count": 49,
   "id": "19273d54-b509-40b0-936f-af253ec44fba",
   "metadata": {},
   "outputs": [
    {
     "name": "stdout",
     "output_type": "stream",
     "text": [
      "[id] 0x1cf8b064f90\n",
      "[id] 0x1cf8b0653a0\n",
      "[id] 0x1cf8b064f90\n"
     ]
    }
   ],
   "source": [
    "# In-Place actions\n",
    "x = torch.ones(5).reshape(5,1)\n",
    "print_id(x)\n",
    "y = x + x    # Will be a copy\n",
    "print_id(y)\n",
    "x += x       #  same as x[:] = x + x\n",
    "print_id(x)"
   ]
  },
  {
   "cell_type": "code",
   "execution_count": 50,
   "id": "7c723063-12a8-469a-8d91-a0aa9f1eed85",
   "metadata": {},
   "outputs": [
    {
     "name": "stdout",
     "output_type": "stream",
     "text": [
      "[id] 0x1cf8b0456c0\n",
      "[id] 0x1cf8b0456c0\n"
     ]
    }
   ],
   "source": [
    "# Tensor.uniform_(from=0, to=1) → Tensor\n",
    "\"\"\" Fills self tensor with numbers sampled from the continuous uniform distribution U(a, b) \"\"\" \n",
    "a = torch.empty(10)\n",
    "b = a.uniform_(0, 1)\n",
    "print_id(a)\n",
    "print_id(b)"
   ]
  },
  {
   "cell_type": "code",
   "execution_count": 51,
   "id": "06fa1856-8155-4334-95df-03747eadfcb7",
   "metadata": {},
   "outputs": [
    {
     "name": "stdout",
     "output_type": "stream",
     "text": [
      "tensor(4)\n",
      "torch.return_types.max(\n",
      "values=tensor([3, 4]),\n",
      "indices=tensor([1, 1]))\n"
     ]
    }
   ],
   "source": [
    "# torch.max(input) → Tensor\n",
    "\"\"\"\n",
    "Returns the maximum value of all elements in the input tensor.\n",
    "WARNING: This function produces deterministic (sub)gradients unlike max(dim=0)\n",
    "\"\"\"\n",
    "t = torch.tensor([[1,2],[3,4]])\n",
    "print(t.max())\n",
    "print(t.max(dim=0))"
   ]
  },
  {
   "cell_type": "code",
   "execution_count": 52,
   "id": "b9ca8530-b81c-4b7c-96e4-42c3c01bcbd1",
   "metadata": {},
   "outputs": [
    {
     "name": "stdout",
     "output_type": "stream",
     "text": [
      "tensor(1)\n",
      "torch.return_types.min(\n",
      "values=tensor([1, 2]),\n",
      "indices=tensor([0, 0]))\n"
     ]
    }
   ],
   "source": [
    "# torch.min(input) → Tensor\n",
    "\"\"\"\n",
    "Returns the minimum value of all elements in the input tensor.\n",
    "WARNING: This function produces deterministic (sub)gradients unlike min(dim=0)\n",
    "\"\"\"\n",
    "t = torch.tensor([[1,2],[3,4]])\n",
    "print(t.min())\n",
    "print(t.min(dim=0))"
   ]
  },
  {
   "cell_type": "code",
   "execution_count": 53,
   "id": "ccd34490-f2f3-43d2-918b-3e6304e1f0c2",
   "metadata": {},
   "outputs": [
    {
     "name": "stdout",
     "output_type": "stream",
     "text": [
      "[*] t:\n",
      "tensor([[0, 1, 2, 3],\n",
      "        [4, 5, 6, 7]])\n",
      "\n",
      "[*] t.sum():\n",
      "28\n",
      "\n",
      "[*] t.sum(dim=0):\n",
      "tensor([ 4,  6,  8, 10])\n",
      "\n",
      "[*] t.sum(dim=1):\n",
      "tensor([ 6, 22])\n",
      "\n"
     ]
    }
   ],
   "source": [
    "# torch.sum(input, *, dtype=None) → Tensor\n",
    "\"\"\" Returns the sum of all elements in the input tensor. \"\"\"\n",
    "t = torch.arange(8).reshape(2,4)\n",
    "\n",
    "nprint('t', t)\n",
    "nprint('t.sum()', t.sum())             # sum all elements at once\n",
    "nprint('t.sum(dim=0)', t.sum(dim=0))   # Sum by each column\n",
    "nprint('t.sum(dim=1)', t.sum(dim=1))   # sum by rach row"
   ]
  },
  {
   "cell_type": "code",
   "execution_count": 54,
   "id": "6e385bc2-4c1b-40bf-9ecc-4725802c6a0e",
   "metadata": {},
   "outputs": [
    {
     "data": {
      "text/plain": [
       "tensor([ 1,  3,  6, 10, 15])"
      ]
     },
     "execution_count": 54,
     "metadata": {},
     "output_type": "execute_result"
    }
   ],
   "source": [
    "# torch.cumsum(input, dim, *, dtype=None, out=None) → Tensor\n",
    "\"\"\" Returns the cumulative sum of elements of input in the dimension dim. \"\"\"\n",
    "x = torch.tensor([1,2,3,4,5])\n",
    "torch.cumsum(x, dim=0)"
   ]
  },
  {
   "cell_type": "code",
   "execution_count": 55,
   "id": "98483cbb-a2ee-45eb-a4a5-5754e6f3a047",
   "metadata": {},
   "outputs": [
    {
     "data": {
      "text/plain": [
       "tensor([[0.9494, 0.1146],\n",
       "        [1.6477, 0.9188]])"
      ]
     },
     "execution_count": 55,
     "metadata": {},
     "output_type": "execute_result"
    }
   ],
   "source": [
    "# torch.abs(input, *, out=None) → Tensor\n",
    "\"\"\" Computes the absolute value of each element in input. \"\"\"\n",
    "x = torch.randn(2,2)\n",
    "abs(x)"
   ]
  },
  {
   "cell_type": "code",
   "execution_count": 56,
   "id": "47f6a51f-c4aa-4c58-a1d2-8fa7e8a870f3",
   "metadata": {},
   "outputs": [
    {
     "name": "stdout",
     "output_type": "stream",
     "text": [
      "tensor(97.9110)\n",
      "tensor(11.1848)\n",
      "tensor(11.1848)\n",
      "[*] fro norm:\n",
      "11.184823036193848\n",
      "\n",
      "[*] fro norm, for feach matrix:\n",
      "tensor([5.4661, 4.5331, 4.8187, 4.9485, 5.1928])\n",
      "\n",
      "[*] inf norm:\n",
      "2.991684913635254\n",
      "\n",
      "tensor([5.2593, 5.1910, 5.2298, 6.5734, 4.5769])\n",
      "tensor([5.2593, 5.1910, 5.2298, 6.5734, 4.5769])\n"
     ]
    }
   ],
   "source": [
    "# torch.norm(input, p='fro', dim=None, keepdim=False, out=None, dtype=None) → Tensor\n",
    "\"\"\" \n",
    "Returns the matrix norm or vector norm of a given tensor.\n",
    "!!! torch.norm is deprecated and may be removed in a future PyTorch release. !!!\n",
    "Its documentation and behavior may be incorrect, and it is no longer actively maintained. \n",
    "\"\"\"\n",
    "t = torch.randn(5,5,5)\n",
    "\n",
    "# L1 Norm - Also known as the Manhattan norm or the absolute norm, is calculated by summing the absolute values of the elements in a vector.\n",
    "# In the context of L1 regularization, the L1 norm is applied to the model's coefficients to measure their magnitude.\n",
    "print(t.norm(p=1))   # \n",
    "\n",
    "# L2 Norm - Also known as the Euclidean norm, is calculated by taking the square root of the sum of the squared elements in a vector.\n",
    "# In L2 regularization, the L2 norm is applied to the model's coefficients.\n",
    "print(t.norm(p=2))\n",
    "print(torch.linalg.norm(t))\n",
    "\n",
    "\"\"\" In PyTorch, torch.norm(p='fro') and torch.norm(p=2) are equivalent when applied to a tensor, assuming the tensor is a matrix. \"\"\"\n",
    "# The Frobenius norm is a matrix norm that generalizes the concept of the Euclidean norm to matrices.\n",
    "# It calculates the square root of the sum of the squares of all the elements in a matrix. \n",
    "nprint('fro norm', t.norm())   # Default norm. same as norm(p='fro'). Same as torch.linalg.norm(t)\n",
    "nprint('fro norm, for feach matrix', torch.linalg.matrix_norm(t))   # prints the fro norms of all the matrices (5 matrices of 5x5).\n",
    "\n",
    "# Infinity Norm - Vector\n",
    "nprint('inf norm', t.norm(p=float(\"inf\")))\n",
    "\n",
    "# Infinity Norm - Matrix\n",
    "print(torch.linalg.norm(t, ord=float(\"inf\"), dim=(0,1)))          # dim = the dims of the matrix\n",
    "print(torch.linalg.matrix_norm(t, ord=float(\"inf\"), dim=(0,1)))   # dim = the dims of the matrix"
   ]
  },
  {
   "cell_type": "code",
   "execution_count": 57,
   "id": "e0eb333a-6a07-41c0-a568-e1b1d5414f6c",
   "metadata": {},
   "outputs": [
    {
     "name": "stdout",
     "output_type": "stream",
     "text": [
      "tensor([0., 1., 2., 3.])\n",
      "tensor([[0., 1.],\n",
      "        [2., 3.]])\n"
     ]
    }
   ],
   "source": [
    "# torch.reshape(input, shape) → Tensor\n",
    "\"\"\" Returns a tensor with the same data and number of elements as input, but with the specified shape. \"\"\"\n",
    "a = torch.arange(4.)\n",
    "print(a, a.reshape(2, 2), sep='\\n')"
   ]
  },
  {
   "cell_type": "code",
   "execution_count": 58,
   "id": "32176173-8021-4990-ac19-aed5fdee06a1",
   "metadata": {},
   "outputs": [
    {
     "name": "stdout",
     "output_type": "stream",
     "text": [
      "torch.Size([2, 8])\n",
      "torch.Size([8, 2])\n",
      "torch.Size([2, 4, 2])\n"
     ]
    }
   ],
   "source": [
    "# We can use -1 in reshape to automatically allocate the remaining dimension.\n",
    "a = torch.arange(16)\n",
    "print(a.reshape(2,-1).shape)\n",
    "print(a.reshape(-1,2).shape)\n",
    "print(a.reshape(2,-1,2).shape)"
   ]
  },
  {
   "cell_type": "code",
   "execution_count": 59,
   "id": "b90be612-9419-4bc3-875f-ea8a8be37ac4",
   "metadata": {},
   "outputs": [
    {
     "data": {
      "text/plain": [
       "tensor([0, 1, 2, 3, 4, 5, 6, 7])"
      ]
     },
     "execution_count": 59,
     "metadata": {},
     "output_type": "execute_result"
    }
   ],
   "source": [
    "# torch.flatten(input, start_dim=0, end_dim=- 1) → Tensor\n",
    "\"\"\" Flattens input by reshaping it into a one-dimensional tensor. \"\"\"\n",
    "a = torch.arange(8).reshape(2,4)\n",
    "a.flatten()  # same as a.reshape(8)"
   ]
  },
  {
   "cell_type": "code",
   "execution_count": 60,
   "id": "25dd4b64-ecd6-4683-a22a-449835caa735",
   "metadata": {},
   "outputs": [
    {
     "data": {
      "text/plain": [
       "torch.return_types.linalg_eig(\n",
       "eigenvalues=tensor([0.4206+0.j, 0.7291+0.j]),\n",
       "eigenvectors=tensor([[-0.8392+0.j, -0.7643+0.j],\n",
       "        [ 0.5438+0.j, -0.6448+0.j]]))"
      ]
     },
     "execution_count": 60,
     "metadata": {},
     "output_type": "execute_result"
    }
   ],
   "source": [
    "# torch.linalg.eig(A, *, out=None)\n",
    "\"\"\" Computes the eigenvalue decomposition of a square matrix if it exists. \"\"\"\n",
    "A = torch.rand(2,2)\n",
    "torch.linalg.eig(A)  # eigenvalues, eigenvectors"
   ]
  },
  {
   "cell_type": "code",
   "execution_count": 61,
   "id": "58a5a7be-7930-4fdd-b85e-9bf3826a0a3c",
   "metadata": {},
   "outputs": [
    {
     "name": "stdout",
     "output_type": "stream",
     "text": [
      "tensor(False)\n",
      "tensor([True, True, True, True])\n",
      "tensor(True)\n"
     ]
    }
   ],
   "source": [
    "# torch.all(input) → Tensor\n",
    "\"\"\" Tests if all elements in input evaluate to True. \"\"\"\n",
    "x = torch.randn(2,2)\n",
    "print(torch.all(x > 0))\n",
    "x = torch.tensor([1,2,3,4])\n",
    "print(x == x)\n",
    "print(torch.all(x == x))"
   ]
  },
  {
   "cell_type": "code",
   "execution_count": 62,
   "id": "5c6a23ee-78a5-44be-a241-9a7d58d122c8",
   "metadata": {},
   "outputs": [
    {
     "name": "stdout",
     "output_type": "stream",
     "text": [
      "tensor([[   inf,    inf,    inf,    inf, 2.5302, 1.4380,    inf, 0.1959, 1.7737,\n",
      "         1.2605],\n",
      "        [   inf, 1.0709, 1.7831,    inf,    inf, 1.1689,    inf,    inf, 1.3595,\n",
      "         0.0495],\n",
      "        [1.2169, 0.6730,    inf,    inf, 1.4792, 0.8869, 1.6441,    inf,    inf,\n",
      "            inf],\n",
      "        [   inf, 0.7754,    inf,    inf,    inf,    inf,    inf,    inf,    inf,\n",
      "            inf],\n",
      "        [0.3642, 1.5129,    inf, 2.3493,    inf, 1.1838,    inf,    inf,    inf,\n",
      "         1.8712],\n",
      "        [1.1466,    inf,    inf, 0.3648, 0.5414,    inf,    inf, 1.6395,    inf,\n",
      "         0.8692],\n",
      "        [0.1136,    inf, 0.4162,    inf, 0.3148,    inf,    inf, 0.3353,    inf,\n",
      "            inf],\n",
      "        [1.3358,    inf, 0.4298, 0.5939, 0.2569,    inf,    inf,    inf, 0.2395,\n",
      "         0.1142],\n",
      "        [   inf,    inf,    inf,    inf, 0.4932,    inf, 0.5230, 0.6233, 1.0661,\n",
      "            inf],\n",
      "        [1.4528,    inf, 1.6426,    inf,    inf, 1.1095, 0.7392,    inf,    inf,\n",
      "            inf]])\n"
     ]
    }
   ],
   "source": [
    "# torch.where(condition, input, other, *, out=None) → Tensor\n",
    "\"\"\" If condition true, use input. If not, use other. \"\"\"\n",
    "x = torch.randn(10, 10)\n",
    "y = torch.tensor([float(\"inf\")]*100).reshape(10,10)\n",
    "print(torch.where(x > 0, x, y))   # replace negative values in x with corresponding values in y."
   ]
  },
  {
   "cell_type": "code",
   "execution_count": 63,
   "id": "0b7167b4-8bb0-4bae-a9a9-4c1bd534ffab",
   "metadata": {},
   "outputs": [
    {
     "data": {
      "text/plain": [
       "tensor([2.7183, 2.7183, 2.7183, 2.7183, 2.7183])"
      ]
     },
     "execution_count": 63,
     "metadata": {},
     "output_type": "execute_result"
    }
   ],
   "source": [
    "# torch.exp(input, *, out=None) → Tensor\n",
    "\"\"\" Returns a new tensor with the exponential of the elements of the input tensor input. \"\"\"\n",
    "x = torch.ones(5)\n",
    "torch.exp(x)"
   ]
  },
  {
   "cell_type": "code",
   "execution_count": 64,
   "id": "a7b0a7d7-9a09-4439-84b2-20afb5c3e955",
   "metadata": {},
   "outputs": [
    {
     "name": "stdout",
     "output_type": "stream",
     "text": [
      "[*] x:\n",
      "tensor([[1, 2, 3],\n",
      "        [4, 5, 6]])\n",
      "\n",
      "[*] dim0 cat:\n",
      "tensor([[1, 2, 3],\n",
      "        [4, 5, 6],\n",
      "        [1, 2, 3],\n",
      "        [4, 5, 6]])\n",
      "\n",
      "[*] dim1 cat:\n",
      "tensor([[1, 2, 3, 1, 2, 3],\n",
      "        [4, 5, 6, 4, 5, 6]])\n",
      "\n"
     ]
    }
   ],
   "source": [
    "# torch.cat(tensors, dim=0, *, out=None) → Tensor\n",
    "\"\"\"\n",
    "Concatenates the given sequence of seq tensors in the given dimension. \n",
    "All tensors must either have the same shape (except in the concatenating dimension) or be empty.\n",
    "torch.cat() can be seen as an inverse operation for torch.split() and torch.chunk().\n",
    "\"\"\"\n",
    "x = torch.tensor([[1,2,3],[4,5,6]])\n",
    "nprint('x', x)\n",
    "nprint('dim0 cat', torch.cat((x, x)))  # dim=0. concatenate along rows. Result dim = 2+2 = 4 rows.\n",
    "nprint('dim1 cat', torch.cat((x, x), dim=1))  # concatenate along columns. Result dim = 3+3 = 6 columns."
   ]
  },
  {
   "cell_type": "code",
   "execution_count": 65,
   "id": "6ffa3530-9bc0-4f80-ad92-b0b5491b891b",
   "metadata": {},
   "outputs": [
    {
     "name": "stdout",
     "output_type": "stream",
     "text": [
      "[*] x:\n",
      "tensor([[1, 2, 3],\n",
      "        [4, 5, 6]])\n",
      "\n",
      "[*] dim0 stack:\n",
      "tensor([[[1, 2, 3],\n",
      "         [4, 5, 6]],\n",
      "\n",
      "        [[1, 2, 3],\n",
      "         [4, 5, 6]]])\n",
      "\n",
      "[*] dim1 stack:\n",
      "tensor([[[1, 2, 3],\n",
      "         [1, 2, 3]],\n",
      "\n",
      "        [[4, 5, 6],\n",
      "         [4, 5, 6]]])\n",
      "\n",
      "[*] dim2 stack:\n",
      "tensor([[[1, 1],\n",
      "         [2, 2],\n",
      "         [3, 3]],\n",
      "\n",
      "        [[4, 4],\n",
      "         [5, 5],\n",
      "         [6, 6]]])\n",
      "\n"
     ]
    }
   ],
   "source": [
    "# torch.stack(tensors, dim=0, *, out=None) → Tensor\n",
    "\"\"\" Concatenates a sequence of tensors along a new dimension. All tensors need to be of the same size. \"\"\"\n",
    "x = torch.tensor(list(range(1, 7))).reshape(2,3)\n",
    "nprint('x', x)\n",
    "nprint('dim0 stack', torch.stack((x,x)))  # dim = 0\n",
    "nprint('dim1 stack', torch.stack((x,x), dim=1))\n",
    "nprint('dim2 stack', torch.stack((x,x), dim=2))"
   ]
  },
  {
   "cell_type": "code",
   "execution_count": 66,
   "id": "d8fc3152-d665-463c-a135-687d32b7a3a9",
   "metadata": {},
   "outputs": [
    {
     "name": "stdout",
     "output_type": "stream",
     "text": [
      "[*] a:\n",
      "tensor([[0, 1],\n",
      "        [2, 3],\n",
      "        [4, 5],\n",
      "        [6, 7],\n",
      "        [8, 9]])\n",
      "\n",
      "[*] split(a, 2):\n",
      "(tensor([[0, 1],\n",
      "        [2, 3]]), tensor([[4, 5],\n",
      "        [6, 7]]), tensor([[8, 9]]))\n",
      "\n",
      "[*] split(a, [1, 4]):\n",
      "(tensor([[0, 1]]), tensor([[2, 3],\n",
      "        [4, 5],\n",
      "        [6, 7],\n",
      "        [8, 9]]))\n",
      "\n"
     ]
    }
   ],
   "source": [
    "# torch.split(tensor, split_size_or_sections, dim=0)\n",
    "\"\"\" Splits the tensor into chunks. Each chunk is a view of the original ten \"\"\"\n",
    "a = torch.arange(10).reshape(5, 2)\n",
    "nprint('a', a)\n",
    "nprint('split(a, 2)', torch.split(a, 2))\n",
    "nprint('split(a, [1, 4])', torch.split(a, [1, 4]))"
   ]
  },
  {
   "cell_type": "code",
   "execution_count": 67,
   "id": "91df027a-4072-4340-afaa-320b68c02cf7",
   "metadata": {},
   "outputs": [
    {
     "data": {
      "text/plain": [
       "tensor([ True, False, False])"
      ]
     },
     "execution_count": 67,
     "metadata": {},
     "output_type": "execute_result"
    }
   ],
   "source": [
    "# torch.logical_and(input, other, *, out=None) → Tensor\n",
    "\"\"\" Computes the element-wise logical AND of the given input tensors. Zeros are treated as False and nonzeros are treated as True. \"\"\"\n",
    "torch.logical_and(torch.tensor([True, False, True]), torch.tensor([True, False, False]))"
   ]
  },
  {
   "cell_type": "code",
   "execution_count": 68,
   "id": "204ddc92-adf2-4f31-9296-9835a608686d",
   "metadata": {},
   "outputs": [
    {
     "data": {
      "text/plain": [
       "tensor([ True, False,  True])"
      ]
     },
     "execution_count": 68,
     "metadata": {},
     "output_type": "execute_result"
    }
   ],
   "source": [
    "# torch.logical_or(input, other, *, out=None) → Tensor\n",
    "\"\"\" Computes the element-wise logical OR of the given input tensors. Zeros are treated as False and nonzeros are treated as True. \"\"\"\n",
    "torch.logical_or(torch.tensor([True, False, True]), torch.tensor([True, False, False]))"
   ]
  },
  {
   "cell_type": "code",
   "execution_count": 69,
   "id": "08c2ebc0-d41e-4a52-ada2-0861b20d5236",
   "metadata": {},
   "outputs": [
    {
     "name": "stdout",
     "output_type": "stream",
     "text": [
      "torch.Size([1, 3, 1, 3])\n",
      "torch.Size([3, 3])\n"
     ]
    }
   ],
   "source": [
    "# torch.squeeze(input, dim=None) → Tensor\n",
    "\"\"\" Returns a tensor with all specified dimensions of input of size 1 removed. \"\"\"\n",
    "x = torch.ones(1,3,1,3)\n",
    "print(x.shape)\n",
    "x = x.squeeze()\n",
    "print(x.shape)"
   ]
  },
  {
   "cell_type": "code",
   "execution_count": 70,
   "id": "68f53467-a981-4d1b-9b63-e0f008ba2228",
   "metadata": {},
   "outputs": [
    {
     "name": "stdout",
     "output_type": "stream",
     "text": [
      "torch.Size([3, 3])\n",
      "torch.Size([1, 3, 3])\n",
      "torch.Size([1, 3, 1, 3])\n"
     ]
    }
   ],
   "source": [
    "# torch.unsqueeze(input, dim) → Tensor\n",
    "\"\"\" Returns a new tensor with a dimension of size one inserted at the specified position. \"\"\"\n",
    "x = torch.ones(3,3)\n",
    "print(x.shape)\n",
    "x = x.unsqueeze(0)\n",
    "print(x.shape)\n",
    "x = x.unsqueeze(2)\n",
    "print(x.shape)"
   ]
  },
  {
   "cell_type": "markdown",
   "id": "96f844ad-c399-4682-96cf-55c654187fd3",
   "metadata": {},
   "source": [
    "---\n",
    "\n",
    "## Broadcasting\n",
    "\n",
    "<u>Broadcasting Semantics</u>\n",
    "\n",
    "Two tensors are “broadcastable” if When iterating over the dimension sizes, starting at the trailing dimension, the dimension sizes either:\n",
    "* equal\n",
    "* 1\n",
    "* does not exist\n",
    "\n",
    "If two tensors x, y are “broadcastable”, the resulting tensor size is calculated as follows:\n",
    "\n",
    "* If the number of dimensions of x and y are not equal, prepend 1 to the dimensions of the tensor with fewer dimensions to make them equal length.\n",
    "* Then, for each dimension size, the resulting dimension size is the max of the sizes of x and y along that dimension.\n"
   ]
  },
  {
   "cell_type": "code",
   "execution_count": 71,
   "id": "38c61650-d67f-41e3-b7ec-562d6aff86ac",
   "metadata": {},
   "outputs": [
    {
     "name": "stdout",
     "output_type": "stream",
     "text": [
      "tensor([[0, 1, 2],\n",
      "        [0, 1, 2],\n",
      "        [0, 1, 2]])\n",
      "tensor([[ 0,  1, -5],\n",
      "        [ 0,  1, -5],\n",
      "        [ 0,  1, -5]])\n"
     ]
    }
   ],
   "source": [
    "# Tensor.expand_as(other) → Tensor\n",
    "\"\"\" Expand this tensor to the same size as other. self.expand_as(other) is equivalent to self.expand(other.size()). \"\"\"\n",
    "A = torch.arange(9).reshape(3,3)\n",
    "B = torch.arange(3)\n",
    "C = B.expand_as(A)  # Broadcasting B. Important note: each expanded row is a view! Use clone() if necessary!\n",
    "print(C)\n",
    "C[-1][-1] = -5   # All rows have changed instead of the last element!\n",
    "print(C)"
   ]
  },
  {
   "cell_type": "code",
   "execution_count": 72,
   "id": "20e06ccb-74fc-426b-9570-7568402bcffc",
   "metadata": {},
   "outputs": [
    {
     "data": {
      "text/plain": [
       "tensor([[ 0,  1, -5],\n",
       "        [ 0,  1, -5],\n",
       "        [ 0,  1, -5],\n",
       "        [ 0,  1, -5],\n",
       "        [ 0,  1, -5]])"
      ]
     },
     "execution_count": 72,
     "metadata": {},
     "output_type": "execute_result"
    }
   ],
   "source": [
    "# Tensor.expand(*sizes) → Tensor\n",
    "\"\"\" Returns a new view of the self tensor with singleton dimensions expanded to a larger size. \"\"\"\n",
    "B.expand(5,3)"
   ]
  },
  {
   "cell_type": "code",
   "execution_count": 73,
   "id": "f89e76d5-8a99-4b81-a368-272b5a74e23b",
   "metadata": {},
   "outputs": [
    {
     "name": "stdout",
     "output_type": "stream",
     "text": [
      "[*] x:\n",
      "tensor([[0, 1, 2]])\n",
      "\n",
      "[*] y:\n",
      "tensor([[0],\n",
      "        [1]])\n",
      "\n",
      "[*] a:\n",
      "tensor([[0, 1, 2],\n",
      "        [0, 1, 2]])\n",
      "\n",
      "[*] b:\n",
      "tensor([[0, 0, 0],\n",
      "        [1, 1, 1]])\n",
      "\n"
     ]
    }
   ],
   "source": [
    "# torch.broadcast_tensors(*tensors) → List of Tensors\n",
    "\"\"\" Broadcasts the given tensors according to Broadcasting semantics. \"\"\"\n",
    "x = torch.arange(3).view(1, 3)\n",
    "y = torch.arange(2).view(2, 1)\n",
    "a, b = torch.broadcast_tensors(x, y)\n",
    "nprint('x', x)\n",
    "nprint('y', y)\n",
    "nprint('a', a)\n",
    "nprint('b', b)"
   ]
  },
  {
   "cell_type": "code",
   "execution_count": 74,
   "id": "4f688883-aacd-46f0-a526-ccf6f811eaf9",
   "metadata": {},
   "outputs": [
    {
     "data": {
      "text/plain": [
       "torch.Size([1, 3, 2])"
      ]
     },
     "execution_count": 74,
     "metadata": {},
     "output_type": "execute_result"
    }
   ],
   "source": [
    "# torch.broadcast_shapes(*shapes) → Size\n",
    "\"\"\" Similar to broadcast_tensors() but for shapes. \"\"\"\n",
    "torch.broadcast_shapes((2,), (3, 1), (1, 1, 1))"
   ]
  },
  {
   "cell_type": "code",
   "execution_count": 75,
   "id": "a533be18-692b-40ce-88e4-99696fe8f037",
   "metadata": {},
   "outputs": [],
   "source": [
    "def expand_as(A, B):\n",
    "    \"\"\" Maman 11 - expand_as implementation. Expand A's dimensions to B's dimensions. \"\"\"\n",
    "    dims_A  = list(A.shape)[::-1]  # Reversed list of A's dimensions.\n",
    "    dims_B  = list(B.shape)[::-1]  # Reversed list of B's dimensions.\n",
    "    len_A   = A.dim()              # Dimensions list size of A.\n",
    "    len_B   = B.dim()              # Dimensions list size of B.\n",
    "    min_len = min(len_A, len_B)    # min number of dimensions lengths.\n",
    "    \n",
    "    # Expandable Validation\n",
    "    if len_A > len_B:\n",
    "        raise RuntimeError(f\"The number of sizes provided ({len_B}) must be greater or equal to the number of dimensions in the tensor ({len_A})\")\n",
    "    for i in range(min_len):  # Iterate the reversed lists until one of them has reached its end.\n",
    "        if (dims_A[i] == 1):\n",
    "            continue  # If A's dim = 1, it can be expanded to any dimension.\n",
    "        elif (dims_A[i] != dims_B[i]):\n",
    "            raise RuntimeError(f\"The expanded size of the tensor ({dims_B[i]}) must match the existing size ({dims_A[i]}) at non-singleton dimension\")\n",
    "            \n",
    "    # Validation iteration done. A can be expanded as B at this point.\n",
    "    dims_C = dims_A + [1] * (len_B - len_A)  # If len_A > len_B, excpetion would be thrown at the validation section.\n",
    "    dims_C[:] = dims_C[::-1]   # Unreverse.\n",
    "    dims_B[:] = dims_B[::-1]   # Unreverse.\n",
    "    C = A.clone().reshape(dims_C)  # Make a new copy with added dimensions.\n",
    "    for i in range(C.dim()):\n",
    "        if dims_C[i] == dims_B[i]: # no action required.\n",
    "            continue\n",
    "        C = torch.cat([C]*dims_B[i], i)   # Duplicate values to match expanded dimension.\n",
    "        \n",
    "    return C"
   ]
  },
  {
   "cell_type": "code",
   "execution_count": 76,
   "id": "fed436a0-700a-4172-bff4-ff8c15f54c96",
   "metadata": {},
   "outputs": [],
   "source": [
    "def broadcastable(A, B):\n",
    "    \"\"\"  Maman 11 - Iterate dimensions (From the end) and check wheter A, B are suitable for broadcasting together. \"\"\"\n",
    "    dims_A  = list(A.shape)[::-1]  # Reversed list of A's dimensions.\n",
    "    dims_B  = list(B.shape)[::-1]  # Reversed list of B's dimensions.\n",
    "    len_A   = A.dim()              # Dimensions list size of A.\n",
    "    len_B   = B.dim()              # Dimensions list size of B.\n",
    "    min_len = min(len_A, len_B)    # min number of dimensions lengths.\n",
    "    \n",
    "    for i in range(min_len):  # Iterate the reversed lists until one of them has reached its end.\n",
    "        if (dims_A[i] == 1) or (dims_B[i] == 1):\n",
    "            continue  # Dimension = 1 is broadcastable with any dimension.\n",
    "        elif (dims_A[i] != dims_B[i]):\n",
    "            return False   # dimension mismatch.\n",
    "    \n",
    "    # Add the tail dimensions.\n",
    "    if len_A > len_B:\n",
    "        dims_B += dims_A[len_B:]\n",
    "    elif len_B > len_A:\n",
    "        dims_A += dims_B[len_A:]\n",
    "    dims = numpy.maximum(dims_A, dims_B)[::-1]  # Use numpy to get max dimensions list.\n",
    "    \n",
    "    return True, torch.Size(dims)    # Convert to torch.Size to match torch.broadcast_shapes function."
   ]
  },
  {
   "cell_type": "code",
   "execution_count": 77,
   "id": "5b5ac66d-46e6-44af-9469-78098bc4b602",
   "metadata": {},
   "outputs": [
    {
     "data": {
      "text/plain": [
       "tensor([3, 2, 3])"
      ]
     },
     "execution_count": 77,
     "metadata": {},
     "output_type": "execute_result"
    }
   ],
   "source": [
    "A = torch.tensor([1, 2, 3])\n",
    "B = torch.tensor([3, 2, 1])\n",
    "torch.max(A,B)"
   ]
  },
  {
   "cell_type": "code",
   "execution_count": 78,
   "id": "1fac90e8-7703-4ad5-9617-815a28481231",
   "metadata": {},
   "outputs": [],
   "source": [
    "def broadcast_tensors(A, B):\n",
    "    \"\"\" Maman 11 - Check if tensors are broadcastable. If not, raise exception. If they are, return broadcasted result. \"\"\"\n",
    "    res = broadcastable(A, B)\n",
    "    if not res:\n",
    "        raise RuntimeError(f\"Tenser {A.shape} is not broadcastable with {B.shape}.\")\n",
    "    \n",
    "    dummy = torch.ones(res[1])      # Dummy tensor of broadcasted dimensions.\n",
    "    br_A  = expand_as(A, dummy)\n",
    "    br_B  = expand_as(B, dummy)\n",
    "    \n",
    "    return br_A, br_B"
   ]
  },
  {
   "cell_type": "markdown",
   "id": "6f6a299b-1d74-4e5b-ada4-67db354bf4f2",
   "metadata": {},
   "source": [
    "---\n",
    "\n",
    "## Gradient"
   ]
  },
  {
   "cell_type": "code",
   "execution_count": 79,
   "id": "331088cf-8583-4f70-8d61-29c4aa744eb4",
   "metadata": {},
   "outputs": [
    {
     "name": "stdout",
     "output_type": "stream",
     "text": [
      "[*] x:\n",
      "tensor([2.], requires_grad=True)\n",
      "\n"
     ]
    }
   ],
   "source": [
    "# Is True if gradients need to be computed for this Tensor. \n",
    "x = torch.tensor([2.], requires_grad=True)\n",
    "nprint('x', x)\n",
    "y = x**2\n",
    "z = y + x"
   ]
  },
  {
   "cell_type": "code",
   "execution_count": 80,
   "id": "63765ef4-a090-4ebd-aafa-696b5930351e",
   "metadata": {},
   "outputs": [
    {
     "name": "stdout",
     "output_type": "stream",
     "text": [
      "[*] x.grad:\n",
      "tensor([5.])\n",
      "\n"
     ]
    }
   ],
   "source": [
    "# torch.autograd.backward(tensors, grad_tensors=None, retain_graph=None, create_graph=False, grad_variables=None, inputs=None)\n",
    "\"\"\" Computes the sum of gradients of given tensors with respect to graph leaves. \"\"\"\n",
    "z.backward()\n",
    "nprint('x.grad', x.grad)"
   ]
  },
  {
   "cell_type": "code",
   "execution_count": 81,
   "id": "770fcaf0-3d5d-4409-b180-612cc8ecad97",
   "metadata": {},
   "outputs": [
    {
     "name": "stdout",
     "output_type": "stream",
     "text": [
      "tensor([3., 2.])\n"
     ]
    }
   ],
   "source": [
    "x = torch.tensor([2.,3.],requires_grad=True)\n",
    "y = x[0]*x[1]\n",
    "y.backward()\n",
    "print(x.grad)"
   ]
  },
  {
   "cell_type": "code",
   "execution_count": 82,
   "id": "b0eac7bb-6ff6-44ad-b0a2-1096530c75bf",
   "metadata": {},
   "outputs": [
    {
     "name": "stdout",
     "output_type": "stream",
     "text": [
      "Trying to backward through the graph a second time (or directly access saved tensors after they have already been freed). Saved intermediate values of the graph are freed when you call .backward() or autograd.grad(). Specify retain_graph=True if you need to backward through the graph a second time or if you need to access saved tensors after calling backward.\n"
     ]
    }
   ],
   "source": [
    "# Cannot call backward() for the second time - the resources are freed.\n",
    "try:\n",
    "    y.backward()\n",
    "except Exception as e:\n",
    "    print(e)"
   ]
  },
  {
   "cell_type": "code",
   "execution_count": 83,
   "id": "127471b9-ab4c-490d-94c9-a7b7f19da706",
   "metadata": {},
   "outputs": [
    {
     "name": "stdout",
     "output_type": "stream",
     "text": [
      "tensor([6., 4.])\n"
     ]
    }
   ],
   "source": [
    "# We can call backward for the 2nd time if we used retain_graph=True\n",
    "x = torch.tensor([2.,3.],requires_grad=True)\n",
    "y = x[0]*x[1]\n",
    "y.backward(retain_graph=True)\n",
    "y.backward()\n",
    "print(x.grad)"
   ]
  },
  {
   "cell_type": "code",
   "execution_count": 84,
   "id": "b6059931-d4bb-44b0-af49-cd5b7f3778b6",
   "metadata": {},
   "outputs": [
    {
     "name": "stdout",
     "output_type": "stream",
     "text": [
      "tensor([6., 4.], grad_fn=<CopyBackwards>)\n"
     ]
    }
   ],
   "source": [
    "# We can call backward for the 2nd time if we used create_graph=True\n",
    "x = torch.tensor([2.,3.],requires_grad=True)\n",
    "y = x[0]*x[1]\n",
    "toggle_warnings(False)\n",
    "y.backward(create_graph=True)\n",
    "toggle_warnings(True)\n",
    "y.backward()\n",
    "print(x.grad)"
   ]
  },
  {
   "cell_type": "code",
   "execution_count": 85,
   "id": "abb6dde6-e360-4b42-900d-beb7f377ed22",
   "metadata": {},
   "outputs": [
    {
     "name": "stdout",
     "output_type": "stream",
     "text": [
      "tensor([5.], grad_fn=<CopyBackwards>)\n"
     ]
    }
   ],
   "source": [
    "\"\"\" \n",
    "Create_graph - If True, graph of the derivative will be constructed, allowing to compute higher order derivative products. Defaults to False.\n",
    "Using backward() with create_graph=True will create a reference cycle between the parameter and its gradient which can cause a memory leak. \n",
    "It's recommended using autograd.grad when creating the graph to avoid this. \n",
    "If you have to use this function, make sure to reset the .grad fields of your parameters to None after use to break the cycle and avoid the leak. \n",
    "\"\"\"\n",
    "x = torch.tensor([2.], requires_grad=True)\n",
    "y = x**2\n",
    "z = y + x\n",
    "toggle_warnings(False)\n",
    "z.backward(create_graph=True)\n",
    "toggle_warnings(True)\n",
    "print(x.grad)  #  grad_fn=<CopyBackwards> this means x.grad is monitored. it's also a tensor.\n",
    "x.grad = None  # Now we can call backward for the 2nd time becase we've set x.grad = None & 1st backward was with create_graph=True."
   ]
  },
  {
   "cell_type": "code",
   "execution_count": 86,
   "id": "49550a1d-69ad-468c-a63d-bc5004c09f30",
   "metadata": {},
   "outputs": [
    {
     "name": "stdout",
     "output_type": "stream",
     "text": [
      "tensor(1.)\n"
     ]
    }
   ],
   "source": [
    "# Tensor.retain_grad() → None\n",
    "\"\"\" Enables this Tensor to have their grad populated during backward(). This is a no-op for leaf tensors. \"\"\"\n",
    "x = torch.tensor(2., requires_grad=True)\n",
    "y=x**2\n",
    "y.retain_grad()   # keep grad of y. Middle nodes grads are freed by default.\n",
    "z=y+x\n",
    "z.backward()   # z = x^2 + x => z' = 2x + 1 => z'(2) = 5  => x.grad = 5..\n",
    "print(y.grad)  "
   ]
  },
  {
   "cell_type": "code",
   "execution_count": 87,
   "id": "ce77261c-5725-4ba5-aea8-fcafdda95fbb",
   "metadata": {},
   "outputs": [
    {
     "name": "stdout",
     "output_type": "stream",
     "text": [
      "None\n"
     ]
    }
   ],
   "source": [
    "# Without retain_grad()\n",
    "x = torch.tensor(2., requires_grad=True)\n",
    "y=x**2\n",
    "z=y+x\n",
    "z.backward()   # z = x^2 + x => z' = 2x + 1 => z'(2) = 5  => x.grad = 5..\n",
    "toggle_warnings(False)\n",
    "print(y.grad)\n",
    "toggle_warnings(True)"
   ]
  },
  {
   "cell_type": "code",
   "execution_count": 88,
   "id": "45bb676e-c0bb-4e9e-8979-690fdea991c7",
   "metadata": {},
   "outputs": [
    {
     "name": "stdout",
     "output_type": "stream",
     "text": [
      "[*] w:\n",
      "25.0\n",
      "\n",
      "[*] s:\n",
      "25.0\n",
      "\n"
     ]
    }
   ],
   "source": [
    "# Tensor.detach()\n",
    "\"\"\" Returns a new Tensor, detached from the current graph. The result will never require gradient. \"\"\"\n",
    "x = torch.tensor([2.,3.],requires_grad=True)\n",
    "y = torch.tensor([4.,5.],requires_grad=True)\n",
    "w = x.sum()**2\n",
    "s = w.detach()\n",
    "nprint('w', w)\n",
    "nprint('s', s)"
   ]
  },
  {
   "cell_type": "code",
   "execution_count": 89,
   "id": "56b10090-969c-43fa-870a-cc985eca9c14",
   "metadata": {},
   "outputs": [],
   "source": [
    "# Context-manager that disabled gradient calculation. In this mode, the result of every computation will have requires_grad=False.\n",
    "with torch.no_grad():\n",
    "    pass"
   ]
  },
  {
   "cell_type": "markdown",
   "id": "704ca7d1-024b-4db0-8de4-d259ea43ee08",
   "metadata": {
    "tags": []
   },
   "source": [
    "---\n",
    "\n",
    "## Datasets"
   ]
  },
  {
   "cell_type": "code",
   "execution_count": 90,
   "id": "a177ce98-c4f3-4a4e-97c2-0262153de792",
   "metadata": {},
   "outputs": [
    {
     "name": "stdout",
     "output_type": "stream",
     "text": [
      "[*] Fashion MNIST Classes:\n",
      "['T-shirt/top', 'Trouser', 'Pullover', 'Dress', 'Coat', 'Sandal', 'Shirt', 'Sneaker', 'Bag', 'Ankle boot']\n",
      "\n",
      "<PIL.Image.Image image mode=L size=28x28 at 0x1CF8B08D960>\n",
      "Ankle boot\n"
     ]
    }
   ],
   "source": [
    "import torchvision\n",
    "# torchvision.datasets.FashionMNIST(root: str, train: bool = True, transform: Optional[Callable] = None, target_transform: Optional[Callable] = None, download: bool = False)\n",
    "\"\"\" Fashion-MNIST Dataset. \"\"\"\n",
    "train_data = torchvision.datasets.FashionMNIST(root=\".cache\", train=True, download=True)\n",
    "nprint(\"Fashion MNIST Classes\", train_data.classes)\n",
    "\n",
    "item, item_class = train_data[0]\n",
    "print(item)\n",
    "print(train_data.classes[item_class])  # Printing image's class"
   ]
  },
  {
   "cell_type": "code",
   "execution_count": 91,
   "id": "2c186b89-a21e-4b08-bbe6-c47123a91331",
   "metadata": {},
   "outputs": [
    {
     "data": {
      "text/plain": [
       "<matplotlib.image.AxesImage at 0x1cfa4d414e0>"
      ]
     },
     "execution_count": 91,
     "metadata": {},
     "output_type": "execute_result"
    },
    {
     "data": {
      "image/png": "[encoded data removed]",
      "text/plain": [
       "<Figure size 100x100 with 1 Axes>"
      ]
     },
     "metadata": {},
     "output_type": "display_data"
    }
   ],
   "source": [
    "plt.figure(figsize=(1,1))\n",
    "plt.axis('off')\n",
    "plt.imshow(item)"
   ]
  },
  {
   "cell_type": "code",
   "execution_count": 92,
   "id": "36073a59-006c-461c-bd3f-cb6d14ff4316",
   "metadata": {},
   "outputs": [
    {
     "name": "stdout",
     "output_type": "stream",
     "text": [
      "<class 'torch.Tensor'> torch.Size([1, 28, 28]) torch.uint8\n"
     ]
    }
   ],
   "source": [
    "# torchvision.transforms.PILToTensor\n",
    "\"\"\" Convert a PIL Image to a tensor of the same type - this does not scale values. \"\"\"\n",
    "transform = torchvision.transforms.PILToTensor()\n",
    "img = transform(item)\n",
    "print(type(img), img.size(), img.dtype)"
   ]
  },
  {
   "cell_type": "code",
   "execution_count": 93,
   "id": "9973fbce-ca72-4aea-acd7-5feef4837072",
   "metadata": {},
   "outputs": [
    {
     "data": {
      "text/plain": [
       "<matplotlib.image.AxesImage at 0x1cfa4e3cc70>"
      ]
     },
     "execution_count": 93,
     "metadata": {},
     "output_type": "execute_result"
    },
    {
     "data": {
      "image/png": "[encoded data removed]",
      "text/plain": [
       "<Figure size 100x100 with 1 Axes>"
      ]
     },
     "metadata": {},
     "output_type": "display_data"
    }
   ],
   "source": [
    "plt.figure(figsize=(1,1))\n",
    "plt.axis('off')\n",
    "plt.imshow(img.squeeze())  # we need to remove first dim '1'."
   ]
  },
  {
   "cell_type": "markdown",
   "id": "9f2c2cc3-ce44-463c-9fd1-072e941e8755",
   "metadata": {},
   "source": [
    "`PILtoTensor` uses ints [0-255] and doesn't normalize to [0, 1]. Use `ToTensor` instead."
   ]
  },
  {
   "cell_type": "code",
   "execution_count": 94,
   "id": "7a8ca355-bbf9-494c-843a-f6609f7b4206",
   "metadata": {},
   "outputs": [
    {
     "name": "stdout",
     "output_type": "stream",
     "text": [
      "<class 'torch.Tensor'> torch.Size([1, 28, 28]) torch.float32\n"
     ]
    }
   ],
   "source": [
    "# torchvision.transforms.ToTensor\n",
    "\"\"\" Convert a PIL Image or ndarray to tensor and scale the values accordingly. \"\"\"\n",
    "transform = torchvision.transforms.ToTensor()\n",
    "img = transform(item)\n",
    "print(type(img), img.size(), img.dtype)"
   ]
  },
  {
   "cell_type": "code",
   "execution_count": 95,
   "id": "bf3d684d-fc8f-45ff-9c55-959cfec58b80",
   "metadata": {},
   "outputs": [
    {
     "data": {
      "text/plain": [
       "<matplotlib.image.AxesImage at 0x1cfa6d0ac80>"
      ]
     },
     "execution_count": 95,
     "metadata": {},
     "output_type": "execute_result"
    },
    {
     "data": {
      "image/png": "[encoded data removed]",
      "text/plain": [
       "<Figure size 100x100 with 1 Axes>"
      ]
     },
     "metadata": {},
     "output_type": "display_data"
    }
   ],
   "source": [
    "plt.figure(figsize=(1,1))\n",
    "plt.axis('off')\n",
    "plt.imshow(img.squeeze())  # we need to remove first dim '1'."
   ]
  },
  {
   "cell_type": "code",
   "execution_count": 96,
   "id": "3ae8f373-69a1-41c0-878f-d569c38b77c7",
   "metadata": {},
   "outputs": [],
   "source": [
    "# We can transform in during the constructor\n",
    "train_data = torchvision.datasets.FashionMNIST(root=\".cache\", train=True, download=True, transform=torchvision.transforms.ToTensor())"
   ]
  },
  {
   "cell_type": "code",
   "execution_count": 97,
   "id": "0906212c-9d05-44c9-9d68-adbe7bcd232d",
   "metadata": {},
   "outputs": [
    {
     "name": "stdout",
     "output_type": "stream",
     "text": [
      "4 tensor([9, 0, 0, 3])\n"
     ]
    }
   ],
   "source": [
    "# torch.utils.data.DataLoader(dataset, batch_size=1, ...)\n",
    "\"\"\" Data loader. Combines a dataset and a sampler, and provides an iterable over the given dataset. \"\"\"\n",
    "from torch.utils.data import DataLoader\n",
    "train_dataloader = DataLoader(train_data, batch_size=4)  \n",
    "iterator = iter(train_dataloader)    # this iterator will return 4 samples for each increment\n",
    "imgs, labels = next(iterator)\n",
    "print(len(imgs), labels)"
   ]
  },
  {
   "cell_type": "code",
   "execution_count": 98,
   "id": "05f3841c-c5c3-47ad-a551-c4d9b5c70b65",
   "metadata": {},
   "outputs": [],
   "source": [
    "# We can iterate directly on the data loader\n",
    "for imgs, labels in train_dataloader:\n",
    "    # we get 4 images each time\n",
    "    pass\n",
    "\n",
    "# If we want the index as well, we can use enumerate\n",
    "for batch_idx, (imgs, labels) in enumerate(train_dataloader):\n",
    "    # we get 4 images each time\n",
    "    pass"
   ]
  },
  {
   "cell_type": "code",
   "execution_count": 99,
   "id": "a26c900d-c227-4c60-b041-a5beab78428b",
   "metadata": {},
   "outputs": [
    {
     "name": "stdout",
     "output_type": "stream",
     "text": [
      "tensor([[[0., 0., 0.,  ..., 0., 0., 0.],\n",
      "         [0., 0., 0.,  ..., 0., 0., 0.],\n",
      "         [0., 0., 0.,  ..., 0., 0., 0.],\n",
      "         ...,\n",
      "         [0., 0., 0.,  ..., 0., 0., 0.],\n",
      "         [0., 0., 0.,  ..., 0., 0., 0.],\n",
      "         [0., 0., 0.,  ..., 0., 0., 0.]]])\n"
     ]
    }
   ],
   "source": [
    "\"\"\" transformations \"\"\"\n",
    "import torchvision.transforms as T\n",
    "\n",
    "toggle_warnings(False)\n",
    "resize = T.Resize(256)\n",
    "new_img = resize(img)\n",
    "transforms = T.Compose([T.Resize(256),\n",
    "T.RandomCrop(224),\n",
    "T.RandomHorizontalFlip(0.5),\n",
    "T.RandomRotation(30),\n",
    "T.RandomPerspective(distortion_scale=0.3, p=0.5)])\n",
    "print(transforms(img))\n",
    "toggle_warnings(True)"
   ]
  },
  {
   "cell_type": "code",
   "execution_count": 100,
   "id": "3d99d10e-a3fc-4603-8b3a-3a29ec698ade",
   "metadata": {},
   "outputs": [
    {
     "name": "stderr",
     "output_type": "stream",
     "text": [
      "Found cached dataset glue (D:/OneDriveEducation/MSc/22961 - Deep Learning/Notes/.cache/glue/sst2/1.0.0/dacbe3125aa31d7f70367a07a8a9e72a5a0bfeb5fc42e75c9db75b96da6053ad)\n"
     ]
    },
    {
     "data": {
      "application/vnd.jupyter.widget-view+json": {
       "model_id": "7e84315c28434504af7c9ba149c213bf",
       "version_major": 2,
       "version_minor": 0
      },
      "text/plain": [
       "  0%|          | 0/3 [00:00<?, ?it/s]"
      ]
     },
     "metadata": {},
     "output_type": "display_data"
    },
    {
     "name": "stdout",
     "output_type": "stream",
     "text": [
      "contains no wit , only labored gags \n",
      "0\n"
     ]
    }
   ],
   "source": [
    "import datasets as ds  # Not standard. must be installed.\n",
    "dataset = ds.load_dataset(\"glue\", \"sst2\", cache_dir=\".cache\")\n",
    "sentence_list = dataset[\"train\"][\"sentence\"]\n",
    "labels_list   = dataset[\"train\"][\"label\"]\n",
    "print(sentence_list[1],labels_list[1],sep=\"\\n\")"
   ]
  },
  {
   "cell_type": "markdown",
   "id": "01734f1b-2f0f-46a3-8424-c349e0db3af1",
   "metadata": {},
   "source": [
    "---\n",
    "\n",
    "## Activation Functions"
   ]
  },
  {
   "cell_type": "code",
   "execution_count": 101,
   "id": "58e13697-6753-4e0c-8803-fa903794dddb",
   "metadata": {},
   "outputs": [],
   "source": [
    "from torch import nn   # NN building blocks"
   ]
  },
  {
   "cell_type": "code",
   "execution_count": 102,
   "id": "e6c37035-7f4e-4c6a-9cd7-a540177e7afe",
   "metadata": {},
   "outputs": [
    {
     "data": {
      "text/plain": [
       "Sigmoid()"
      ]
     },
     "execution_count": 102,
     "metadata": {},
     "output_type": "execute_result"
    }
   ],
   "source": [
    "# torch.nn.Sigmoid(*args, **kwargs)\n",
    "\n",
    "nn.Sigmoid()"
   ]
  },
  {
   "cell_type": "code",
   "execution_count": 103,
   "id": "35096899-2a1b-48f3-9f59-319facd6847a",
   "metadata": {},
   "outputs": [
    {
     "data": {
      "text/plain": [
       "ReLU()"
      ]
     },
     "execution_count": 103,
     "metadata": {},
     "output_type": "execute_result"
    }
   ],
   "source": [
    "# torch.nn.ReLU(inplace=False)\n",
    "\n",
    "nn.ReLU()"
   ]
  },
  {
   "cell_type": "code",
   "execution_count": 104,
   "id": "7930cd4d-f4e7-4f09-ac16-6811416c1935",
   "metadata": {},
   "outputs": [
    {
     "name": "stdout",
     "output_type": "stream",
     "text": [
      "tensor([[ 0.8302, -0.3834, -0.4182, -2.5058,  0.5465,  1.0004],\n",
      "        [ 0.8964, -0.0165, -1.5595,  0.9180, -0.0855,  0.3434],\n",
      "        [ 0.7533, -0.4544, -0.1926,  0.3707, -0.4360,  0.3800]])\n",
      "Max value: 1.000368356704712, argmax: 5\n",
      "argmax(dim=1): tensor([5, 3, 0])\n"
     ]
    }
   ],
   "source": [
    "# torch.argmax(input) → LongTensor\n",
    "\"\"\" Returns the indices of the maximum value of all elements in the input tensor. \"\"\"\n",
    "a = torch.randn(3,6)\n",
    "print(a)\n",
    "print(f\"Max value: {torch.max(a)}, argmax: {torch.argmax(a)}\")\n",
    "print(f\"argmax(dim=1): {torch.argmax(a, dim=1)}\")   # Iterate columns. Extract max index for each row."
   ]
  },
  {
   "cell_type": "code",
   "execution_count": 105,
   "id": "10a3edf4-45bb-4bff-82a8-e6a4743c6944",
   "metadata": {},
   "outputs": [
    {
     "name": "stdout",
     "output_type": "stream",
     "text": [
      "[*] z:\n",
      "tensor([[0., 0., 0.],\n",
      "        [0., 0., 0.]])\n",
      "\n",
      "[*] dim=0:\n",
      "tensor([[0.5000, 0.5000, 0.5000],\n",
      "        [0.5000, 0.5000, 0.5000]])\n",
      "\n",
      "[*] dim=1:\n",
      "tensor([[0.3333, 0.3333, 0.3333],\n",
      "        [0.3333, 0.3333, 0.3333]])\n",
      "\n"
     ]
    }
   ],
   "source": [
    "# torch.nn.Softmax(dim=None)\n",
    "\"\"\" Applies the Softmax function to an n-dimensional input Tensor rescaling them so that the elements of the n-dimensional output Tensor lie in the range [0,1] and sum to 1. \"\"\"\n",
    "# softmax(x_i) = exp(x_i) / sum_j(torch.exp(x_j), axis)\n",
    "\n",
    "z = torch.zeros(2,3)   #   ln (1) = np.log(1) = 0;\n",
    "nprint('z', z)\n",
    "\n",
    "\"\"\" e^0 = 1 \"\"\"\n",
    "# dim=0 -> iterating rows: (1/(1+1)) = 0.5\n",
    "f = nn.Softmax(dim=0)\n",
    "nprint('dim=0', f(z))\n",
    "\n",
    "# dim=1 -> iterating columns: (1/(1+1+1)) = 0.333\n",
    "f = nn.Softmax(dim=1)\n",
    "nprint('dim=1', f(z))"
   ]
  },
  {
   "cell_type": "code",
   "execution_count": 106,
   "id": "b3b6a3f8-19ef-4d22-9e58-223ba14cedf0",
   "metadata": {},
   "outputs": [
    {
     "name": "stdout",
     "output_type": "stream",
     "text": [
      "[*] dim=0:\n",
      "tensor([[-0.6931, -0.6931, -0.6931],\n",
      "        [-0.6931, -0.6931, -0.6931]])\n",
      "\n",
      "[*] dim=1:\n",
      "tensor([[-1.0986, -1.0986, -1.0986],\n",
      "        [-1.0986, -1.0986, -1.0986]])\n",
      "\n"
     ]
    }
   ],
   "source": [
    "# torch.nn.LogSoftmax(dim=None)\n",
    "\"\"\" Applies the log(Softmax(x)) function to an n-dimensional input Tensor. \"\"\"\n",
    "z = torch.zeros(2,3)\n",
    "\n",
    "f = nn.LogSoftmax(dim=0)\n",
    "nprint('dim=0', f(z))\n",
    "\n",
    "f = nn.LogSoftmax(dim=1)\n",
    "nprint('dim=1', f(z))"
   ]
  },
  {
   "cell_type": "markdown",
   "id": "ed1538a9-d435-46d6-aa03-c79b26c66977",
   "metadata": {},
   "source": [
    "The `LogSoftmax` is good if we receive probabilities that are near 0 with `Softmax`. \n",
    "\n",
    "This is because `log(e^x) = x`. We will not receive `log(0) = NaN`.\n",
    "\n",
    "Another advantage is that we will receive a more accurate result. "
   ]
  },
  {
   "cell_type": "code",
   "execution_count": 107,
   "id": "9d1f71f8-602d-4fa5-8a59-66a05aaa1ea4",
   "metadata": {},
   "outputs": [
    {
     "data": {
      "text/plain": [
       "NLLLoss()"
      ]
     },
     "execution_count": 107,
     "metadata": {},
     "output_type": "execute_result"
    }
   ],
   "source": [
    "# torch.nn.NLLLoss(weight=None, size_average=None, ignore_index=- 100, reduce=None, reduction='mean')\n",
    "\"\"\" The negative log likelihood loss. It is useful to train a classification problem with C classes. \"\"\"\n",
    "# Input = LogSoftmax, Output = Cross Entropy\n",
    "nn.NLLLoss()"
   ]
  },
  {
   "cell_type": "markdown",
   "id": "bd312f93-d20d-40d5-b558-0ebb8c98864b",
   "metadata": {},
   "source": [
    "---\n",
    "\n",
    "## Neural Network related"
   ]
  },
  {
   "cell_type": "code",
   "execution_count": 108,
   "id": "b4f8c7a2-4df8-4887-a4d4-3d5e672d1f05",
   "metadata": {},
   "outputs": [
    {
     "name": "stdout",
     "output_type": "stream",
     "text": [
      "Linear(in_features=2, out_features=1, bias=True)\n",
      "\n",
      "Parameter containing:\n",
      "tensor([[ 0.2904, -0.6469]], requires_grad=True)\n",
      "\n",
      "Parameter containing:\n",
      "tensor([-0.3481], requires_grad=True)\n"
     ]
    }
   ],
   "source": [
    "# torch.nn.Linear(in_features, out_features, bias=True, device=None, dtype=None)\n",
    "\"\"\" Applies a linear transformation to the incoming data: y = xA + b \"\"\"\n",
    "z = nn.Linear(2,1)\n",
    "\n",
    "print(z, z.weight, z.bias, sep='\\n\\n')"
   ]
  },
  {
   "cell_type": "code",
   "execution_count": 109,
   "id": "45a5cdba-503d-464c-bc44-27314703128b",
   "metadata": {},
   "outputs": [
    {
     "name": "stdout",
     "output_type": "stream",
     "text": [
      "Parameter containing:\n",
      "tensor([[ 1.0000, -0.6469]], requires_grad=True)\n"
     ]
    }
   ],
   "source": [
    "# Context-manager that disabled gradient calculation. In this mode, the result of every computation will have requires_grad=False.\n",
    "with torch.no_grad():\n",
    "    z.weight[0, 0] = 1\n",
    "    \n",
    "print(z.weight)"
   ]
  },
  {
   "cell_type": "code",
   "execution_count": 110,
   "id": "60f58526-6db5-4a19-a21d-7c1e27f392d8",
   "metadata": {},
   "outputs": [
    {
     "name": "stdout",
     "output_type": "stream",
     "text": [
      "torch.Size([4, 10])\n",
      "tensor([[1, 0, 0, 0, 0, 0, 0, 0, 0, 0],\n",
      "        [0, 0, 0, 1, 0, 0, 0, 0, 0, 0],\n",
      "        [0, 1, 0, 0, 0, 0, 0, 0, 0, 0],\n",
      "        [0, 0, 0, 0, 0, 0, 0, 0, 0, 1]])\n"
     ]
    }
   ],
   "source": [
    "# torch.nn.functional.one_hot(tensor, num_classes=-1) → LongTensor\n",
    "\"\"\" \n",
    "Takes LongTensor with index values of shape (*) and returns a tensor of shape (*, num_classes) that have zeros everywhere \n",
    "except where the index of last dimension matches the corresponding value of the input tensor, in which case it will be 1.\n",
    "\"\"\"\n",
    "x = torch.tensor([0, 3, 1, 9])   # each value corresponds to a row\n",
    "y = torch.nn.functional.one_hot(x, num_classes=10)  # num of classes will determine the columns.\n",
    "print(y.shape)\n",
    "print(y)"
   ]
  },
  {
   "cell_type": "code",
   "execution_count": 111,
   "id": "a57b26a8-fb6b-4350-9719-cff680903893",
   "metadata": {},
   "outputs": [
    {
     "name": "stdout",
     "output_type": "stream",
     "text": [
      "Sequential(\n",
      "  (0): Linear(in_features=784, out_features=10, bias=True)\n",
      "  (1): LogSoftmax(dim=1)\n",
      ")\n"
     ]
    }
   ],
   "source": [
    "# Model example\n",
    "\"\"\" Defining NLLLoss for LogSoftmax to achieve Cross Entropy \"\"\"\n",
    "model = nn.Sequential(\n",
    "        nn.Linear(784,10), #z\n",
    "        nn.LogSoftmax(dim=1)) #log(y)\n",
    "print(model)\n",
    "CE_loss = nn.NLLLoss()\n",
    "optimizer = torch.optim.SGD(model.parameters(), lr=0.1)"
   ]
  },
  {
   "cell_type": "code",
   "execution_count": 112,
   "id": "953d3b73-c831-44eb-831a-ae5423f12243",
   "metadata": {},
   "outputs": [],
   "source": [
    "# Iterate batch example\n",
    "def iterate_batch(imgs, labels):\n",
    "    imgs = imgs.flatten(start_dim=1)\n",
    "    optimizer.zero_grad()    #  Sets the gradients of all optimized torch.Tensors to zero.\n",
    "    y_model = model(imgs)\n",
    "    loss = CE_loss(y_model,labels)   # Cost function\n",
    "    loss.backward()                  # SGD\n",
    "    optimizer.step()                 # (W,b) = (W,b) - 0.1 * grad(C)  \n",
    "    predicted_labels = y_model.argmax(dim=1)\n",
    "    acc = (predicted_labels == labels).sum()/len(labels)\n",
    "    return loss.detach(), acc.detach()"
   ]
  },
  {
   "cell_type": "code",
   "execution_count": 113,
   "id": "08852df3-45ed-437a-bd07-b8ee6baa491c",
   "metadata": {},
   "outputs": [],
   "source": [
    "# Train example\n",
    "train_dataloader = DataLoader(train_data, batch_size=256, shuffle=True)\n",
    "batches = len(train_dataloader)\n",
    "loss = torch.zeros(batches)\n",
    "acc = torch.zeros(batches)\n",
    "for idx, (imgs, labels) in enumerate(train_dataloader):\n",
    "    loss[idx], acc[idx] = iterate_batch(imgs, labels)"
   ]
  },
  {
   "cell_type": "code",
   "execution_count": 114,
   "id": "7394f448-cbd8-4e32-85a4-f5f24ffe3389",
   "metadata": {},
   "outputs": [
    {
     "data": {
      "image/png": "[encoded data removed]",
      "text/plain": [
       "<Figure size 1200x400 with 2 Axes>"
      ]
     },
     "metadata": {},
     "output_type": "display_data"
    }
   ],
   "source": [
    "plt.figure(figsize=(12,4))\n",
    "plt.subplot(1,2,1)\n",
    "plot(loss, \"CE Loss\", \"Batch\")\n",
    "plt.subplot(1,2,2)\n",
    "plot(acc, \"Accuracy\", \"Batch\")"
   ]
  },
  {
   "cell_type": "markdown",
   "id": "d9d2147d-662e-44f9-ad3f-b99b73f010bb",
   "metadata": {},
   "source": [
    "We have jumps in accuracy because each minibatch can't represent the entire database!"
   ]
  },
  {
   "cell_type": "code",
   "execution_count": 115,
   "id": "b4ac9151-a55a-4836-a66d-ee4bd6fc777c",
   "metadata": {},
   "outputs": [],
   "source": [
    "\"\"\" Example for learning rate decay \"\"\"\n",
    "\n",
    "num_epochs = 10\n",
    "num_minibatches = 10\n",
    "model = nn.Sequential(\n",
    "    nn.Linear(784,20),\n",
    "    nn.ReLU(),\n",
    "    nn.Linear(20,10),\n",
    "    nn.LogSoftmax(dim=1)\n",
    ")\n",
    "for epoch in range(num_epochs):\n",
    "    for batch in range(num_minibatches):\n",
    "        \n",
    "        # 1st improvement to SGD - learning rate decay\n",
    "        optimizer = torch.optim.SGD(model.parameters(), lr=1)\n",
    "        decay = lambda previous_lr: 0.9 ** previous_lr\n",
    "        scheduler = torch.optim.lr_scheduler.LambdaLR(optimizer, lr_lambda=decay)\n",
    "        ##\n",
    "        \n",
    "        optimizer.step()\n",
    "    scheduler.step()"
   ]
  },
  {
   "cell_type": "code",
   "execution_count": 116,
   "id": "8d74b1f1-c854-4a58-a43b-122c6220e5a1",
   "metadata": {},
   "outputs": [],
   "source": [
    "# 2nd SGD improvement - Momentum\n",
    "# optimizer = torch.optim.SGD(model, lr=alpha, momentum=beta)"
   ]
  },
  {
   "cell_type": "code",
   "execution_count": 117,
   "id": "185f9a7b-f8bc-4ba2-92ba-83ec2777d883",
   "metadata": {},
   "outputs": [],
   "source": [
    "# Adam - useful when dC/wi > dC/wj. Only momentum will not solve this. Maybe different LR for different parameters.\n",
    "# optimizer = torch.optim.Adam(model, lr=alpha)"
   ]
  },
  {
   "cell_type": "code",
   "execution_count": 118,
   "id": "5f07f8bd-925e-4fb0-9b9f-47666d546c79",
   "metadata": {},
   "outputs": [
    {
     "data": {
      "text/plain": [
       "Parameter containing:\n",
       "tensor([1., 1., 1., 1., 1.], requires_grad=True)"
      ]
     },
     "execution_count": 118,
     "metadata": {},
     "output_type": "execute_result"
    }
   ],
   "source": [
    "# torch.nn.parameter.Parameter(data=None, requires_grad=True)\n",
    "\"\"\" Set a tensor as a model parameter. The optimizer will update it throguh the training process. \"\"\"\n",
    "nn.Parameter(torch.ones(5))"
   ]
  },
  {
   "cell_type": "code",
   "execution_count": 119,
   "id": "bc8f2da3-de99-4dc9-8da4-1e6fe1d899d5",
   "metadata": {},
   "outputs": [
    {
     "data": {
      "text/plain": [
       "MSELoss()"
      ]
     },
     "execution_count": 119,
     "metadata": {},
     "output_type": "execute_result"
    }
   ],
   "source": [
    "# torch.nn.MSELoss(size_average=None, reduce=None, reduction='mean')\n",
    "\"\"\" \n",
    "Creates a criterion that measures the mean squared error (squared L2 norm) between each element in the input x and target y.\n",
    "This is a cost function for regression models.\n",
    "\"\"\"\n",
    "nn.MSELoss()  # loss"
   ]
  },
  {
   "cell_type": "code",
   "execution_count": 120,
   "id": "782e7c71-4d4f-4253-9754-b1b04d9b369d",
   "metadata": {},
   "outputs": [
    {
     "data": {
      "text/plain": [
       "['0.weight', '0.bias', '2.weight', '2.bias']"
      ]
     },
     "execution_count": 120,
     "metadata": {},
     "output_type": "execute_result"
    }
   ],
   "source": [
    "# named_parameters(prefix='', recurse=True, remove_duplicate=True)\n",
    "\"\"\" Returns an iterator over module parameters, yielding both the name of the parameter as well as the parameter itself. \"\"\"\n",
    "[name for (name, param) in model.named_parameters()]"
   ]
  },
  {
   "cell_type": "code",
   "execution_count": 121,
   "id": "da66f2a3-db8f-4fcb-94bd-454f781783db",
   "metadata": {},
   "outputs": [
    {
     "name": "stdout",
     "output_type": "stream",
     "text": [
      "Conv2d(16, 33, kernel_size=(3, 3), stride=(2, 2))\n",
      "Conv2d(16, 33, kernel_size=(3, 5), stride=(2, 1), padding=(4, 2))\n"
     ]
    }
   ],
   "source": [
    "# torch.nn.Conv2d(in_channels, out_channels, kernel_size, stride=1, padding=0, dilation=1, groups=1, bias=True, padding_mode='zeros', device=None, dtype=None)\n",
    "\"\"\" Applies a 2D convolution over an input signal composed of several input planes. \"\"\"\n",
    "# With square kernels and equal stride\n",
    "print(nn.Conv2d(16, 33, 3, stride=2))\n",
    "# non-square kernels and unequal stride and with padding\n",
    "print(nn.Conv2d(16, 33, (3, 5), stride=(2, 1), padding=(4, 2)))"
   ]
  },
  {
   "cell_type": "code",
   "execution_count": 122,
   "id": "87eabf7b-d1be-4ab6-88a3-562e1b4ac369",
   "metadata": {},
   "outputs": [
    {
     "name": "stdout",
     "output_type": "stream",
     "text": [
      "tensor([[ 0.9146, -0.2032, -0.6589],\n",
      "        [ 0.8348, -0.6646, -2.2882],\n",
      "        [-0.1144, -0.2939, -0.7232]])\n",
      "\n",
      "tensor([[ 0.0000,  0.0000,  0.0000,  0.0000,  0.0000,  0.0000,  0.0000],\n",
      "        [ 0.0000,  0.0000,  0.0000,  0.0000,  0.0000,  0.0000,  0.0000],\n",
      "        [ 0.0000,  0.0000,  0.9146, -0.2032, -0.6589,  0.0000,  0.0000],\n",
      "        [ 0.0000,  0.0000,  0.8348, -0.6646, -2.2882,  0.0000,  0.0000],\n",
      "        [ 0.0000,  0.0000, -0.1144, -0.2939, -0.7232,  0.0000,  0.0000],\n",
      "        [ 0.0000,  0.0000,  0.0000,  0.0000,  0.0000,  0.0000,  0.0000],\n",
      "        [ 0.0000,  0.0000,  0.0000,  0.0000,  0.0000,  0.0000,  0.0000]])\n",
      "\n",
      "tensor([[ 0.0000,  0.0000,  0.0000,  0.0000,  0.0000,  0.0000,  0.0000,  0.0000],\n",
      "        [ 0.0000,  0.0000,  0.0000,  0.9146, -0.2032, -0.6589,  0.0000,  0.0000],\n",
      "        [ 0.0000,  0.0000,  0.0000,  0.8348, -0.6646, -2.2882,  0.0000,  0.0000],\n",
      "        [ 0.0000,  0.0000,  0.0000, -0.1144, -0.2939, -0.7232,  0.0000,  0.0000]])\n"
     ]
    }
   ],
   "source": [
    "# torch.nn.ZeroPad2d(padding)\n",
    "\"\"\" Pads the input tensor boundaries with zero. For N-dimensional padding, use torch.nn.functional.pad(). \"\"\"\n",
    "m = nn.ZeroPad2d(2)\n",
    "t = torch.randn(3, 3)\n",
    "print(t, m(t), sep='\\n\\n', end='\\n\\n')\n",
    "m = nn.ZeroPad2d((3, 2, 1, 0))  # different padding:  (left, right, top, bottom).\n",
    "print(m(t))"
   ]
  },
  {
   "cell_type": "code",
   "execution_count": 123,
   "id": "75310ecd-305e-4911-9612-efdbd223ace4",
   "metadata": {},
   "outputs": [
    {
     "data": {
      "text/plain": [
       "tensor([[[2.0327, 1.0044, 2.1003],\n",
       "         [2.0327, 1.0235, 1.4664]],\n",
       "\n",
       "        [[0.6772, 1.2303, 1.9091],\n",
       "         [1.8069, 2.5603, 1.9091]]])"
      ]
     },
     "execution_count": 123,
     "metadata": {},
     "output_type": "execute_result"
    }
   ],
   "source": [
    "# torch.nn.MaxPool2d(kernel_size, stride=None, padding=0, dilation=1, return_indices=False, ceil_mode=False)\n",
    "\"\"\" Applies a 2D max pooling over an input signal composed of several input planes. \"\"\"\n",
    "# pool of square window of size=3, stride=2\n",
    "m = nn.MaxPool2d(3, stride=2)\n",
    "m(torch.randn(2, 5, 7))"
   ]
  },
  {
   "cell_type": "code",
   "execution_count": 124,
   "id": "92b42cd2-da8f-413e-811e-620142417c79",
   "metadata": {},
   "outputs": [
    {
     "name": "stdout",
     "output_type": "stream",
     "text": [
      "tensor([[[-0.1751, -0.3642],\n",
      "         [-0.0621, -0.2327]],\n",
      "\n",
      "        [[-0.2808,  0.1786],\n",
      "         [-0.5190,  0.1391]],\n",
      "\n",
      "        [[ 0.1053,  0.1537],\n",
      "         [ 0.1212,  0.0155]],\n",
      "\n",
      "        [[ 0.7282,  0.1646],\n",
      "         [ 0.5819, -0.5490]],\n",
      "\n",
      "        [[ 0.0262, -0.3331],\n",
      "         [ 0.1137, -0.0099]],\n",
      "\n",
      "        [[ 0.1302, -0.1156],\n",
      "         [ 0.0625,  0.2160]]])\n",
      "tensor([[[ 0.0755, -0.2901, -0.4201, -0.0134,  0.4571],\n",
      "         [-0.8129, -0.3532,  0.2409,  0.9661,  0.7043]],\n",
      "\n",
      "        [[-0.0020,  0.8958,  1.1164,  0.8102,  0.5379],\n",
      "         [-0.1388, -0.0420,  0.1789,  0.2052, -0.0579]],\n",
      "\n",
      "        [[ 0.2188,  0.2144, -0.1768,  0.1260, -0.3096],\n",
      "         [-0.2586,  0.0299,  0.1241,  0.3179,  0.1378]],\n",
      "\n",
      "        [[-1.0359,  0.2892, -0.2523, -0.6369, -0.0319],\n",
      "         [-0.8868,  0.2385, -0.7736, -1.6848, -0.2517]],\n",
      "\n",
      "        [[ 0.4171,  0.0626, -0.4953,  0.1476, -0.0347],\n",
      "         [ 0.2051,  0.3988,  0.0403, -0.1266, -0.2587]],\n",
      "\n",
      "        [[-0.8064, -0.9271, -0.0756,  0.2580,  0.0669],\n",
      "         [-0.3926, -0.5712, -0.6293, -0.1262,  0.0370]]])\n"
     ]
    }
   ],
   "source": [
    "# torch.nn.AvgPool2d(kernel_size, stride=None, padding=0, ceil_mode=False, count_include_pad=True, divisor_override=None)\n",
    "\"\"\" Applies a 2D average pooling over an input signal composed of several input planes. \"\"\"\n",
    "# pool of square window of size=3, stride=2\n",
    "m = nn.AvgPool2d(3, stride=2)\n",
    "print(m(torch.randn(6, 6, 6)))\n",
    "# pool of non-square window\n",
    "m = nn.AvgPool2d((3, 2), stride=(2, 1))\n",
    "print(m(torch.randn(6, 6, 6)))"
   ]
  },
  {
   "cell_type": "code",
   "execution_count": 125,
   "id": "ac813579-ad3a-40e9-960e-e07e9dc4680b",
   "metadata": {},
   "outputs": [
    {
     "data": {
      "text/plain": [
       "CrossEntropyLoss()"
      ]
     },
     "execution_count": 125,
     "metadata": {},
     "output_type": "execute_result"
    }
   ],
   "source": [
    "# torch.nn.CrossEntropyLoss(weight=None, size_average=None, ignore_index=- 100, reduce=None, reduction='mean', label_smoothing=0.0)\n",
    "\"\"\" this criterion computes the cross entropy loss between input logits and target. \"\"\"\n",
    "nn.CrossEntropyLoss()"
   ]
  },
  {
   "cell_type": "code",
   "execution_count": 126,
   "id": "0e53cfaf-4d7a-42ba-b7a6-3eb151832412",
   "metadata": {},
   "outputs": [
    {
     "name": "stdout",
     "output_type": "stream",
     "text": [
      "ResNet(\n",
      "  (conv1): Conv2d(3, 64, kernel_size=(7, 7), stride=(2, 2), padding=(3, 3), bias=False)\n",
      "  (bn1): BatchNorm2d(64, eps=1e-05, momentum=0.1, affine=True, track_running_stats=True)\n",
      "  (relu): ReLU(inplace=True)\n",
      "  (maxpool): MaxPool2d(kernel_size=3, stride=2, padding=1, dilation=1, ceil_mode=False)\n",
      "  (layer1): Sequential(\n",
      "    (0): BasicBlock(\n",
      "      (conv1): Conv2d(64, 64, kernel_size=(3, 3), stride=(1, 1), padding=(1, 1), bias=False)\n",
      "      (bn1): BatchNorm2d(64, eps=1e-05, momentum=0.1, affine=True, track_running_stats=True)\n",
      "      (relu): ReLU(inplace=True)\n",
      "      (conv2): Conv2d(64, 64, kernel_size=(3, 3), stride=(1, 1), padding=(1, 1), bias=False)\n",
      "      (bn2): BatchNorm2d(64, eps=1e-05, momentum=0.1, affine=True, track_running_stats=True)\n",
      "    )\n",
      "    (1): BasicBlock(\n",
      "      (conv1): Conv2d(64, 64, kernel_size=(3, 3), stride=(1, 1), padding=(1, 1), bias=False)\n",
      "      (bn1): BatchNorm2d(64, eps=1e-05, momentum=0.1, affine=True, track_running_stats=True)\n",
      "      (relu): ReLU(inplace=True)\n",
      "      (conv2): Conv2d(64, 64, kernel_size=(3, 3), stride=(1, 1), padding=(1, 1), bias=False)\n",
      "      (bn2): BatchNorm2d(64, eps=1e-05, momentum=0.1, affine=True, track_running_stats=True)\n",
      "    )\n",
      "  )\n",
      "  (layer2): Sequential(\n",
      "    (0): BasicBlock(\n",
      "      (conv1): Conv2d(64, 128, kernel_size=(3, 3), stride=(2, 2), padding=(1, 1), bias=False)\n",
      "      (bn1): BatchNorm2d(128, eps=1e-05, momentum=0.1, affine=True, track_running_stats=True)\n",
      "      (relu): ReLU(inplace=True)\n",
      "      (conv2): Conv2d(128, 128, kernel_size=(3, 3), stride=(1, 1), padding=(1, 1), bias=False)\n",
      "      (bn2): BatchNorm2d(128, eps=1e-05, momentum=0.1, affine=True, track_running_stats=True)\n",
      "      (downsample): Sequential(\n",
      "        (0): Conv2d(64, 128, kernel_size=(1, 1), stride=(2, 2), bias=False)\n",
      "        (1): BatchNorm2d(128, eps=1e-05, momentum=0.1, affine=True, track_running_stats=True)\n",
      "      )\n",
      "    )\n",
      "    (1): BasicBlock(\n",
      "      (conv1): Conv2d(128, 128, kernel_size=(3, 3), stride=(1, 1), padding=(1, 1), bias=False)\n",
      "      (bn1): BatchNorm2d(128, eps=1e-05, momentum=0.1, affine=True, track_running_stats=True)\n",
      "      (relu): ReLU(inplace=True)\n",
      "      (conv2): Conv2d(128, 128, kernel_size=(3, 3), stride=(1, 1), padding=(1, 1), bias=False)\n",
      "      (bn2): BatchNorm2d(128, eps=1e-05, momentum=0.1, affine=True, track_running_stats=True)\n",
      "    )\n",
      "  )\n",
      "  (layer3): Sequential(\n",
      "    (0): BasicBlock(\n",
      "      (conv1): Conv2d(128, 256, kernel_size=(3, 3), stride=(2, 2), padding=(1, 1), bias=False)\n",
      "      (bn1): BatchNorm2d(256, eps=1e-05, momentum=0.1, affine=True, track_running_stats=True)\n",
      "      (relu): ReLU(inplace=True)\n",
      "      (conv2): Conv2d(256, 256, kernel_size=(3, 3), stride=(1, 1), padding=(1, 1), bias=False)\n",
      "      (bn2): BatchNorm2d(256, eps=1e-05, momentum=0.1, affine=True, track_running_stats=True)\n",
      "      (downsample): Sequential(\n",
      "        (0): Conv2d(128, 256, kernel_size=(1, 1), stride=(2, 2), bias=False)\n",
      "        (1): BatchNorm2d(256, eps=1e-05, momentum=0.1, affine=True, track_running_stats=True)\n",
      "      )\n",
      "    )\n",
      "    (1): BasicBlock(\n",
      "      (conv1): Conv2d(256, 256, kernel_size=(3, 3), stride=(1, 1), padding=(1, 1), bias=False)\n",
      "      (bn1): BatchNorm2d(256, eps=1e-05, momentum=0.1, affine=True, track_running_stats=True)\n",
      "      (relu): ReLU(inplace=True)\n",
      "      (conv2): Conv2d(256, 256, kernel_size=(3, 3), stride=(1, 1), padding=(1, 1), bias=False)\n",
      "      (bn2): BatchNorm2d(256, eps=1e-05, momentum=0.1, affine=True, track_running_stats=True)\n",
      "    )\n",
      "  )\n",
      "  (layer4): Sequential(\n",
      "    (0): BasicBlock(\n",
      "      (conv1): Conv2d(256, 512, kernel_size=(3, 3), stride=(2, 2), padding=(1, 1), bias=False)\n",
      "      (bn1): BatchNorm2d(512, eps=1e-05, momentum=0.1, affine=True, track_running_stats=True)\n",
      "      (relu): ReLU(inplace=True)\n",
      "      (conv2): Conv2d(512, 512, kernel_size=(3, 3), stride=(1, 1), padding=(1, 1), bias=False)\n",
      "      (bn2): BatchNorm2d(512, eps=1e-05, momentum=0.1, affine=True, track_running_stats=True)\n",
      "      (downsample): Sequential(\n",
      "        (0): Conv2d(256, 512, kernel_size=(1, 1), stride=(2, 2), bias=False)\n",
      "        (1): BatchNorm2d(512, eps=1e-05, momentum=0.1, affine=True, track_running_stats=True)\n",
      "      )\n",
      "    )\n",
      "    (1): BasicBlock(\n",
      "      (conv1): Conv2d(512, 512, kernel_size=(3, 3), stride=(1, 1), padding=(1, 1), bias=False)\n",
      "      (bn1): BatchNorm2d(512, eps=1e-05, momentum=0.1, affine=True, track_running_stats=True)\n",
      "      (relu): ReLU(inplace=True)\n",
      "      (conv2): Conv2d(512, 512, kernel_size=(3, 3), stride=(1, 1), padding=(1, 1), bias=False)\n",
      "      (bn2): BatchNorm2d(512, eps=1e-05, momentum=0.1, affine=True, track_running_stats=True)\n",
      "    )\n",
      "  )\n",
      "  (avgpool): AdaptiveAvgPool2d(output_size=(1, 1))\n",
      "  (fc): Linear(in_features=512, out_features=1000, bias=True)\n",
      ")\n"
     ]
    }
   ],
   "source": [
    "# Residual Network\n",
    "import torchvision.models as models\n",
    "resnet18 = models.resnet18()\n",
    "print(resnet18)"
   ]
  },
  {
   "cell_type": "markdown",
   "id": "e1dc08b6-1950-456d-b7d6-4dea2223d6a6",
   "metadata": {},
   "source": [
    "### RNN"
   ]
  },
  {
   "cell_type": "code",
   "execution_count": 127,
   "id": "73585eb3-639f-49f7-9a2f-5e51cc722b39",
   "metadata": {},
   "outputs": [
    {
     "name": "stdout",
     "output_type": "stream",
     "text": [
      "[*] Loading SST-2 dataset:\n"
     ]
    },
    {
     "name": "stderr",
     "output_type": "stream",
     "text": [
      "Found cached dataset glue (D:/OneDriveEducation/MSc/22961 - Deep Learning/Notes/.cache/glue/sst2/1.0.0/dacbe3125aa31d7f70367a07a8a9e72a5a0bfeb5fc42e75c9db75b96da6053ad)\n"
     ]
    },
    {
     "data": {
      "application/vnd.jupyter.widget-view+json": {
       "model_id": "0937b26e85964c6ca6e6aff726ca7415",
       "version_major": 2,
       "version_minor": 0
      },
      "text/plain": [
       "  0%|          | 0/3 [00:00<?, ?it/s]"
      ]
     },
     "metadata": {},
     "output_type": "display_data"
    },
    {
     "data": {
      "text/plain": [
       "('hide new secretions from the parental units ',\n",
       " tensor([ 4575,    93,     0,    36,     1,  7746, 10013]),\n",
       " tensor(0))"
      ]
     },
     "execution_count": 127,
     "metadata": {},
     "output_type": "execute_result"
    }
   ],
   "source": [
    "import datasets, torchtext\n",
    "\n",
    "# Load SST-2 dataset\n",
    "print(f'[*] Loading SST-2 dataset:')\n",
    "dataset = datasets.load_dataset(\"glue\", \"sst2\", cache_dir='./.cache')\n",
    "\n",
    "# Extract sentence and their classification\n",
    "sentence_list = dataset[\"train\"][\"sentence\"]\n",
    "labels_list   = dataset[\"train\"][\"label\"]      # sentences classification: 0, 1 (negative, positive expressions)\n",
    "assert len(sentence_list) == len(labels_list)\n",
    "\n",
    "# Tokenize & create vocabulary\n",
    "tokenizer = lambda x: x.split()\n",
    "tokenized = list(map(tokenizer, sentence_list))\n",
    "vocab     = torchtext.vocab.build_vocab_from_iterator(tokenized, specials=[\"<UNK>\"], min_freq=5)  # delete rare words, treat unknown words.\n",
    "vocab.set_default_index(0)   # default index for unknown words.\n",
    "\n",
    "# Tensor conversion\n",
    "stoi           = lambda x: torch.tensor(vocab(x)) # string to integer\n",
    "integer_tokens = list(map(lambda x: stoi(x), tokenized))  # convert word strings to integers (tensors).\n",
    "label_tensors  = list(map(lambda x: torch.tensor(x), labels_list))       # convert labels to tensors.\n",
    "\n",
    "# Split Train & Test data.\n",
    "split_index  = len(integer_tokens) * 8//10\n",
    "train_tokens = integer_tokens[:split_index]\n",
    "train_labels = label_tensors[:split_index]\n",
    "test_tokens  = integer_tokens[split_index:]\n",
    "test_labels  = label_tensors[split_index:]\n",
    "\n",
    "sentence_list[0],integer_tokens[0], label_tensors[0]"
   ]
  },
  {
   "cell_type": "code",
   "execution_count": 128,
   "id": "d71d346f-c06a-420e-9552-68db04202bfc",
   "metadata": {},
   "outputs": [
    {
     "name": "stdout",
     "output_type": "stream",
     "text": [
      "tensor([1234])\n",
      "tensor([[0.4628, 0.0445, 0.8130]], grad_fn=<EmbeddingBackward0>)\n"
     ]
    }
   ],
   "source": [
    "# torch.nn.Embedding(num_embeddings, embedding_dim, padding_idx=None, max_norm=None, norm_type=2.0, scale_grad_by_freq=False, sparse=False, _weight=None, _freeze=False, device=None, dtype=None)\n",
    "\"\"\" A simple lookup table that stores embeddings of a fixed dictionary and size. \"\"\"\n",
    "embedding_layer = nn.Embedding(len(vocab), 3)   # 3 embeddings, learnable parameters\n",
    "integer = stoi([\"word\"])\n",
    "print(integer)\n",
    "print(embedding_layer(integer))"
   ]
  },
  {
   "cell_type": "code",
   "execution_count": 129,
   "id": "bbbcd536-9a81-42a1-a57d-450ff094ccf6",
   "metadata": {},
   "outputs": [
    {
     "name": "stderr",
     "output_type": "stream",
     "text": [
      ".vector_cache\\glove.6B.zip: 862MB [02:44, 5.24MB/s]                                                                    \n",
      "100%|██████████████████████████████████████████████████████████████████████▉| 399999/400000 [00:18<00:00, 21639.87it/s]\n"
     ]
    },
    {
     "name": "stdout",
     "output_type": "stream",
     "text": [
      "torch.Size([2, 50]) torch.float32 False\n"
     ]
    }
   ],
   "source": [
    "from torchtext.vocab import GloVe\n",
    "glove_embedder = GloVe(name='6B',dim=50)\n",
    "embedded = glove_embedder.get_vecs_by_tokens([\"It's\", \"cool\"])\n",
    "print(embedded.size(),embedded.dtype, embedded.requires_grad)"
   ]
  },
  {
   "cell_type": "code",
   "execution_count": 130,
   "id": "93345f52-a805-4a82-95a1-ac796c307b52",
   "metadata": {},
   "outputs": [
    {
     "data": {
      "text/plain": [
       "tensor([[2.5000, 3.7000, 4.6500]])"
      ]
     },
     "execution_count": 130,
     "metadata": {},
     "output_type": "execute_result"
    }
   ],
   "source": [
    "# torch.nn.EmbeddingBag(num_embeddings, embedding_dim, max_norm=None, norm_type=2.0, scale_grad_by_freq=False, mode='mean', sparse=False, _weight=None, include_last_offset=False, padding_idx=None, device=None, dtype=None\n",
    "\"\"\" Computes sums or means of ‘bags’ of embeddings, without instantiating the intermediate embeddings. \"\"\"\n",
    "weight = torch.FloatTensor([[1, 2.3, 3], [4, 5.1, 6.3]])\n",
    "embeddingbag = nn.EmbeddingBag.from_pretrained(weight)\n",
    "embeddingbag(torch.LongTensor([[1, 0]]))  # Get embeddings for index 1"
   ]
  },
  {
   "cell_type": "code",
   "execution_count": null,
   "id": "96c368f8-d832-4ad5-b949-e9bb0cf9618e",
   "metadata": {},
   "outputs": [],
   "source": []
  }
 ],
 "metadata": {
  "kernelspec": {
   "display_name": "Python 3 (ipykernel)",
   "language": "python",
   "name": "python3"
  },
  "language_info": {
   "codemirror_mode": {
    "name": "ipython",
    "version": 3
   },
   "file_extension": ".py",
   "mimetype": "text/x-python",
   "name": "python",
   "nbconvert_exporter": "python",
   "pygments_lexer": "ipython3",
   "version": "3.10.9"
  }
 },
 "nbformat": 4,
 "nbformat_minor": 5
}
