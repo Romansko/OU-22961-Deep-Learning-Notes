{
 "cells": [
  {
   "cell_type": "markdown",
   "id": "73250535-ef67-429e-8f1b-69b694422917",
   "metadata": {},
   "source": [
    "# OpenU's Deep Learning 22961 Cheat Sheet\n",
    "\n",
    "**Roman Koifman - Semester 2023b**\n",
    "\n",
    "**Note**: GitHub's internal links seems not to work. As a workaround, you can open this notebook in [nbviewer](https://nbviewer.org/github/Romansko/OU-22961-Deep-Learning-Notes/blob/main/DL%2022961%20Cheat%20Sheet.ipynb).\n",
    "\n",
    "**<u>Sections</u>**\n",
    "\n",
    "* [Links](#Links)\n",
    "* [Markdown Formatting](#Markdown-Formatting)\n",
    "* [Numpy](#Numpy)\n",
    "* [PyTorch](#PyTorch)\n",
    "* [Helper Functions](#Helper-Functions)\n",
    "* [Magics & GPU](#Magics-&-GPU)\n",
    "* [Tensor Constructors](#Tensor-Constructors)\n",
    "* [Tensor Properties](#Tensor-Properties)\n",
    "* [Operators](#Operators)\n",
    "* [Indexing](#Indexing)\n",
    "* [Tensor Functions](#Tensor-Functions)\n",
    "* [Broadcasting](#Broadcasting)\n",
    "* [Gradient](#Gradient)\n",
    "* [Datasets](#Datasets)\n",
    "* [Activation Functions](#Activation-Functions)\n",
    "* [Neural Network related](#Neural-Network-related)"
   ]
  },
  {
   "cell_type": "markdown",
   "id": "265e0eb2-018a-464e-ad9f-df01e48e0cfc",
   "metadata": {},
   "source": [
    "---\n",
    "\n",
    "## Links\n",
    "\n",
    "* [Dive into Deep Learning Book](https://d2l.ai)\n",
    "* [Idan Alter (Lecturer) github](https://github.com/Idan-Alter/OU-22961-Deep-Learning)\n",
    "* [Deep Learning in Hebrew](https://github.com/AvrahamRaviv/Deep-Learning-in-Hebrew)\n",
    "* [Yann LeCun Lectures](https://www.youtube.com/playlist?list=PL80I41oVxglKcAHllsU0txr3OuTTaWX2v)\n",
    "* [Standford CS230 Lectures](https://cs230.stanford.edu/lecture)"
   ]
  },
  {
   "cell_type": "markdown",
   "id": "06b178bc-b8cd-4210-8566-71038a452d71",
   "metadata": {},
   "source": [
    "---\n",
    "\n",
    "## Markdown Formatting\n",
    "\n",
    "**Image Formatting**\n",
    "\n",
    "```html\n",
    "<img src=\"path/to/image.png\" alt=\"Image\" width=\"400\">\n",
    "```\n",
    "```markdown\n",
    "![optional-name](path/to/image.png)\n",
    "```\n",
    "\n",
    "**Right to Left**\n",
    "```html\n",
    "<div dir=\"rtl\">\n",
    "Text / Image (only img src..)\n",
    "</div>\n",
    "```"
   ]
  },
  {
   "cell_type": "markdown",
   "id": "6a9a8ea9-03f8-46b4-abbb-0ad97e24db73",
   "metadata": {},
   "source": [
    "---\n",
    "\n",
    "## Numpy"
   ]
  },
  {
   "cell_type": "code",
   "execution_count": 1,
   "id": "ebe5a5de-b93f-4d87-b56f-42c456602b01",
   "metadata": {},
   "outputs": [
    {
     "name": "stdout",
     "output_type": "stream",
     "text": [
      "[*] Using Numpy v1.24.3.\n"
     ]
    }
   ],
   "source": [
    "import numpy as np\n",
    "print(f'[*] Using Numpy v{np.__version__}.')"
   ]
  },
  {
   "cell_type": "code",
   "execution_count": 2,
   "id": "54e56809-67b6-4454-8bf6-72f3fecf1502",
   "metadata": {},
   "outputs": [
    {
     "data": {
      "text/plain": [
       "2.718281828459045"
      ]
     },
     "execution_count": 2,
     "metadata": {},
     "output_type": "execute_result"
    }
   ],
   "source": [
    "np.e"
   ]
  },
  {
   "cell_type": "code",
   "execution_count": 3,
   "id": "e55ad45b-f0af-49d5-829e-a16cf18de20c",
   "metadata": {},
   "outputs": [
    {
     "data": {
      "text/plain": [
       "1.0"
      ]
     },
     "execution_count": 3,
     "metadata": {},
     "output_type": "execute_result"
    }
   ],
   "source": [
    "np.log(np.e)  # aka ln"
   ]
  },
  {
   "cell_type": "markdown",
   "id": "032525ef-6c1e-4698-a814-07dc2e8e2af1",
   "metadata": {},
   "source": [
    "---\n",
    "\n",
    "## PyTorch"
   ]
  },
  {
   "cell_type": "code",
   "execution_count": 4,
   "id": "2f23267f-5f09-455a-92aa-1e0ef0a3f574",
   "metadata": {},
   "outputs": [
    {
     "name": "stdout",
     "output_type": "stream",
     "text": [
      "[*] Using PyTorch v2.0.1.\n"
     ]
    }
   ],
   "source": [
    "import torch # PyTorch library\n",
    "print(f'[*] Using PyTorch v{torch.__version__}.')"
   ]
  },
  {
   "cell_type": "markdown",
   "id": "3cab751a-c3e7-4101-9cb5-84410ba27da9",
   "metadata": {},
   "source": [
    "---\n",
    "\n",
    "## Helper Functions\n",
    "\n",
    "Helper functions for this notebook."
   ]
  },
  {
   "cell_type": "code",
   "execution_count": 5,
   "id": "6f676fa8-fffc-40d4-b9fb-d67b1d007ed4",
   "metadata": {},
   "outputs": [],
   "source": [
    "import warnings\n",
    "def toggle_warnings(on):\n",
    "    if on:\n",
    "        warnings.filterwarnings('default')\n",
    "    else:\n",
    "        warnings.filterwarnings('ignore')"
   ]
  },
  {
   "cell_type": "code",
   "execution_count": 6,
   "id": "5c52944c-c878-4ab0-87a3-a1dc1c3bd0a1",
   "metadata": {},
   "outputs": [],
   "source": [
    "def nprint(name, obj):\n",
    "    print(f\"[*] {name}:\\n{obj}\\n\")"
   ]
  },
  {
   "cell_type": "code",
   "execution_count": 7,
   "id": "16093534-e48f-4eba-a753-8c5ac10ab11a",
   "metadata": {},
   "outputs": [],
   "source": [
    "def print_id(obj):\n",
    "    \"\"\" print id as hex \"\"\"\n",
    "    print(f'[id] {hex(id(obj))}')"
   ]
  },
  {
   "cell_type": "code",
   "execution_count": 8,
   "id": "2bdba2b3-a2b5-4c54-950f-cd5313a8be5b",
   "metadata": {},
   "outputs": [],
   "source": [
    "def set_default_device():\n",
    "    \"\"\" Helper function to select default device \"\"\"\n",
    "    device = torch.device('cuda' if torch.cuda.is_available() else 'cpu')\n",
    "    torch.set_default_device(device)\n",
    "    print(f'[*] {device} is selected as the default device.')"
   ]
  },
  {
   "cell_type": "code",
   "execution_count": 9,
   "id": "472faec7-4962-4770-8d31-086e98aefa55",
   "metadata": {},
   "outputs": [],
   "source": [
    "import matplotlib.pyplot as plt\n",
    "\n",
    "def plot(tensors_list, title, xlabel, label=None):\n",
    "    \"\"\" plot tensors list \"\"\"\n",
    "    plt.plot([t.item() for t in tensors_list], label=label)\n",
    "    plt.xlabel(xlabel)\n",
    "    plt.title(title)"
   ]
  },
  {
   "cell_type": "markdown",
   "id": "553a6608-44cd-4e39-8bac-788f4fab4608",
   "metadata": {},
   "source": [
    "---\n",
    "\n",
    "## Magics & GPU"
   ]
  },
  {
   "cell_type": "markdown",
   "id": "ea56c57d-25a2-4698-a456-3c930db4c01e",
   "metadata": {},
   "source": [
    "https://ipython.readthedocs.io/en/stable/interactive/magics.html\n",
    "\n",
    "- `%run -i file.py`\n",
    "- `%%timeit`\n",
    "- `%%debug` - can type `help`\n",
    "- `%%bash` - run from shell"
   ]
  },
  {
   "cell_type": "code",
   "execution_count": 10,
   "id": "85719ac9-05c0-4ba1-8161-b77b8550d654",
   "metadata": {},
   "outputs": [
    {
     "name": "stdout",
     "output_type": "stream",
     "text": [
      "Python 3.10.9\n"
     ]
    },
    {
     "name": "stderr",
     "output_type": "stream",
     "text": [
      "'uname' is not recognized as an internal or external command,\n",
      "operable program or batch file.\n"
     ]
    }
   ],
   "source": [
    "# Run shell command - Option 1\n",
    "!python --version\n",
    "!uname -a"
   ]
  },
  {
   "cell_type": "code",
   "execution_count": 11,
   "id": "62ecf02b-36a3-4093-8369-82d773f7458d",
   "metadata": {},
   "outputs": [
    {
     "name": "stdout",
     "output_type": "stream",
     "text": [
      "Python 3.10.6\n",
      "Linux OMEN 5.15.90.1-microsoft-standard-WSL2 #1 SMP Fri Jan 27 02:56:13 UTC 2023 x86_64 x86_64 x86_64 GNU/Linux\n"
     ]
    }
   ],
   "source": [
    "%%bash  # Option 2 - magic %%bash - It seems the commands are performed in WSL. Different context than above.\n",
    "python3 --version\n",
    "uname -a"
   ]
  },
  {
   "cell_type": "code",
   "execution_count": 12,
   "id": "d1ebe42e-0f1a-4501-968b-ab022f090fc8",
   "metadata": {},
   "outputs": [
    {
     "name": "stdout",
     "output_type": "stream",
     "text": [
      "Sun Aug 13 17:33:23 2023       \n",
      "+---------------------------------------------------------------------------------------+\n",
      "| NVIDIA-SMI 535.98.01              Driver Version: 536.99       CUDA Version: 12.2     |\n",
      "|-----------------------------------------+----------------------+----------------------+\n",
      "| GPU  Name                 Persistence-M | Bus-Id        Disp.A | Volatile Uncorr. ECC |\n",
      "| Fan  Temp   Perf          Pwr:Usage/Cap |         Memory-Usage | GPU-Util  Compute M. |\n",
      "|                                         |                      |               MIG M. |\n",
      "|=========================================+======================+======================|\n",
      "|   0  NVIDIA GeForce GTX 1650        On  | 00000000:01:00.0  On |                  N/A |\n",
      "| N/A   39C    P8               4W /  50W |    677MiB /  4096MiB |      6%      Default |\n",
      "|                                         |                      |                  N/A |\n",
      "+-----------------------------------------+----------------------+----------------------+\n"
     ]
    }
   ],
   "source": [
    "%%bash   # Getting GPU info - print only 1st table with head command.\n",
    "nvidia-smi | head -n 12"
   ]
  },
  {
   "cell_type": "code",
   "execution_count": 13,
   "id": "a0692fcd-dbc8-449f-99e0-4a24ad4e3c40",
   "metadata": {},
   "outputs": [
    {
     "data": {
      "text/plain": [
       "True"
      ]
     },
     "execution_count": 13,
     "metadata": {},
     "output_type": "execute_result"
    }
   ],
   "source": [
    "# Detecting if GPU available\n",
    "torch.cuda.is_available()"
   ]
  },
  {
   "cell_type": "code",
   "execution_count": 14,
   "id": "1ef25ed5-000e-4ae3-8283-fc0c5ebde41a",
   "metadata": {},
   "outputs": [
    {
     "name": "stdout",
     "output_type": "stream",
     "text": [
      "A's device before: cpu\n",
      "A's device after: cuda:0\n",
      "B's device: cuda:0\n"
     ]
    }
   ],
   "source": [
    "# Transferring between CPU & GPU\n",
    "device = torch.device('cuda')\n",
    "A = torch.empty(1)\n",
    "print(f\"A's device before: {A.device}\")\n",
    "A = A.to(device)\n",
    "print(f\"A's device after: {A.device}\")\n",
    "B = torch.empty(1, device=device)\n",
    "print(f\"B's device: {B.device}\")"
   ]
  },
  {
   "cell_type": "code",
   "execution_count": 15,
   "id": "3d109d81-ca38-42eb-9b96-833478a0d544",
   "metadata": {},
   "outputs": [
    {
     "name": "stdout",
     "output_type": "stream",
     "text": [
      "[*] cuda is selected as the default device.\n",
      "C's device: cuda:0\n"
     ]
    }
   ],
   "source": [
    "# Selecting default device    \n",
    "set_default_device()\n",
    "C = torch.empty(1)  # If GPU selected, A's device will be cuda although we didn't explicity selected its device.\n",
    "print(f\"C's device: {C.device}\")  \n",
    "torch.set_default_device(torch.device('cpu'))  # back to default cpu"
   ]
  },
  {
   "cell_type": "markdown",
   "id": "add3d256-11af-4d46-9a2c-6f33e4637d5a",
   "metadata": {},
   "source": [
    "---\n",
    "\n",
    "## Tensor Constructors"
   ]
  },
  {
   "cell_type": "code",
   "execution_count": 16,
   "id": "97d6da54-fd2d-4c76-8026-f9eae2a81532",
   "metadata": {},
   "outputs": [],
   "source": [
    "# torch.tensor(data, *, dtype=None, device=None, requires_grad=False, pin_memory=False) → Tensor\n",
    "\"\"\" Constructs a tensor with no autograd history \"\"\"\n",
    "X = torch.tensor([[1,2],[3,4]])"
   ]
  },
  {
   "cell_type": "code",
   "execution_count": 17,
   "id": "89f8c2ac-2a64-4819-82b7-f7d5669ac789",
   "metadata": {},
   "outputs": [
    {
     "data": {
      "text/plain": [
       "(numpy.ndarray, torch.Tensor)"
      ]
     },
     "execution_count": 17,
     "metadata": {},
     "output_type": "execute_result"
    }
   ],
   "source": [
    "#  Conversion to Other Python Objects\n",
    "A = X.numpy()\n",
    "B = torch.from_numpy(A)\n",
    "type(A), type(B)"
   ]
  },
  {
   "cell_type": "code",
   "execution_count": 18,
   "id": "305a05bc-1a44-4e8a-92b8-7ff3f1046354",
   "metadata": {},
   "outputs": [
    {
     "data": {
      "text/plain": [
       "(tensor([3.5000]), 3.5, 3.5, 3)"
      ]
     },
     "execution_count": 18,
     "metadata": {},
     "output_type": "execute_result"
    }
   ],
   "source": [
    "# To Scalar. Tensor must contain a single element! or RuntimeError is thrown.\n",
    "a = torch.tensor([3.5])\n",
    "a, a.item(), float(a), int(a)"
   ]
  },
  {
   "cell_type": "code",
   "execution_count": 19,
   "id": "1b7a4de8-33b8-4f97-afb1-c5f10f039969",
   "metadata": {},
   "outputs": [
    {
     "data": {
      "text/plain": [
       "tensor([1.0733e-08, 1.0481e-11, 3.2503e+21, 1.0780e-08, 6.7367e-10])"
      ]
     },
     "execution_count": 19,
     "metadata": {},
     "output_type": "execute_result"
    }
   ],
   "source": [
    "# torch.empty(*size, *, out=None, dtype=None, layout=torch.strided, device=None, requires_grad=False, pin_memory=False, memory_format=torch.contiguous_format) → Tensor\n",
    "\"\"\" Returns a tensor filled with uninitialized data. The shape of the tensor is defined by the variable argument size. \"\"\"\n",
    "torch.empty(5)"
   ]
  },
  {
   "cell_type": "code",
   "execution_count": 20,
   "id": "29fda909-d376-4e77-a77e-6fbc3082a583",
   "metadata": {},
   "outputs": [
    {
     "data": {
      "text/plain": [
       "tensor([0., 0., 0., 0.])"
      ]
     },
     "execution_count": 20,
     "metadata": {},
     "output_type": "execute_result"
    }
   ],
   "source": [
    "# torch.zeros(*size, *, out=None, dtype=None, layout=torch.strided, device=None, requires_grad=False) → Tensor\n",
    "\"\"\" Returns a tensor filled with the scalar value 0, with the shape defined by the variable argument size. \"\"\"\n",
    "torch.zeros(size=(4,))"
   ]
  },
  {
   "cell_type": "code",
   "execution_count": 21,
   "id": "57de6a98-0f58-4f43-8681-02ca6c3f71cd",
   "metadata": {},
   "outputs": [
    {
     "data": {
      "text/plain": [
       "tensor([1., 1., 1., 1.])"
      ]
     },
     "execution_count": 21,
     "metadata": {},
     "output_type": "execute_result"
    }
   ],
   "source": [
    "# torch.ones(*size, *, out=None, dtype=None, layout=torch.strided, device=None, requires_grad=False) → Tensor\n",
    "\"\"\" Returns a tensor filled with the scalar value 1, with the shape defined by the variable argument size. \"\"\"\n",
    "torch.ones(size=(4,))  # aka torch.ones(4)"
   ]
  },
  {
   "cell_type": "code",
   "execution_count": 22,
   "id": "77bc6a40-1c78-4c9d-b4da-08205bd09d81",
   "metadata": {},
   "outputs": [
    {
     "data": {
      "text/plain": [
       "(tensor([[1., 0., 0.],\n",
       "         [0., 1., 0.],\n",
       "         [0., 0., 1.]]),\n",
       " tensor([[ True, False, False],\n",
       "         [False,  True, False],\n",
       "         [False, False,  True]]))"
      ]
     },
     "execution_count": 22,
     "metadata": {},
     "output_type": "execute_result"
    }
   ],
   "source": [
    "# torch.eye(n, m=None, *, out=None, dtype=None, layout=torch.strided, device=None, requires_grad=False) → Tensor\n",
    "\"\"\" Returns a 2-D tensor with 1s on the diagonal and 0s elsewhere. (Identity Matrix). \"\"\"\n",
    "torch.eye(3), torch.eye(3, dtype=torch.bool)"
   ]
  },
  {
   "cell_type": "code",
   "execution_count": 23,
   "id": "474c386b-b2a9-420b-afa3-c430f42d430b",
   "metadata": {},
   "outputs": [
    {
     "name": "stdout",
     "output_type": "stream",
     "text": [
      "tensor([0, 1, 2, 3, 4, 5, 6, 7, 8, 9])\n",
      "tensor([ 5,  7,  9, 11, 13])\n"
     ]
    }
   ],
   "source": [
    "# torch.arange(start=0, end, step=1, *, out=None, dtype=None, layout=torch.strided, device=None, requires_grad=False) → Tensor\n",
    "\"\"\" Returns a 1-D tensor of size ⌈(end−start)/step⌉ with values from the interval [start, end) taken with common difference step beginning from start. \"\"\"\n",
    "\n",
    "# Generate a tensor with values from 0 to 9\n",
    "print(torch.arange(10))\n",
    "\n",
    "# Generate a tensor with values from 5 to 15 (exclusive) with a step of 2\n",
    "print(torch.arange(5, 15, 2))"
   ]
  },
  {
   "cell_type": "code",
   "execution_count": 24,
   "id": "152eda3a-5798-410d-a8ec-ed9337b10e51",
   "metadata": {},
   "outputs": [
    {
     "data": {
      "text/plain": [
       "tensor([[[[0, 1, 1, 1],\n",
       "          [1, 0, 1, 0]],\n",
       "\n",
       "         [[1, 1, 1, 1],\n",
       "          [0, 1, 0, 1]]]])"
      ]
     },
     "execution_count": 24,
     "metadata": {},
     "output_type": "execute_result"
    }
   ],
   "source": [
    "# torch.randint(low=0, high, size, \\*, generator=None, out=None, dtype=None, layout=torch.strided, device=None, requires_grad=False) → Tensor\n",
    "\"\"\" Returns a tensor filled with random integers generated uniformly between low (inclusive) and high (exclusive). \"\"\"\n",
    "torch.randint(2, (1,2,2,4))    # low = 0, high = 2, size = (1,2,2,4)."
   ]
  },
  {
   "cell_type": "code",
   "execution_count": 25,
   "id": "23b6d655-c13f-41de-b63f-c8c9f8b73619",
   "metadata": {},
   "outputs": [
    {
     "data": {
      "text/plain": [
       "tensor([[[[0.5516, 0.5332, 0.1462, 0.4513],\n",
       "          [0.5853, 0.6592, 0.6618, 0.3262],\n",
       "          [0.4636, 0.0136, 0.1093, 0.5052]],\n",
       "\n",
       "         [[0.4821, 0.2675, 0.5527, 0.4379],\n",
       "          [0.6666, 0.0277, 0.7693, 0.0023],\n",
       "          [0.8273, 0.1012, 0.4611, 0.5770]]]])"
      ]
     },
     "execution_count": 25,
     "metadata": {},
     "output_type": "execute_result"
    }
   ],
   "source": [
    "# torch.rand(*size, *, generator=None, out=None, dtype=None, layout=torch.strided, device=None, requires_grad=False, pin_memory=False) → Tensor\n",
    "\"\"\" Returns a tensor filled with random numbers from a uniform distribution on the interval [0, 1) \"\"\"\n",
    "torch.rand(1,2,3,4)  # Standard uniform distribution"
   ]
  },
  {
   "cell_type": "code",
   "execution_count": 26,
   "id": "62cd0c5c-a223-4893-a1cd-92e5e6251a33",
   "metadata": {},
   "outputs": [
    {
     "data": {
      "text/plain": [
       "tensor([[[ 0.0345, -0.8563, -0.6631],\n",
       "         [-0.6015,  0.9483,  1.0404],\n",
       "         [ 0.1460,  0.1396,  0.0906]],\n",
       "\n",
       "        [[ 0.2816,  1.7092, -0.7461],\n",
       "         [-1.4158,  0.3308,  2.1352],\n",
       "         [ 0.0656, -0.0616, -0.6185]]])"
      ]
     },
     "execution_count": 26,
     "metadata": {},
     "output_type": "execute_result"
    }
   ],
   "source": [
    "# torch.randn(*size, *, out=None, dtype=None, layout=torch.strided, device=None, requires_grad=False, pin_memory=False) → Tensor\n",
    "\"\"\" Returns a tensor filled with random numbers from a normal distribution with mean 0 and variance 1 (also called the standard normal distribution). \"\"\"\n",
    "torch.randn(size=[2, 3, 3])"
   ]
  },
  {
   "cell_type": "markdown",
   "id": "39986c33-e607-44d6-b86a-c4155da2b305",
   "metadata": {},
   "source": [
    "---\n",
    "\n",
    "## Tensor Properties"
   ]
  },
  {
   "cell_type": "code",
   "execution_count": 27,
   "id": "9fdc5f86-f4c3-4e3e-8d83-b27afd01c3fc",
   "metadata": {},
   "outputs": [
    {
     "name": "stdout",
     "output_type": "stream",
     "text": [
      "Row vectors\n",
      "tensor([1., 1., 1.]) torch.Size([3])\n",
      "tensor([1., 1., 1.]) torch.Size([3])\n",
      "tensor([[1., 1., 1.]]) torch.Size([1, 3])\n",
      "\n",
      "Column vector\n",
      "tensor([[1.],\n",
      "        [1.],\n",
      "        [1.]]) torch.Size([3, 1])\n"
     ]
    }
   ],
   "source": [
    "# Row & Column Vectors\n",
    "\n",
    "print(\"Row vectors\")\n",
    "t1 = torch.ones(3)\n",
    "t2 = torch.ones(3,)\n",
    "print(t1, t1.shape)\n",
    "print(t2, t2.shape)\n",
    "\n",
    "# Not the same!!!\n",
    "t3 = torch.ones(1,3)\n",
    "print(t3, t3.shape)\n",
    "\n",
    "print(\"\\nColumn vector\")\n",
    "t = torch.ones(3,1)\n",
    "print(t, t.shape)"
   ]
  },
  {
   "cell_type": "code",
   "execution_count": 28,
   "id": "0e93be6b-9a29-44b0-b448-51a938eeb4d3",
   "metadata": {},
   "outputs": [
    {
     "name": "stdout",
     "output_type": "stream",
     "text": [
      "tensor([[[[ 0.2861, -0.3153, -0.1213,  0.7706],\n",
      "          [ 0.7879,  1.4727, -1.1262, -0.5147],\n",
      "          [-0.7383, -2.4523, -0.2541, -0.8978]],\n",
      "\n",
      "         [[-0.8232, -1.6320,  0.3918,  1.0534],\n",
      "          [-0.4097,  1.9710, -0.7575, -1.4826],\n",
      "          [ 0.5887,  0.5907, -1.5696,  1.8328]]]])\n"
     ]
    }
   ],
   "source": [
    "# Demonstrated tensor\n",
    "t = torch.randn(1,2,3,4)\n",
    "print(t)"
   ]
  },
  {
   "cell_type": "code",
   "execution_count": 29,
   "id": "90a42ab9-d730-4aac-95a0-c1ae5c9e8a39",
   "metadata": {},
   "outputs": [
    {
     "data": {
      "text/plain": [
       "torch.float32"
      ]
     },
     "execution_count": 29,
     "metadata": {},
     "output_type": "execute_result"
    }
   ],
   "source": [
    "# Tensor's data type\n",
    "t.dtype"
   ]
  },
  {
   "cell_type": "code",
   "execution_count": 30,
   "id": "fe177bb4-b0fd-4c56-93c2-c4bd180edd79",
   "metadata": {},
   "outputs": [
    {
     "name": "stdout",
     "output_type": "stream",
     "text": [
      "torch.Size([1, 2, 3, 4])\n",
      "1\n"
     ]
    }
   ],
   "source": [
    "# Tensor.size(dim=None) → torch.Size or int\n",
    "\"\"\"\n",
    "Returns the size of the self tensor. If dim is not specified, the returned value is a torch.Size, a subclass of tuple. \n",
    "If dim is specified, returns an int holding the size of that dimension.\n",
    "\"\"\"\n",
    "print(t.size())\n",
    "print(t.size(0))   # First dimension"
   ]
  },
  {
   "cell_type": "code",
   "execution_count": 31,
   "id": "7071ad8e-fbba-4611-98fc-f79b7bb62e28",
   "metadata": {},
   "outputs": [
    {
     "name": "stdout",
     "output_type": "stream",
     "text": [
      "torch.Size([1, 2, 3, 4])\n",
      "1\n"
     ]
    }
   ],
   "source": [
    "# shape is an alias to size()\n",
    "print(t.shape)\n",
    "print(t.shape[0])   # First dimension"
   ]
  },
  {
   "cell_type": "code",
   "execution_count": 32,
   "id": "d2293104-8336-418a-bad2-e5e7449d9069",
   "metadata": {},
   "outputs": [
    {
     "name": "stdout",
     "output_type": "stream",
     "text": [
      "4\n",
      "4\n",
      "1\n"
     ]
    }
   ],
   "source": [
    "# Tensor.dim() → int\n",
    "\"\"\" Returns the number of dimensions of self tensor. \"\"\"\n",
    "print(t.dim())\n",
    "print(t.ndim)   # Alias for dim()\n",
    "print(len(t))   # len(t) will return the size of the first dimension"
   ]
  },
  {
   "cell_type": "code",
   "execution_count": 33,
   "id": "dcb31399-68db-4e73-8a9b-97d7df2ebc61",
   "metadata": {},
   "outputs": [
    {
     "data": {
      "text/plain": [
       "24"
      ]
     },
     "execution_count": 33,
     "metadata": {},
     "output_type": "execute_result"
    }
   ],
   "source": [
    "# torch.numel(input) → int\n",
    "\"\"\" Returns the total number of elements in the input tensor. \"\"\"\n",
    "t.numel()"
   ]
  },
  {
   "cell_type": "markdown",
   "id": "f89baaf9-db64-4f8c-a88b-d64b529f4bb7",
   "metadata": {},
   "source": [
    "---\n",
    "\n",
    "## Operators"
   ]
  },
  {
   "cell_type": "code",
   "execution_count": 34,
   "id": "d75a12ca-a08a-47e7-86bd-88148b0b2e83",
   "metadata": {},
   "outputs": [
    {
     "data": {
      "text/plain": [
       "2.0"
      ]
     },
     "execution_count": 34,
     "metadata": {},
     "output_type": "execute_result"
    }
   ],
   "source": [
    "# Floor Division\n",
    "5.3 // 2"
   ]
  },
  {
   "cell_type": "code",
   "execution_count": 35,
   "id": "62a5f718-4513-4012-822a-ce189d89e13c",
   "metadata": {},
   "outputs": [
    {
     "data": {
      "text/plain": [
       "8"
      ]
     },
     "execution_count": 35,
     "metadata": {},
     "output_type": "execute_result"
    }
   ],
   "source": [
    "# Power\n",
    "2 ** 3"
   ]
  },
  {
   "cell_type": "code",
   "execution_count": 36,
   "id": "b6797ed6-5ed3-4b6c-a886-03c1b0ce5ef9",
   "metadata": {},
   "outputs": [
    {
     "data": {
      "text/plain": [
       "(tensor([2, 2]), tensor([1, 2]), tensor(6))"
      ]
     },
     "execution_count": 36,
     "metadata": {},
     "output_type": "execute_result"
    }
   ],
   "source": [
    "# Matrix / Vector multiplication: M1 @ M2\n",
    "\"\"\" Matrices should match the dimension: mxn & nxk. \"\"\"\n",
    "t1 = torch.randint(1, 4, (2,))\n",
    "t2 = torch.randint(1, 4, (2,))\n",
    "t1, t2, t1 @ t2"
   ]
  },
  {
   "cell_type": "code",
   "execution_count": 37,
   "id": "d1cace3e-a457-4315-befc-b5046f997470",
   "metadata": {},
   "outputs": [
    {
     "name": "stdout",
     "output_type": "stream",
     "text": [
      "tensor([[0., 0., 0., 0.]])\n",
      "tensor([[0.],\n",
      "        [0.],\n",
      "        [0.],\n",
      "        [0.]])\n"
     ]
    }
   ],
   "source": [
    "# Transpose\n",
    "x = torch.zeros(1, 4)\n",
    "print(x, x.T, sep='\\n')"
   ]
  },
  {
   "cell_type": "code",
   "execution_count": 38,
   "id": "aa09d38f-e32e-430a-93de-355eca079204",
   "metadata": {},
   "outputs": [
    {
     "name": "stdout",
     "output_type": "stream",
     "text": [
      "tensor(1.4345)\n",
      "tensor(1.4345)\n",
      "tensor(1.4345)\n",
      "tensor(1.4345)\n"
     ]
    }
   ],
   "source": [
    "# For single vector, these are the same\n",
    "# Note: The use of `x.T` on tensors of dimension other than 2 to reverse their shape is deprecated and it will throw an error in a future release.\n",
    "x = torch.rand(5)\n",
    "y = torch.rand(5)\n",
    "\n",
    "toggle_warnings(False)\n",
    "print(x@y)\n",
    "print(x@y.T)\n",
    "print(x.T@y)\n",
    "print(x.T@y.T)\n",
    "toggle_warnings(True)"
   ]
  },
  {
   "cell_type": "markdown",
   "id": "5053ecf3-125e-4e7a-8ab0-ce3d93624aeb",
   "metadata": {},
   "source": [
    "---\n",
    "\n",
    "## Indexing"
   ]
  },
  {
   "cell_type": "code",
   "execution_count": 39,
   "id": "06c14a7d-28bb-4dea-a65a-1c72f65444ce",
   "metadata": {},
   "outputs": [
    {
     "name": "stdout",
     "output_type": "stream",
     "text": [
      "tensor([100., 100.])\n"
     ]
    }
   ],
   "source": [
    "y = torch.zeros(size=(2,3,4))\n",
    "y[1,1:2,0:4:2] = 100   # slicing - affects original tensor\n",
    "print(y[y>0])          # boolean mask"
   ]
  },
  {
   "cell_type": "code",
   "execution_count": 40,
   "id": "9b99b3e4-eb42-4500-a090-dfe968c52770",
   "metadata": {},
   "outputs": [
    {
     "data": {
      "text/plain": [
       "(tensor([[[0, 2],\n",
       "          [4, 3]],\n",
       " \n",
       "         [[3, 4],\n",
       "          [1, 1]]]),\n",
       " tensor([[0, 2],\n",
       "         [4, 3]]),\n",
       " tensor([[0, 2],\n",
       "         [4, 3]]))"
      ]
     },
     "execution_count": 40,
     "metadata": {},
     "output_type": "execute_result"
    }
   ],
   "source": [
    "# Slicing remaining dimensions\n",
    "M = torch.randint(5, (2,2,2))\n",
    "M, M[0,...], M[0,:,:]   # Both methods are the same."
   ]
  },
  {
   "cell_type": "code",
   "execution_count": 41,
   "id": "8002f8f0-83d3-4906-a389-95b9a2d7be1c",
   "metadata": {},
   "outputs": [
    {
     "name": "stdout",
     "output_type": "stream",
     "text": [
      "tensor([ 0.0024, -0.2460, -0.1898])\n"
     ]
    }
   ],
   "source": [
    "# Slicing by range\n",
    "x = torch.randn(10)\n",
    "print(x[2:5])  # prints [2,5) = 2,3,4."
   ]
  },
  {
   "cell_type": "code",
   "execution_count": 42,
   "id": "233a5050-f0a1-4c98-925d-88a9e1f4692e",
   "metadata": {},
   "outputs": [
    {
     "name": "stdout",
     "output_type": "stream",
     "text": [
      "tensor([[[ 0.6727],\n",
      "         [ 0.4923]],\n",
      "\n",
      "        [[-1.1405],\n",
      "         [ 1.9292]],\n",
      "\n",
      "        [[ 1.5928],\n",
      "         [ 0.6345]],\n",
      "\n",
      "        [[ 0.2667],\n",
      "         [ 1.3921]],\n",
      "\n",
      "        [[ 1.8493],\n",
      "         [ 1.6118]]])\n"
     ]
    }
   ],
   "source": [
    "# We can slice by defining start, end and jump conditions.\n",
    "\"\"\" start:end:jump \"\"\"\n",
    "x = torch.randn(10,5,2)\n",
    "print(x[1::2, 1::2, 1::2])  # Print only odd number indexes, starting with 1, choosing all (no end index), and jump by 2."
   ]
  },
  {
   "cell_type": "code",
   "execution_count": 43,
   "id": "55bda9d2-f224-4c80-854c-d2e309da5083",
   "metadata": {},
   "outputs": [
    {
     "name": "stdout",
     "output_type": "stream",
     "text": [
      "[*] a:\n",
      "[1, 2, 3, 4, 5]\n",
      "\n",
      "[*] b:\n",
      "[5, 4, 3, 2, 1]\n",
      "\n"
     ]
    }
   ],
   "source": [
    "# Reversing a list\n",
    "a = [1,2,3,4,5]\n",
    "b = a[::-1]\n",
    "nprint('a', a)\n",
    "nprint('b', b)"
   ]
  },
  {
   "cell_type": "code",
   "execution_count": 44,
   "id": "e1f77f7f-6248-4a2b-93df-35bfc350846c",
   "metadata": {},
   "outputs": [
    {
     "data": {
      "text/plain": [
       "tensor([5, 4, 3, 2, 1])"
      ]
     },
     "execution_count": 44,
     "metadata": {},
     "output_type": "execute_result"
    }
   ],
   "source": [
    "# torch.flip(input, dims) → Tensor\n",
    "\"\"\" Reverse the order of an n-D tensor along given axis in dims. \"\"\"\n",
    "a = torch.tensor([1,2,3,4,5])\n",
    "a.flip(dims=(0,))"
   ]
  },
  {
   "cell_type": "code",
   "execution_count": 45,
   "id": "4fe7e69a-9339-4541-a3f5-9460f2485d84",
   "metadata": {},
   "outputs": [
    {
     "name": "stdout",
     "output_type": "stream",
     "text": [
      "tensor([[[  0,   1,   2,   3,   4],\n",
      "         [  5,   6,   7,   8,   9],\n",
      "         [ 10,  11,  12,  13,  14],\n",
      "         [ 15,  16,  17,  18,  19]],\n",
      "\n",
      "        [[ 20,  21, 100, 100, 100],\n",
      "         [ 25,  26,  27,  28,  29],\n",
      "         [ 30,  31, 100, 100, 100],\n",
      "         [ 35,  36,  37,  38,  39]]])\n"
     ]
    }
   ],
   "source": [
    "# View\n",
    "x = torch.arange(2*4*5).reshape(shape=(2,4,5))\n",
    "y = x[:,0::2,2:5] # changing y's values will change x's values\n",
    "y[-1] = 100\n",
    "print(x)   # if we dont want x to change, we could've used clone(): y = x[:,0::2,2:5].clone()"
   ]
  },
  {
   "cell_type": "code",
   "execution_count": 46,
   "id": "dcc7780e-df22-4a5f-b5e2-b2fdf4e361c5",
   "metadata": {},
   "outputs": [
    {
     "name": "stdout",
     "output_type": "stream",
     "text": [
      "tensor([0, 1, 2, 3, 4])\n",
      "tensor([  2, 100])\n"
     ]
    }
   ],
   "source": [
    "# Using a boolean mask will always return a clone hence the original tensor will not be affected!\n",
    "x = torch.arange(5)\n",
    "y = x[(x>=2) & (x<4)]\n",
    "y[-1] = 100\n",
    "print(x, y, sep='\\n')"
   ]
  },
  {
   "cell_type": "markdown",
   "id": "6115f188-4a71-4feb-9b3e-0607cfc98995",
   "metadata": {},
   "source": [
    "---\n",
    "\n",
    "## Tensor Functions"
   ]
  },
  {
   "cell_type": "markdown",
   "id": "00138acc-ba85-466e-8e23-8d8a3811617b",
   "metadata": {},
   "source": [
    "**Note:** A lot of pytorch functions can be used either by:\n",
    "\n",
    "* `torch.func(t, args)`\n",
    "* `t.func(args)`\n",
    "\n",
    "where `t` is a tensor."
   ]
  },
  {
   "cell_type": "markdown",
   "id": "66c1cecc-0c74-455a-8120-c70f7de7ebbf",
   "metadata": {},
   "source": [
    "**Note:** `_` at some function's end means do actions in place and does not make copies. **This may mess up autograd system!**\n",
    "\n",
    "`func_` might be faster than `func`."
   ]
  },
  {
   "cell_type": "code",
   "execution_count": 47,
   "id": "1ec704e6-8186-4e91-9d84-891e25f4bed2",
   "metadata": {},
   "outputs": [
    {
     "name": "stdout",
     "output_type": "stream",
     "text": [
      "[id] 0x268b56ce840\n",
      "[id] 0x268b56ce840\n",
      "[id] 0x268b56ce890\n"
     ]
    }
   ],
   "source": [
    "# torch.clone(input, *, memory_format=torch.preserve_format) → Tensor\n",
    "\"\"\" Returns a copy of input. \"\"\"\n",
    "a = torch.randn(10)\n",
    "b = a\n",
    "c = a.clone()\n",
    "print_id(a)\n",
    "print_id(b)\n",
    "print_id(c)"
   ]
  },
  {
   "cell_type": "code",
   "execution_count": 48,
   "id": "31a206d2-9174-493b-b58b-9e9cc2bb4686",
   "metadata": {},
   "outputs": [
    {
     "name": "stdout",
     "output_type": "stream",
     "text": [
      "[id] 0x268b56cf7e0\n",
      "[id] 0x268b56cdd00\n",
      "[id] 0x268b56cf7e0\n",
      "tensor([2.7183, 2.7183, 2.7183, 2.7183, 2.7183])\n",
      "[id] 0x268b56cf7e0\n"
     ]
    }
   ],
   "source": [
    "# In-Place actions\n",
    "x = torch.ones(5)\n",
    "print_id(x)\n",
    "y = torch.exp(x)  # Allocated new memory\n",
    "print_id(y)\n",
    "x[:] = torch.exp(x)  # In-Place action\n",
    "print_id(x)  # id didn't change.\n",
    "x[:] = torch.ones(5)\n",
    "torch.exp_(x)  # In-Place action.\n",
    "print(x)\n",
    "print_id(x)   # ID didn't change"
   ]
  },
  {
   "cell_type": "code",
   "execution_count": 49,
   "id": "19273d54-b509-40b0-936f-af253ec44fba",
   "metadata": {},
   "outputs": [
    {
     "name": "stdout",
     "output_type": "stream",
     "text": [
      "[id] 0x268b56cdc60\n",
      "[id] 0x268b56cf510\n",
      "[id] 0x268b56cdc60\n"
     ]
    }
   ],
   "source": [
    "# In-Place actions\n",
    "x = torch.ones(5).reshape(5,1)\n",
    "print_id(x)\n",
    "y = x + x    # Will be a copy\n",
    "print_id(y)\n",
    "x += x       #  same as x[:] = x + x\n",
    "print_id(x)"
   ]
  },
  {
   "cell_type": "code",
   "execution_count": 50,
   "id": "7c723063-12a8-469a-8d91-a0aa9f1eed85",
   "metadata": {},
   "outputs": [
    {
     "name": "stdout",
     "output_type": "stream",
     "text": [
      "[id] 0x268b56cef20\n",
      "[id] 0x268b56cef20\n"
     ]
    }
   ],
   "source": [
    "# Tensor.uniform_(from=0, to=1) → Tensor\n",
    "\"\"\" Fills self tensor with numbers sampled from the continuous uniform distribution U(a, b) \"\"\" \n",
    "a = torch.empty(10)\n",
    "b = a.uniform_(0, 1)\n",
    "print_id(a)\n",
    "print_id(b)"
   ]
  },
  {
   "cell_type": "code",
   "execution_count": 51,
   "id": "06fa1856-8155-4334-95df-03747eadfcb7",
   "metadata": {},
   "outputs": [
    {
     "name": "stdout",
     "output_type": "stream",
     "text": [
      "tensor(4)\n",
      "torch.return_types.max(\n",
      "values=tensor([3, 4]),\n",
      "indices=tensor([1, 1]))\n"
     ]
    }
   ],
   "source": [
    "# torch.max(input) → Tensor\n",
    "\"\"\"\n",
    "Returns the maximum value of all elements in the input tensor.\n",
    "WARNING: This function produces deterministic (sub)gradients unlike max(dim=0)\n",
    "\"\"\"\n",
    "t = torch.tensor([[1,2],[3,4]])\n",
    "print(t.max())\n",
    "print(t.max(dim=0))"
   ]
  },
  {
   "cell_type": "code",
   "execution_count": 52,
   "id": "b9ca8530-b81c-4b7c-96e4-42c3c01bcbd1",
   "metadata": {},
   "outputs": [
    {
     "name": "stdout",
     "output_type": "stream",
     "text": [
      "tensor(1)\n",
      "torch.return_types.min(\n",
      "values=tensor([1, 2]),\n",
      "indices=tensor([0, 0]))\n"
     ]
    }
   ],
   "source": [
    "# torch.min(input) → Tensor\n",
    "\"\"\"\n",
    "Returns the minimum value of all elements in the input tensor.\n",
    "WARNING: This function produces deterministic (sub)gradients unlike min(dim=0)\n",
    "\"\"\"\n",
    "t = torch.tensor([[1,2],[3,4]])\n",
    "print(t.min())\n",
    "print(t.min(dim=0))"
   ]
  },
  {
   "cell_type": "code",
   "execution_count": 53,
   "id": "ccd34490-f2f3-43d2-918b-3e6304e1f0c2",
   "metadata": {},
   "outputs": [
    {
     "name": "stdout",
     "output_type": "stream",
     "text": [
      "tensor([[1, 2],\n",
      "        [3, 4]])\n",
      "tensor(10)\n",
      "tensor([4, 6])\n"
     ]
    }
   ],
   "source": [
    "# torch.sum(input, *, dtype=None) → Tensor\n",
    "\"\"\" Returns the sum of all elements in the input tensor. \"\"\"\n",
    "t = torch.tensor([[1,2],[3,4]])\n",
    "print(t)\n",
    "print(t.sum())\n",
    "print(t.sum(dim=0))"
   ]
  },
  {
   "cell_type": "code",
   "execution_count": 54,
   "id": "6e385bc2-4c1b-40bf-9ecc-4725802c6a0e",
   "metadata": {},
   "outputs": [
    {
     "data": {
      "text/plain": [
       "tensor([ 1,  3,  6, 10, 15])"
      ]
     },
     "execution_count": 54,
     "metadata": {},
     "output_type": "execute_result"
    }
   ],
   "source": [
    "# torch.cumsum(input, dim, *, dtype=None, out=None) → Tensor\n",
    "\"\"\" Returns the cumulative sum of elements of input in the dimension dim. \"\"\"\n",
    "x = torch.tensor([1,2,3,4,5])\n",
    "torch.cumsum(x, dim=0)"
   ]
  },
  {
   "cell_type": "code",
   "execution_count": 55,
   "id": "98483cbb-a2ee-45eb-a4a5-5754e6f3a047",
   "metadata": {},
   "outputs": [
    {
     "data": {
      "text/plain": [
       "tensor([[0.5472, 0.1578],\n",
       "        [0.9969, 1.4593]])"
      ]
     },
     "execution_count": 55,
     "metadata": {},
     "output_type": "execute_result"
    }
   ],
   "source": [
    "# torch.abs(input, *, out=None) → Tensor\n",
    "\"\"\" Computes the absolute value of each element in input. \"\"\"\n",
    "x = torch.randn(2,2)\n",
    "abs(x)"
   ]
  },
  {
   "cell_type": "code",
   "execution_count": 56,
   "id": "47f6a51f-c4aa-4c58-a1d2-8fa7e8a870f3",
   "metadata": {},
   "outputs": [
    {
     "name": "stdout",
     "output_type": "stream",
     "text": [
      "tensor(91.6528)\n",
      "tensor(10.3615)\n",
      "tensor(10.3615)\n",
      "[*] fro norm:\n",
      "10.361519813537598\n",
      "\n",
      "[*] fro norm, for feach matrix:\n",
      "tensor([5.1933, 4.0760, 4.2746, 4.9662, 4.5653])\n",
      "\n",
      "[*] inf norm:\n",
      "3.431894063949585\n",
      "\n",
      "tensor([6.2611, 4.9975, 4.0283, 4.2309, 7.1151])\n",
      "tensor([6.2611, 4.9975, 4.0283, 4.2309, 7.1151])\n"
     ]
    }
   ],
   "source": [
    "# torch.norm(input, p='fro', dim=None, keepdim=False, out=None, dtype=None) → Tensor\n",
    "\"\"\" \n",
    "Returns the matrix norm or vector norm of a given tensor.\n",
    "!!! torch.norm is deprecated and may be removed in a future PyTorch release. !!!\n",
    "Its documentation and behavior may be incorrect, and it is no longer actively maintained. \n",
    "\"\"\"\n",
    "t = torch.randn(5,5,5)\n",
    "\n",
    "# L1 Norm - Also known as the Manhattan norm or the absolute norm, is calculated by summing the absolute values of the elements in a vector.\n",
    "# In the context of L1 regularization, the L1 norm is applied to the model's coefficients to measure their magnitude.\n",
    "print(t.norm(p=1))   # \n",
    "\n",
    "# L2 Norm - Also known as the Euclidean norm, is calculated by taking the square root of the sum of the squared elements in a vector.\n",
    "# In L2 regularization, the L2 norm is applied to the model's coefficients.\n",
    "print(t.norm(p=2))\n",
    "print(torch.linalg.norm(t))\n",
    "\n",
    "\"\"\" In PyTorch, torch.norm(p='fro') and torch.norm(p=2) are equivalent when applied to a tensor, assuming the tensor is a matrix. \"\"\"\n",
    "# The Frobenius norm is a matrix norm that generalizes the concept of the Euclidean norm to matrices.\n",
    "# It calculates the square root of the sum of the squares of all the elements in a matrix. \n",
    "nprint('fro norm', t.norm())   # Default norm. same as norm(p='fro'). Same as torch.linalg.norm(t)\n",
    "nprint('fro norm, for feach matrix', torch.linalg.matrix_norm(t))   # prints the fro norms of all the matrices (5 matrices of 5x5).\n",
    "\n",
    "# Infinity Norm - Vector\n",
    "nprint('inf norm', t.norm(p=float(\"inf\")))\n",
    "\n",
    "# Infinity Norm - Matrix\n",
    "print(torch.linalg.norm(t, ord=float(\"inf\"), dim=(0,1)))          # dim = the dims of the matrix\n",
    "print(torch.linalg.matrix_norm(t, ord=float(\"inf\"), dim=(0,1)))   # dim = the dims of the matrix"
   ]
  },
  {
   "cell_type": "code",
   "execution_count": 57,
   "id": "e0eb333a-6a07-41c0-a568-e1b1d5414f6c",
   "metadata": {},
   "outputs": [
    {
     "name": "stdout",
     "output_type": "stream",
     "text": [
      "tensor([0., 1., 2., 3.])\n",
      "tensor([[0., 1.],\n",
      "        [2., 3.]])\n"
     ]
    }
   ],
   "source": [
    "# torch.reshape(input, shape) → Tensor\n",
    "\"\"\" Returns a tensor with the same data and number of elements as input, but with the specified shape. \"\"\"\n",
    "a = torch.arange(4.)\n",
    "print(a, a.reshape(2, 2), sep='\\n')"
   ]
  },
  {
   "cell_type": "code",
   "execution_count": 58,
   "id": "32176173-8021-4990-ac19-aed5fdee06a1",
   "metadata": {},
   "outputs": [
    {
     "name": "stdout",
     "output_type": "stream",
     "text": [
      "torch.Size([2, 8])\n",
      "torch.Size([8, 2])\n",
      "torch.Size([2, 4, 2])\n"
     ]
    }
   ],
   "source": [
    "# We can use -1 in reshape to automatically allocate the remaining dimension.\n",
    "a = torch.arange(16)\n",
    "print(a.reshape(2,-1).shape)\n",
    "print(a.reshape(-1,2).shape)\n",
    "print(a.reshape(2,-1,2).shape)"
   ]
  },
  {
   "cell_type": "code",
   "execution_count": 59,
   "id": "b90be612-9419-4bc3-875f-ea8a8be37ac4",
   "metadata": {},
   "outputs": [
    {
     "data": {
      "text/plain": [
       "tensor([0, 1, 2, 3, 4, 5, 6, 7])"
      ]
     },
     "execution_count": 59,
     "metadata": {},
     "output_type": "execute_result"
    }
   ],
   "source": [
    "# torch.flatten(input, start_dim=0, end_dim=- 1) → Tensor\n",
    "\"\"\" Flattens input by reshaping it into a one-dimensional tensor. \"\"\"\n",
    "a = torch.arange(8).reshape(2,4)\n",
    "a.flatten()  # same as a.reshape(8)"
   ]
  },
  {
   "cell_type": "code",
   "execution_count": 60,
   "id": "25dd4b64-ecd6-4683-a22a-449835caa735",
   "metadata": {},
   "outputs": [
    {
     "data": {
      "text/plain": [
       "torch.return_types.linalg_eig(\n",
       "eigenvalues=tensor([0.8528+0.j, 0.3517+0.j]),\n",
       "eigenvectors=tensor([[ 0.9994+0.j, -0.8938+0.j],\n",
       "        [ 0.0342+0.j,  0.4484+0.j]]))"
      ]
     },
     "execution_count": 60,
     "metadata": {},
     "output_type": "execute_result"
    }
   ],
   "source": [
    "# torch.linalg.eig(A, *, out=None)\n",
    "\"\"\" Computes the eigenvalue decomposition of a square matrix if it exists. \"\"\"\n",
    "A = torch.rand(2,2)\n",
    "torch.linalg.eig(A)  # eigenvalues, eigenvectors"
   ]
  },
  {
   "cell_type": "code",
   "execution_count": 61,
   "id": "58a5a7be-7930-4fdd-b85e-9bf3826a0a3c",
   "metadata": {},
   "outputs": [
    {
     "data": {
      "text/plain": [
       "tensor(False)"
      ]
     },
     "execution_count": 61,
     "metadata": {},
     "output_type": "execute_result"
    }
   ],
   "source": [
    "# torch.all(input) → Tensor\n",
    "\"\"\" Tests if all elements in input evaluate to True. \"\"\"\n",
    "x = torch.randn(2,2)\n",
    "torch.all(x > 0)"
   ]
  },
  {
   "cell_type": "code",
   "execution_count": 62,
   "id": "5c6a23ee-78a5-44be-a241-9a7d58d122c8",
   "metadata": {},
   "outputs": [
    {
     "name": "stdout",
     "output_type": "stream",
     "text": [
      "tensor([[0.5406,    inf,    inf, 0.6400, 0.7783,    inf, 0.0562, 0.4589,    inf,\n",
      "         2.8837],\n",
      "        [0.5628, 0.6698, 0.6880,    inf,    inf, 0.4793, 0.2742,    inf, 0.3909,\n",
      "         1.5460],\n",
      "        [0.8109,    inf,    inf, 0.6103, 0.9266, 0.0206,    inf, 0.2650,    inf,\n",
      "         1.2439],\n",
      "        [   inf, 0.2413,    inf,    inf,    inf, 1.3343,    inf,    inf,    inf,\n",
      "         1.2767],\n",
      "        [0.4627,    inf,    inf, 2.0698,    inf, 2.1208, 0.8870, 0.5070,    inf,\n",
      "            inf],\n",
      "        [   inf,    inf, 0.1226, 0.7214,    inf, 0.5484,    inf, 1.3793, 0.4376,\n",
      "         1.6234],\n",
      "        [   inf, 0.0179, 0.3284,    inf, 0.4284,    inf, 0.3648, 0.0052,    inf,\n",
      "            inf],\n",
      "        [   inf,    inf,    inf,    inf,    inf,    inf,    inf, 1.1966,    inf,\n",
      "         0.0429],\n",
      "        [   inf, 0.5971,    inf, 0.9550,    inf, 0.5096, 0.6835,    inf, 0.0514,\n",
      "         1.0598],\n",
      "        [0.4398,    inf,    inf, 0.3755, 1.6073, 0.3469, 0.3465,    inf,    inf,\n",
      "         0.9184]])\n"
     ]
    }
   ],
   "source": [
    "# torch.where(condition, input, other, *, out=None) → Tensor\n",
    "\"\"\" Return a tensor of elements selected from either input or other, depending on condition. \"\"\"\n",
    "x = torch.randn(10, 10)\n",
    "y = torch.tensor([float(\"inf\")]*100).reshape(10,10)\n",
    "print(torch.where(x > 0, x, y))   # replace negative values in x with corresponding values in y."
   ]
  },
  {
   "cell_type": "code",
   "execution_count": 63,
   "id": "0b7167b4-8bb0-4bae-a9a9-4c1bd534ffab",
   "metadata": {},
   "outputs": [
    {
     "data": {
      "text/plain": [
       "tensor([2.7183, 2.7183, 2.7183, 2.7183, 2.7183])"
      ]
     },
     "execution_count": 63,
     "metadata": {},
     "output_type": "execute_result"
    }
   ],
   "source": [
    "# torch.exp(input, *, out=None) → Tensor\n",
    "\"\"\" Returns a new tensor with the exponential of the elements of the input tensor input. \"\"\"\n",
    "x = torch.ones(5)\n",
    "torch.exp(x)"
   ]
  },
  {
   "cell_type": "code",
   "execution_count": 64,
   "id": "a7b0a7d7-9a09-4439-84b2-20afb5c3e955",
   "metadata": {},
   "outputs": [
    {
     "name": "stdout",
     "output_type": "stream",
     "text": [
      "[*] x:\n",
      "tensor([[1, 2, 3],\n",
      "        [4, 5, 6]])\n",
      "\n",
      "[*] dim0 cat:\n",
      "tensor([[1, 2, 3],\n",
      "        [4, 5, 6],\n",
      "        [1, 2, 3],\n",
      "        [4, 5, 6]])\n",
      "\n",
      "[*] dim1 cat:\n",
      "tensor([[1, 2, 3, 1, 2, 3],\n",
      "        [4, 5, 6, 4, 5, 6]])\n",
      "\n"
     ]
    }
   ],
   "source": [
    "# torch.cat(tensors, dim=0, *, out=None) → Tensor\n",
    "\"\"\"\n",
    "Concatenates the given sequence of seq tensors in the given dimension. \n",
    "All tensors must either have the same shape (except in the concatenating dimension) or be empty.\n",
    "torch.cat() can be seen as an inverse operation for torch.split() and torch.chunk().\n",
    "\"\"\"\n",
    "x = torch.tensor([[1,2,3],[4,5,6]])\n",
    "nprint('x', x)\n",
    "nprint('dim0 cat', torch.cat((x, x)))  # dim=0. concatenate along rows. Result dim = 2+2 = 4 rows.\n",
    "nprint('dim1 cat', torch.cat((x, x), dim=1))  # concatenate along columns. Result dim = 3+3 = 6 columns."
   ]
  },
  {
   "cell_type": "code",
   "execution_count": 65,
   "id": "6ffa3530-9bc0-4f80-ad92-b0b5491b891b",
   "metadata": {},
   "outputs": [
    {
     "name": "stdout",
     "output_type": "stream",
     "text": [
      "[*] x:\n",
      "tensor([[1, 2, 3],\n",
      "        [4, 5, 6]])\n",
      "\n",
      "[*] dim0 stack:\n",
      "tensor([[[1, 2, 3],\n",
      "         [4, 5, 6]],\n",
      "\n",
      "        [[1, 2, 3],\n",
      "         [4, 5, 6]]])\n",
      "\n",
      "[*] dim1 stack:\n",
      "tensor([[[1, 2, 3],\n",
      "         [1, 2, 3]],\n",
      "\n",
      "        [[4, 5, 6],\n",
      "         [4, 5, 6]]])\n",
      "\n",
      "[*] dim2 stack:\n",
      "tensor([[[1, 1],\n",
      "         [2, 2],\n",
      "         [3, 3]],\n",
      "\n",
      "        [[4, 4],\n",
      "         [5, 5],\n",
      "         [6, 6]]])\n",
      "\n"
     ]
    }
   ],
   "source": [
    "# torch.stack(tensors, dim=0, *, out=None) → Tensor\n",
    "\"\"\" Concatenates a sequence of tensors along a new dimension. All tensors need to be of the same size. \"\"\"\n",
    "x = torch.tensor(list(range(1, 7))).reshape(2,3)\n",
    "nprint('x', x)\n",
    "nprint('dim0 stack', torch.stack((x,x)))  # dim = 0\n",
    "nprint('dim1 stack', torch.stack((x,x), dim=1))\n",
    "nprint('dim2 stack', torch.stack((x,x), dim=2))"
   ]
  },
  {
   "cell_type": "code",
   "execution_count": 66,
   "id": "d8fc3152-d665-463c-a135-687d32b7a3a9",
   "metadata": {},
   "outputs": [
    {
     "name": "stdout",
     "output_type": "stream",
     "text": [
      "[*] a:\n",
      "tensor([[0, 1],\n",
      "        [2, 3],\n",
      "        [4, 5],\n",
      "        [6, 7],\n",
      "        [8, 9]])\n",
      "\n",
      "[*] split(a, 2):\n",
      "(tensor([[0, 1],\n",
      "        [2, 3]]), tensor([[4, 5],\n",
      "        [6, 7]]), tensor([[8, 9]]))\n",
      "\n",
      "[*] split(a, [1, 4]):\n",
      "(tensor([[0, 1]]), tensor([[2, 3],\n",
      "        [4, 5],\n",
      "        [6, 7],\n",
      "        [8, 9]]))\n",
      "\n"
     ]
    }
   ],
   "source": [
    "# torch.split(tensor, split_size_or_sections, dim=0)\n",
    "\"\"\" Splits the tensor into chunks. Each chunk is a view of the original ten \"\"\"\n",
    "a = torch.arange(10).reshape(5, 2)\n",
    "nprint('a', a)\n",
    "nprint('split(a, 2)', torch.split(a, 2))\n",
    "nprint('split(a, [1, 4])', torch.split(a, [1, 4]))"
   ]
  },
  {
   "cell_type": "code",
   "execution_count": 67,
   "id": "91df027a-4072-4340-afaa-320b68c02cf7",
   "metadata": {},
   "outputs": [
    {
     "data": {
      "text/plain": [
       "tensor([ True, False, False])"
      ]
     },
     "execution_count": 67,
     "metadata": {},
     "output_type": "execute_result"
    }
   ],
   "source": [
    "# torch.logical_and(input, other, *, out=None) → Tensor\n",
    "\"\"\" Computes the element-wise logical AND of the given input tensors. Zeros are treated as False and nonzeros are treated as True. \"\"\"\n",
    "torch.logical_and(torch.tensor([True, False, True]), torch.tensor([True, False, False]))"
   ]
  },
  {
   "cell_type": "code",
   "execution_count": 68,
   "id": "204ddc92-adf2-4f31-9296-9835a608686d",
   "metadata": {},
   "outputs": [
    {
     "data": {
      "text/plain": [
       "tensor([ True, False,  True])"
      ]
     },
     "execution_count": 68,
     "metadata": {},
     "output_type": "execute_result"
    }
   ],
   "source": [
    "# torch.logical_or(input, other, *, out=None) → Tensor\n",
    "\"\"\" Computes the element-wise logical OR of the given input tensors. Zeros are treated as False and nonzeros are treated as True. \"\"\"\n",
    "torch.logical_or(torch.tensor([True, False, True]), torch.tensor([True, False, False]))"
   ]
  },
  {
   "cell_type": "code",
   "execution_count": 69,
   "id": "08c2ebc0-d41e-4a52-ada2-0861b20d5236",
   "metadata": {},
   "outputs": [
    {
     "name": "stdout",
     "output_type": "stream",
     "text": [
      "torch.Size([1, 3, 1, 3])\n",
      "torch.Size([3, 3])\n"
     ]
    }
   ],
   "source": [
    "# torch.squeeze(input, dim=None) → Tensor\n",
    "\"\"\" Returns a tensor with all specified dimensions of input of size 1 removed. \"\"\"\n",
    "x = torch.ones(1,3,1,3)\n",
    "print(x.shape)\n",
    "x = x.squeeze()\n",
    "print(x.shape)"
   ]
  },
  {
   "cell_type": "code",
   "execution_count": 70,
   "id": "68f53467-a981-4d1b-9b63-e0f008ba2228",
   "metadata": {},
   "outputs": [
    {
     "name": "stdout",
     "output_type": "stream",
     "text": [
      "torch.Size([3, 3])\n",
      "torch.Size([1, 3, 3])\n",
      "torch.Size([1, 3, 1, 3])\n"
     ]
    }
   ],
   "source": [
    "# torch.unsqueeze(input, dim) → Tensor\n",
    "\"\"\" Returns a new tensor with a dimension of size one inserted at the specified position. \"\"\"\n",
    "x = torch.ones(3,3)\n",
    "print(x.shape)\n",
    "x = x.unsqueeze(0)\n",
    "print(x.shape)\n",
    "x = x.unsqueeze(2)\n",
    "print(x.shape)"
   ]
  },
  {
   "cell_type": "markdown",
   "id": "96f844ad-c399-4682-96cf-55c654187fd3",
   "metadata": {},
   "source": [
    "---\n",
    "\n",
    "## Broadcasting\n",
    "\n",
    "<u>Broadcasting Semantics</u>\n",
    "\n",
    "Two tensors are “broadcastable” if the following rules hold:\n",
    "\n",
    "* Each tensor has at least one dimension.\n",
    "* When iterating over the dimension sizes, starting at the trailing dimension, the dimension sizes must either be equal, one of them is 1, or one of them does not exist.\n",
    "\n",
    "If two tensors x, y are “broadcastable”, the resulting tensor size is calculated as follows:\n",
    "\n",
    "* If the number of dimensions of x and y are not equal, prepend 1 to the dimensions of the tensor with fewer dimensions to make them equal length.\n",
    "* Then, for each dimension size, the resulting dimension size is the max of the sizes of x and y along that dimension.\n"
   ]
  },
  {
   "cell_type": "code",
   "execution_count": 71,
   "id": "38c61650-d67f-41e3-b7ec-562d6aff86ac",
   "metadata": {},
   "outputs": [
    {
     "name": "stdout",
     "output_type": "stream",
     "text": [
      "tensor([[0, 1, 2],\n",
      "        [0, 1, 2],\n",
      "        [0, 1, 2]])\n",
      "tensor([[ 0,  1, -5],\n",
      "        [ 0,  1, -5],\n",
      "        [ 0,  1, -5]])\n"
     ]
    }
   ],
   "source": [
    "# Tensor.expand_as(other) → Tensor\n",
    "\"\"\" Expand this tensor to the same size as other. self.expand_as(other) is equivalent to self.expand(other.size()). \"\"\"\n",
    "A = torch.arange(9).reshape(3,3)\n",
    "B = torch.arange(3)\n",
    "C = B.expand_as(A)  # Broadcasting B. Important note: each expanded row is a view! Use clone() if necessary!\n",
    "print(C)\n",
    "C[-1][-1] = -5   # All rows have changed instead of the last element!\n",
    "print(C)"
   ]
  },
  {
   "cell_type": "code",
   "execution_count": 72,
   "id": "20e06ccb-74fc-426b-9570-7568402bcffc",
   "metadata": {},
   "outputs": [
    {
     "data": {
      "text/plain": [
       "tensor([[ 0,  1, -5],\n",
       "        [ 0,  1, -5],\n",
       "        [ 0,  1, -5],\n",
       "        [ 0,  1, -5],\n",
       "        [ 0,  1, -5]])"
      ]
     },
     "execution_count": 72,
     "metadata": {},
     "output_type": "execute_result"
    }
   ],
   "source": [
    "# Tensor.expand(*sizes) → Tensor\n",
    "\"\"\" Returns a new view of the self tensor with singleton dimensions expanded to a larger size. \"\"\"\n",
    "B.expand(5,3)"
   ]
  },
  {
   "cell_type": "code",
   "execution_count": 73,
   "id": "f89e76d5-8a99-4b81-a368-272b5a74e23b",
   "metadata": {},
   "outputs": [
    {
     "name": "stdout",
     "output_type": "stream",
     "text": [
      "[*] x:\n",
      "tensor([[0, 1, 2]])\n",
      "\n",
      "[*] y:\n",
      "tensor([[0],\n",
      "        [1]])\n",
      "\n",
      "[*] a:\n",
      "tensor([[0, 1, 2],\n",
      "        [0, 1, 2]])\n",
      "\n",
      "[*] b:\n",
      "tensor([[0, 0, 0],\n",
      "        [1, 1, 1]])\n",
      "\n"
     ]
    }
   ],
   "source": [
    "# torch.broadcast_tensors(*tensors) → List of Tensors\n",
    "\"\"\" Broadcasts the given tensors according to Broadcasting semantics. \"\"\"\n",
    "x = torch.arange(3).view(1, 3)\n",
    "y = torch.arange(2).view(2, 1)\n",
    "a, b = torch.broadcast_tensors(x, y)\n",
    "nprint('x', x)\n",
    "nprint('y', y)\n",
    "nprint('a', a)\n",
    "nprint('b', b)"
   ]
  },
  {
   "cell_type": "code",
   "execution_count": 74,
   "id": "4f688883-aacd-46f0-a526-ccf6f811eaf9",
   "metadata": {},
   "outputs": [
    {
     "data": {
      "text/plain": [
       "torch.Size([1, 3, 2])"
      ]
     },
     "execution_count": 74,
     "metadata": {},
     "output_type": "execute_result"
    }
   ],
   "source": [
    "# torch.broadcast_shapes(*shapes) → Size\n",
    "\"\"\" Similar to broadcast_tensors() but for shapes. \"\"\"\n",
    "torch.broadcast_shapes((2,), (3, 1), (1, 1, 1))"
   ]
  },
  {
   "cell_type": "code",
   "execution_count": 75,
   "id": "a533be18-692b-40ce-88e4-99696fe8f037",
   "metadata": {},
   "outputs": [],
   "source": [
    "def expand_as(A, B):\n",
    "    \"\"\" Maman 11 - expand_as implementation. Expand A's dimensions to B's dimensions. \"\"\"\n",
    "    dims_A  = list(A.shape)[::-1]  # Reversed list of A's dimensions.\n",
    "    dims_B  = list(B.shape)[::-1]  # Reversed list of B's dimensions.\n",
    "    len_A   = A.dim()              # Dimensions list size of A.\n",
    "    len_B   = B.dim()              # Dimensions list size of B.\n",
    "    min_len = min(len_A, len_B)    # min number of dimensions lengths.\n",
    "    \n",
    "    # Expandable Validation\n",
    "    if len_A > len_B:\n",
    "        raise RuntimeError(f\"The number of sizes provided ({len_B}) must be greater or equal to the number of dimensions in the tensor ({len_A})\")\n",
    "    for i in range(min_len):  # Iterate the reversed lists until one of them has reached its end.\n",
    "        if (dims_A[i] == 1):\n",
    "            continue  # If A's dim = 1, it can be expanded to any dimension.\n",
    "        elif (dims_A[i] != dims_B[i]):\n",
    "            raise RuntimeError(f\"The expanded size of the tensor ({dims_B[i]}) must match the existing size ({dims_A[i]}) at non-singleton dimension\")\n",
    "            \n",
    "    # Validation iteration done. A can be expanded as B at this point.\n",
    "    dims_C = dims_A + [1] * (len_B - len_A)  # If len_A > len_B, excpetion would be thrown at the validation section.\n",
    "    dims_C[:] = dims_C[::-1]   # Unreverse.\n",
    "    dims_B[:] = dims_B[::-1]   # Unreverse.\n",
    "    C = A.clone().reshape(dims_C)  # Make a new copy with added dimensions.\n",
    "    for i in range(C.dim()):\n",
    "        if dims_C[i] == dims_B[i]: # no action required.\n",
    "            continue\n",
    "        C = torch.cat([C]*dims_B[i], i)   # Duplicate values to match expanded dimension.\n",
    "        \n",
    "    return C"
   ]
  },
  {
   "cell_type": "code",
   "execution_count": 76,
   "id": "fed436a0-700a-4172-bff4-ff8c15f54c96",
   "metadata": {},
   "outputs": [],
   "source": [
    "def broadcastable(A, B):\n",
    "    \"\"\"  Maman 11 - Iterate dimensions (From the end) and check wheter A, B are suitable for broadcasting together. \"\"\"\n",
    "    dims_A  = list(A.shape)[::-1]  # Reversed list of A's dimensions.\n",
    "    dims_B  = list(B.shape)[::-1]  # Reversed list of B's dimensions.\n",
    "    len_A   = A.dim()              # Dimensions list size of A.\n",
    "    len_B   = B.dim()              # Dimensions list size of B.\n",
    "    min_len = min(len_A, len_B)    # min number of dimensions lengths.\n",
    "    \n",
    "    for i in range(min_len):  # Iterate the reversed lists until one of them has reached its end.\n",
    "        if (dims_A[i] == 1) or (dims_B[i] == 1):\n",
    "            continue  # Dimension = 1 is broadcastable with any dimension.\n",
    "        elif (dims_A[i] != dims_B[i]):\n",
    "            return False   # dimension mismatch.\n",
    "    \n",
    "    # Add the tail dimensions.\n",
    "    if len_A > len_B:\n",
    "        dims_B += dims_A[len_B:]\n",
    "    elif len_B > len_A:\n",
    "        dims_A += dims_B[len_A:]\n",
    "    dims = numpy.maximum(dims_A, dims_B)[::-1]  # Use numpy to get max dimensions list.\n",
    "    \n",
    "    return True, torch.Size(dims)    # Convert to torch.Size to match torch.broadcast_shapes function."
   ]
  },
  {
   "cell_type": "code",
   "execution_count": 77,
   "id": "5b5ac66d-46e6-44af-9469-78098bc4b602",
   "metadata": {},
   "outputs": [
    {
     "data": {
      "text/plain": [
       "tensor([3, 2, 3])"
      ]
     },
     "execution_count": 77,
     "metadata": {},
     "output_type": "execute_result"
    }
   ],
   "source": [
    "A = torch.tensor([1, 2, 3])\n",
    "B = torch.tensor([3, 2, 1])\n",
    "torch.max(A,B)"
   ]
  },
  {
   "cell_type": "code",
   "execution_count": 78,
   "id": "1fac90e8-7703-4ad5-9617-815a28481231",
   "metadata": {},
   "outputs": [],
   "source": [
    "def broadcast_tensors(A, B):\n",
    "    \"\"\" Maman 11 - Check if tensors are broadcastable. If not, raise exception. If they are, return broadcasted result. \"\"\"\n",
    "    res = broadcastable(A, B)\n",
    "    if not res:\n",
    "        raise RuntimeError(f\"Tenser {A.shape} is not broadcastable with {B.shape}.\")\n",
    "    \n",
    "    dummy = torch.ones(res[1])      # Dummy tensor of broadcasted dimensions.\n",
    "    br_A  = expand_as(A, dummy)\n",
    "    br_B  = expand_as(B, dummy)\n",
    "    \n",
    "    return br_A, br_B"
   ]
  },
  {
   "attachments": {
    "2c4abfe1-22f0-4532-961b-515e48639e67.png": {
     "image/png": "[encoded data removed]"
    }
   },
   "cell_type": "markdown",
   "id": "6f6a299b-1d74-4e5b-ada4-67db354bf4f2",
   "metadata": {},
   "source": [
    "---\n",
    "\n",
    "## Gradient\n",
    "\n",
    "![image.png](attachment:2c4abfe1-22f0-4532-961b-515e48639e67.png)\n"
   ]
  },
  {
   "cell_type": "code",
   "execution_count": 79,
   "id": "331088cf-8583-4f70-8d61-29c4aa744eb4",
   "metadata": {},
   "outputs": [
    {
     "name": "stdout",
     "output_type": "stream",
     "text": [
      "[*] x:\n",
      "tensor([2.], requires_grad=True)\n",
      "\n"
     ]
    }
   ],
   "source": [
    "# Is True if gradients need to be computed for this Tensor. \n",
    "x = torch.tensor([2.], requires_grad=True)\n",
    "nprint('x', x)\n",
    "y = x**2\n",
    "z = y + x"
   ]
  },
  {
   "cell_type": "code",
   "execution_count": 80,
   "id": "63765ef4-a090-4ebd-aafa-696b5930351e",
   "metadata": {},
   "outputs": [
    {
     "name": "stdout",
     "output_type": "stream",
     "text": [
      "[*] x.grad:\n",
      "tensor([5.])\n",
      "\n"
     ]
    }
   ],
   "source": [
    "# torch.autograd.backward(tensors, grad_tensors=None, retain_graph=None, create_graph=False, grad_variables=None, inputs=None)\n",
    "\"\"\" Computes the sum of gradients of given tensors with respect to graph leaves. \"\"\"\n",
    "z.backward()\n",
    "nprint('x.grad', x.grad)"
   ]
  },
  {
   "cell_type": "code",
   "execution_count": 81,
   "id": "770fcaf0-3d5d-4409-b180-612cc8ecad97",
   "metadata": {},
   "outputs": [
    {
     "name": "stdout",
     "output_type": "stream",
     "text": [
      "tensor([3., 2.])\n"
     ]
    }
   ],
   "source": [
    "x = torch.tensor([2.,3.],requires_grad=True)\n",
    "y = x[0]*x[1]\n",
    "y.backward()\n",
    "print(x.grad)"
   ]
  },
  {
   "cell_type": "code",
   "execution_count": 82,
   "id": "b0eac7bb-6ff6-44ad-b0a2-1096530c75bf",
   "metadata": {},
   "outputs": [
    {
     "name": "stdout",
     "output_type": "stream",
     "text": [
      "Trying to backward through the graph a second time (or directly access saved tensors after they have already been freed). Saved intermediate values of the graph are freed when you call .backward() or autograd.grad(). Specify retain_graph=True if you need to backward through the graph a second time or if you need to access saved tensors after calling backward.\n"
     ]
    }
   ],
   "source": [
    "# Cannot call backward() for the second time - the resources are freed.\n",
    "try:\n",
    "    y.backward()\n",
    "except Exception as e:\n",
    "    print(e)"
   ]
  },
  {
   "cell_type": "code",
   "execution_count": 83,
   "id": "127471b9-ab4c-490d-94c9-a7b7f19da706",
   "metadata": {},
   "outputs": [
    {
     "name": "stdout",
     "output_type": "stream",
     "text": [
      "tensor([6., 4.])\n"
     ]
    }
   ],
   "source": [
    "# We can call backward for the 2nd time if we used retain_graph=True\n",
    "x = torch.tensor([2.,3.],requires_grad=True)\n",
    "y = x[0]*x[1]\n",
    "y.backward(retain_graph=True)\n",
    "y.backward()\n",
    "print(x.grad)"
   ]
  },
  {
   "cell_type": "code",
   "execution_count": 84,
   "id": "b6059931-d4bb-44b0-af49-cd5b7f3778b6",
   "metadata": {},
   "outputs": [
    {
     "name": "stdout",
     "output_type": "stream",
     "text": [
      "tensor([6., 4.], grad_fn=<CopyBackwards>)\n"
     ]
    }
   ],
   "source": [
    "# We can call backward for the 2nd time if we used create_graph=True\n",
    "x = torch.tensor([2.,3.],requires_grad=True)\n",
    "y = x[0]*x[1]\n",
    "toggle_warnings(False)\n",
    "y.backward(create_graph=True)\n",
    "toggle_warnings(True)\n",
    "y.backward()\n",
    "print(x.grad)"
   ]
  },
  {
   "cell_type": "code",
   "execution_count": 85,
   "id": "abb6dde6-e360-4b42-900d-beb7f377ed22",
   "metadata": {},
   "outputs": [
    {
     "name": "stdout",
     "output_type": "stream",
     "text": [
      "tensor([5.], grad_fn=<CopyBackwards>)\n"
     ]
    }
   ],
   "source": [
    "\"\"\" \n",
    "Create_graph - If True, graph of the derivative will be constructed, allowing to compute higher order derivative products. Defaults to False.\n",
    "Using backward() with create_graph=True will create a reference cycle between the parameter and its gradient which can cause a memory leak. \n",
    "It's recommended using autograd.grad when creating the graph to avoid this. \n",
    "If you have to use this function, make sure to reset the .grad fields of your parameters to None after use to break the cycle and avoid the leak. \n",
    "\"\"\"\n",
    "x = torch.tensor([2.], requires_grad=True)\n",
    "y = x**2\n",
    "z = y + x\n",
    "toggle_warnings(False)\n",
    "z.backward(create_graph=True)\n",
    "toggle_warnings(True)\n",
    "print(x.grad)  #  grad_fn=<CopyBackwards> this means x.grad is monitored. it's also a tensor.\n",
    "x.grad = None  # Now we can call backward for the 2nd time becase we've set x.grad = None & 1st backward was with create_graph=True."
   ]
  },
  {
   "cell_type": "code",
   "execution_count": 86,
   "id": "49550a1d-69ad-468c-a63d-bc5004c09f30",
   "metadata": {},
   "outputs": [
    {
     "name": "stdout",
     "output_type": "stream",
     "text": [
      "tensor(1.)\n"
     ]
    }
   ],
   "source": [
    "# Tensor.retain_grad() → None\n",
    "\"\"\" Enables this Tensor to have their grad populated during backward(). This is a no-op for leaf tensors. \"\"\"\n",
    "x = torch.tensor(2., requires_grad=True)\n",
    "y=x**2\n",
    "y.retain_grad()   # keep grad of y. Middle nodes grads are freed by default.\n",
    "z=y+x\n",
    "z.backward()   # z = x^2 + x => z' = 2x + 1 => z'(2) = 5  => x.grad = 5..\n",
    "print(y.grad)  "
   ]
  },
  {
   "cell_type": "code",
   "execution_count": 87,
   "id": "ce77261c-5725-4ba5-aea8-fcafdda95fbb",
   "metadata": {},
   "outputs": [
    {
     "name": "stdout",
     "output_type": "stream",
     "text": [
      "None\n"
     ]
    }
   ],
   "source": [
    "# Without retain_grad()\n",
    "x = torch.tensor(2., requires_grad=True)\n",
    "y=x**2\n",
    "z=y+x\n",
    "z.backward()   # z = x^2 + x => z' = 2x + 1 => z'(2) = 5  => x.grad = 5..\n",
    "toggle_warnings(False)\n",
    "print(y.grad)\n",
    "toggle_warnings(True)"
   ]
  },
  {
   "cell_type": "code",
   "execution_count": 88,
   "id": "45bb676e-c0bb-4e9e-8979-690fdea991c7",
   "metadata": {},
   "outputs": [
    {
     "name": "stdout",
     "output_type": "stream",
     "text": [
      "[*] w:\n",
      "25.0\n",
      "\n",
      "[*] s:\n",
      "25.0\n",
      "\n"
     ]
    }
   ],
   "source": [
    "# Tensor.detach()\n",
    "\"\"\" Returns a new Tensor, detached from the current graph. The result will never require gradient. \"\"\"\n",
    "x = torch.tensor([2.,3.],requires_grad=True)\n",
    "y = torch.tensor([4.,5.],requires_grad=True)\n",
    "w = x.sum()**2\n",
    "s = w.detach()\n",
    "nprint('w', w)\n",
    "nprint('s', s)"
   ]
  },
  {
   "cell_type": "code",
   "execution_count": 89,
   "id": "56b10090-969c-43fa-870a-cc985eca9c14",
   "metadata": {},
   "outputs": [],
   "source": [
    "# Context-manager that disabled gradient calculation. In this mode, the result of every computation will have requires_grad=False.\n",
    "with torch.no_grad():\n",
    "    pass"
   ]
  },
  {
   "cell_type": "markdown",
   "id": "704ca7d1-024b-4db0-8de4-d259ea43ee08",
   "metadata": {
    "tags": []
   },
   "source": [
    "---\n",
    "\n",
    "## Datasets"
   ]
  },
  {
   "cell_type": "code",
   "execution_count": 90,
   "id": "a177ce98-c4f3-4a4e-97c2-0262153de792",
   "metadata": {},
   "outputs": [
    {
     "name": "stdout",
     "output_type": "stream",
     "text": [
      "[*] Fashion MNIST Classes:\n",
      "['T-shirt/top', 'Trouser', 'Pullover', 'Dress', 'Coat', 'Sandal', 'Shirt', 'Sneaker', 'Bag', 'Ankle boot']\n",
      "\n",
      "<PIL.Image.Image image mode=L size=28x28 at 0x268B56E1F90>\n",
      "Ankle boot\n"
     ]
    }
   ],
   "source": [
    "import torchvision\n",
    "# torchvision.datasets.FashionMNIST(root: str, train: bool = True, transform: Optional[Callable] = None, target_transform: Optional[Callable] = None, download: bool = False)\n",
    "\"\"\" Fashion-MNIST Dataset. \"\"\"\n",
    "train_data = torchvision.datasets.FashionMNIST(root=\".cache\", train=True, download=True)\n",
    "nprint(\"Fashion MNIST Classes\", train_data.classes)\n",
    "\n",
    "item, item_class = train_data[0]\n",
    "print(item)\n",
    "print(train_data.classes[item_class])  # Printing image's class"
   ]
  },
  {
   "cell_type": "code",
   "execution_count": 91,
   "id": "2c186b89-a21e-4b08-bbe6-c47123a91331",
   "metadata": {},
   "outputs": [
    {
     "data": {
      "text/plain": [
       "<matplotlib.image.AxesImage at 0x268cf6ec2e0>"
      ]
     },
     "execution_count": 91,
     "metadata": {},
     "output_type": "execute_result"
    },
    {
     "data": {
      "image/png": "[encoded data removed]",
      "text/plain": [
       "<Figure size 100x100 with 1 Axes>"
      ]
     },
     "metadata": {},
     "output_type": "display_data"
    }
   ],
   "source": [
    "plt.figure(figsize=(1,1))\n",
    "plt.axis('off')\n",
    "plt.imshow(item)"
   ]
  },
  {
   "cell_type": "code",
   "execution_count": 92,
   "id": "36073a59-006c-461c-bd3f-cb6d14ff4316",
   "metadata": {},
   "outputs": [
    {
     "name": "stdout",
     "output_type": "stream",
     "text": [
      "<class 'torch.Tensor'> torch.Size([1, 28, 28]) torch.uint8\n"
     ]
    }
   ],
   "source": [
    "# torchvision.transforms.PILToTensor\n",
    "\"\"\" Convert a PIL Image to a tensor of the same type - this does not scale values. \"\"\"\n",
    "transform = torchvision.transforms.PILToTensor()\n",
    "img = transform(item)\n",
    "print(type(img), img.size(), img.dtype)"
   ]
  },
  {
   "cell_type": "code",
   "execution_count": 93,
   "id": "9973fbce-ca72-4aea-acd7-5feef4837072",
   "metadata": {},
   "outputs": [
    {
     "data": {
      "text/plain": [
       "<matplotlib.image.AxesImage at 0x268cf79fb80>"
      ]
     },
     "execution_count": 93,
     "metadata": {},
     "output_type": "execute_result"
    },
    {
     "data": {
      "image/png": "[encoded data removed]",
      "text/plain": [
       "<Figure size 100x100 with 1 Axes>"
      ]
     },
     "metadata": {},
     "output_type": "display_data"
    }
   ],
   "source": [
    "plt.figure(figsize=(1,1))\n",
    "plt.axis('off')\n",
    "plt.imshow(img.squeeze())  # we need to remove first dim '1'."
   ]
  },
  {
   "cell_type": "markdown",
   "id": "9f2c2cc3-ce44-463c-9fd1-072e941e8755",
   "metadata": {},
   "source": [
    "`PILtoTensor` uses ints [0-255] and doesn't normalize to [0, 1]. Use `ToTensor` instead."
   ]
  },
  {
   "cell_type": "code",
   "execution_count": 94,
   "id": "7a8ca355-bbf9-494c-843a-f6609f7b4206",
   "metadata": {},
   "outputs": [
    {
     "name": "stdout",
     "output_type": "stream",
     "text": [
      "<class 'torch.Tensor'> torch.Size([1, 28, 28]) torch.float32\n"
     ]
    }
   ],
   "source": [
    "# torchvision.transforms.ToTensor\n",
    "\"\"\" Convert a PIL Image or ndarray to tensor and scale the values accordingly. \"\"\"\n",
    "transform = torchvision.transforms.ToTensor()\n",
    "img = transform(item)\n",
    "print(type(img), img.size(), img.dtype)"
   ]
  },
  {
   "cell_type": "code",
   "execution_count": 95,
   "id": "bf3d684d-fc8f-45ff-9c55-959cfec58b80",
   "metadata": {},
   "outputs": [
    {
     "data": {
      "text/plain": [
       "<matplotlib.image.AxesImage at 0x268cf74e200>"
      ]
     },
     "execution_count": 95,
     "metadata": {},
     "output_type": "execute_result"
    },
    {
     "data": {
      "image/png": "[encoded data removed]",
      "text/plain": [
       "<Figure size 100x100 with 1 Axes>"
      ]
     },
     "metadata": {},
     "output_type": "display_data"
    }
   ],
   "source": [
    "plt.figure(figsize=(1,1))\n",
    "plt.axis('off')\n",
    "plt.imshow(img.squeeze())  # we need to remove first dim '1'."
   ]
  },
  {
   "cell_type": "code",
   "execution_count": 96,
   "id": "3ae8f373-69a1-41c0-878f-d569c38b77c7",
   "metadata": {},
   "outputs": [],
   "source": [
    "# We can transform in during the constructor\n",
    "train_data = torchvision.datasets.FashionMNIST(root=\".cache\", train=True, download=True, transform=torchvision.transforms.ToTensor())"
   ]
  },
  {
   "cell_type": "code",
   "execution_count": 97,
   "id": "0906212c-9d05-44c9-9d68-adbe7bcd232d",
   "metadata": {},
   "outputs": [
    {
     "name": "stdout",
     "output_type": "stream",
     "text": [
      "4 tensor([9, 0, 0, 3])\n"
     ]
    }
   ],
   "source": [
    "# torch.utils.data.DataLoader(dataset, batch_size=1, ...)\n",
    "\"\"\" Data loader. Combines a dataset and a sampler, and provides an iterable over the given dataset. \"\"\"\n",
    "from torch.utils.data import DataLoader\n",
    "train_dataloader = DataLoader(train_data, batch_size=4)  \n",
    "iterator = iter(train_dataloader)    # this iterator will return 4 samples for each increment\n",
    "imgs, labels = next(iterator)\n",
    "print(len(imgs), labels)"
   ]
  },
  {
   "cell_type": "code",
   "execution_count": 98,
   "id": "41fd60e9-e1f4-4ec6-b3e2-e8668046e689",
   "metadata": {},
   "outputs": [],
   "source": [
    "# We can iterate directly on the data loader\n",
    "for imgs, labels in train_dataloader:\n",
    "    # we get 4 images each time\n",
    "    pass\n",
    "\n",
    "# If we want the index as well, we can use enumerate\n",
    "for batch_idx, (imgs, labels) in enumerate(train_dataloader):\n",
    "    # we get 4 images each time\n",
    "    pass"
   ]
  },
  {
   "cell_type": "markdown",
   "id": "01734f1b-2f0f-46a3-8424-c349e0db3af1",
   "metadata": {},
   "source": [
    "---\n",
    "\n",
    "## Activation Functions"
   ]
  },
  {
   "cell_type": "code",
   "execution_count": 99,
   "id": "58e13697-6753-4e0c-8803-fa903794dddb",
   "metadata": {},
   "outputs": [],
   "source": [
    "from torch import nn   # NN building blocks"
   ]
  },
  {
   "cell_type": "code",
   "execution_count": 100,
   "id": "e6c37035-7f4e-4c6a-9cd7-a540177e7afe",
   "metadata": {},
   "outputs": [
    {
     "data": {
      "text/plain": [
       "Sigmoid()"
      ]
     },
     "execution_count": 100,
     "metadata": {},
     "output_type": "execute_result"
    }
   ],
   "source": [
    "# torch.nn.Sigmoid(*args, **kwargs)\n",
    "\n",
    "nn.Sigmoid()"
   ]
  },
  {
   "cell_type": "code",
   "execution_count": 101,
   "id": "602b12ae-33fb-4e4f-aa77-adc57a0a5087",
   "metadata": {},
   "outputs": [
    {
     "data": {
      "text/plain": [
       "ReLU()"
      ]
     },
     "execution_count": 101,
     "metadata": {},
     "output_type": "execute_result"
    }
   ],
   "source": [
    "# torch.nn.ReLU(inplace=False)\n",
    "\n",
    "nn.ReLU()"
   ]
  },
  {
   "cell_type": "code",
   "execution_count": 102,
   "id": "10a3edf4-45bb-4bff-82a8-e6a4743c6944",
   "metadata": {},
   "outputs": [
    {
     "name": "stdout",
     "output_type": "stream",
     "text": [
      "[*] z:\n",
      "tensor([[0., 0., 0.],\n",
      "        [0., 0., 0.]])\n",
      "\n",
      "[*] dim=0:\n",
      "tensor([[0.5000, 0.5000, 0.5000],\n",
      "        [0.5000, 0.5000, 0.5000]])\n",
      "\n",
      "[*] dim=1:\n",
      "tensor([[0.3333, 0.3333, 0.3333],\n",
      "        [0.3333, 0.3333, 0.3333]])\n",
      "\n"
     ]
    }
   ],
   "source": [
    "# torch.nn.Softmax(dim=None)\n",
    "\"\"\" Applies the Softmax function to an n-dimensional input Tensor rescaling them so that the elements of the n-dimensional output Tensor lie in the range [0,1] and sum to 1. \"\"\"\n",
    "# softmax(x_i) = exp(x_i) / sum_j(torch.exp(x_j), axis)\n",
    "\n",
    "z = torch.zeros(2,3)   #   ln (1) = np.log(1) = 0;\n",
    "nprint('z', z)\n",
    "\n",
    "\"\"\" e^0 = 1 \"\"\"\n",
    "# dim=0 -> iterating rows: (1/(1+1)) = 0.5\n",
    "f = nn.Softmax(dim=0)\n",
    "nprint('dim=0', f(z))\n",
    "\n",
    "# dim=1 -> iterating columns: (1/(1+1+1)) = 0.333\n",
    "f = nn.Softmax(dim=1)\n",
    "nprint('dim=1', f(z))"
   ]
  },
  {
   "cell_type": "code",
   "execution_count": 103,
   "id": "b3b6a3f8-19ef-4d22-9e58-223ba14cedf0",
   "metadata": {},
   "outputs": [
    {
     "name": "stdout",
     "output_type": "stream",
     "text": [
      "[*] dim=0:\n",
      "tensor([[-0.6931, -0.6931, -0.6931],\n",
      "        [-0.6931, -0.6931, -0.6931]])\n",
      "\n",
      "[*] dim=1:\n",
      "tensor([[-1.0986, -1.0986, -1.0986],\n",
      "        [-1.0986, -1.0986, -1.0986]])\n",
      "\n"
     ]
    }
   ],
   "source": [
    "# torch.nn.LogSoftmax(dim=None)\n",
    "\"\"\" Applies the log(Softmax(x)) function to an n-dimensional input Tensor. \"\"\"\n",
    "z = torch.zeros(2,3)\n",
    "\n",
    "f = nn.LogSoftmax(dim=0)\n",
    "nprint('dim=0', f(z))\n",
    "\n",
    "f = nn.LogSoftmax(dim=1)\n",
    "nprint('dim=1', f(z))"
   ]
  },
  {
   "cell_type": "markdown",
   "id": "ed1538a9-d435-46d6-aa03-c79b26c66977",
   "metadata": {},
   "source": [
    "The `LogSoftmax` is good if we receive probabilities that are near 0 with `Softmax`. \n",
    "\n",
    "This is because `log(e^x) = x`. We will not receive `log(0) = NaN`.\n",
    "\n",
    "Another advantage is that we will receive a more accurate result. "
   ]
  },
  {
   "cell_type": "code",
   "execution_count": 104,
   "id": "9d1f71f8-602d-4fa5-8a59-66a05aaa1ea4",
   "metadata": {},
   "outputs": [
    {
     "data": {
      "text/plain": [
       "NLLLoss()"
      ]
     },
     "execution_count": 104,
     "metadata": {},
     "output_type": "execute_result"
    }
   ],
   "source": [
    "# torch.nn.NLLLoss(weight=None, size_average=None, ignore_index=- 100, reduce=None, reduction='mean')\n",
    "\"\"\" The negative log likelihood loss. It is useful to train a classification problem with C classes. \"\"\"\n",
    "# Input = LogSoftmax, Output = Cross Entropy\n",
    "nn.NLLLoss()"
   ]
  },
  {
   "cell_type": "markdown",
   "id": "bd312f93-d20d-40d5-b558-0ebb8c98864b",
   "metadata": {},
   "source": [
    "---\n",
    "\n",
    "## Neural Network related"
   ]
  },
  {
   "cell_type": "code",
   "execution_count": 105,
   "id": "b4f8c7a2-4df8-4887-a4d4-3d5e672d1f05",
   "metadata": {},
   "outputs": [
    {
     "name": "stdout",
     "output_type": "stream",
     "text": [
      "Linear(in_features=2, out_features=1, bias=True)\n",
      "\n",
      "Parameter containing:\n",
      "tensor([[0.1468, 0.3233]], requires_grad=True)\n",
      "\n",
      "Parameter containing:\n",
      "tensor([-0.6550], requires_grad=True)\n"
     ]
    }
   ],
   "source": [
    "# torch.nn.Linear(in_features, out_features, bias=True, device=None, dtype=None)\n",
    "\"\"\" Applies a linear transformation to the incoming data: y = xA + b \"\"\"\n",
    "z = nn.Linear(2,1)\n",
    "\n",
    "print(z, z.weight, z.bias, sep='\\n\\n')"
   ]
  },
  {
   "cell_type": "code",
   "execution_count": 106,
   "id": "1b37c6e0-08ed-4833-a8a1-3821fee3c885",
   "metadata": {},
   "outputs": [
    {
     "name": "stdout",
     "output_type": "stream",
     "text": [
      "Parameter containing:\n",
      "tensor([[1.0000, 0.3233]], requires_grad=True)\n"
     ]
    }
   ],
   "source": [
    "# Context-manager that disabled gradient calculation. In this mode, the result of every computation will have requires_grad=False.\n",
    "with torch.no_grad():\n",
    "    z.weight[0, 0] = 1\n",
    "    \n",
    "print(z.weight)"
   ]
  },
  {
   "cell_type": "code",
   "execution_count": 107,
   "id": "60f58526-6db5-4a19-a21d-7c1e27f392d8",
   "metadata": {},
   "outputs": [
    {
     "name": "stdout",
     "output_type": "stream",
     "text": [
      "torch.Size([4, 10])\n",
      "tensor([[1, 0, 0, 0, 0, 0, 0, 0, 0, 0],\n",
      "        [0, 0, 0, 1, 0, 0, 0, 0, 0, 0],\n",
      "        [0, 1, 0, 0, 0, 0, 0, 0, 0, 0],\n",
      "        [0, 0, 0, 0, 0, 0, 0, 0, 0, 1]])\n"
     ]
    }
   ],
   "source": [
    "# torch.nn.functional.one_hot(tensor, num_classes=-1) → LongTensor\n",
    "\"\"\" \n",
    "Takes LongTensor with index values of shape (*) and returns a tensor of shape (*, num_classes) that have zeros everywhere \n",
    "except where the index of last dimension matches the corresponding value of the input tensor, in which case it will be 1.\n",
    "\"\"\"\n",
    "x = torch.tensor([0, 3, 1, 9])   # each value corresponds to a row\n",
    "y = torch.nn.functional.one_hot(x, num_classes=10)  # num of classes will determine the columns.\n",
    "print(y.shape)\n",
    "print(y)"
   ]
  },
  {
   "cell_type": "code",
   "execution_count": 108,
   "id": "a57b26a8-fb6b-4350-9719-cff680903893",
   "metadata": {},
   "outputs": [
    {
     "name": "stdout",
     "output_type": "stream",
     "text": [
      "Sequential(\n",
      "  (0): Linear(in_features=784, out_features=10, bias=True)\n",
      "  (1): LogSoftmax(dim=1)\n",
      ")\n"
     ]
    }
   ],
   "source": [
    "# Model example\n",
    "\"\"\" Defining NLLLoss for LogSoftmax to achieve Cross Entropy \"\"\"\n",
    "model = nn.Sequential(\n",
    "        nn.Linear(784,10), #z\n",
    "        nn.LogSoftmax(dim=1)) #log(y)\n",
    "print(model)\n",
    "CE_loss = nn.NLLLoss()\n",
    "optimizer = torch.optim.SGD(model.parameters(), lr=0.1)"
   ]
  },
  {
   "cell_type": "code",
   "execution_count": 109,
   "id": "953d3b73-c831-44eb-831a-ae5423f12243",
   "metadata": {},
   "outputs": [],
   "source": [
    "# Iterate batch example\n",
    "def iterate_batch(imgs, labels):\n",
    "    imgs = imgs.flatten(start_dim=1)\n",
    "    optimizer.zero_grad()\n",
    "    y_model = model(imgs)\n",
    "    loss = CE_loss(y_model,labels)   # Cost function\n",
    "    loss.backward()                  # SGD\n",
    "    optimizer.step()                 # (W,b) = (W,b) - 0.1 * grad(C)  \n",
    "    predicted_labels = y_model.argmax(dim=1)\n",
    "    acc = (predicted_labels == labels).sum()/len(labels)\n",
    "    return loss.detach(), acc.detach()"
   ]
  },
  {
   "cell_type": "code",
   "execution_count": 110,
   "id": "08852df3-45ed-437a-bd07-b8ee6baa491c",
   "metadata": {},
   "outputs": [],
   "source": [
    "# Train example\n",
    "train_dataloader = DataLoader(train_data, batch_size=256, shuffle=True)\n",
    "batches = len(train_dataloader)\n",
    "loss = torch.zeros(batches)\n",
    "acc = torch.zeros(batches)\n",
    "for idx, (imgs, labels) in enumerate(train_dataloader):\n",
    "    loss[idx], acc[idx] = iterate_batch(imgs, labels)"
   ]
  },
  {
   "cell_type": "code",
   "execution_count": 111,
   "id": "7394f448-cbd8-4e32-85a4-f5f24ffe3389",
   "metadata": {},
   "outputs": [
    {
     "data": {
      "image/png": "[encoded data removed]",
      "text/plain": [
       "<Figure size 1200x400 with 2 Axes>"
      ]
     },
     "metadata": {},
     "output_type": "display_data"
    }
   ],
   "source": [
    "plt.figure(figsize=(12,4))\n",
    "plt.subplot(1,2,1)\n",
    "plot(loss, \"CE Loss\", \"Batch\")\n",
    "plt.subplot(1,2,2)\n",
    "plot(acc, \"Accuracy\", \"Batch\")"
   ]
  },
  {
   "cell_type": "markdown",
   "id": "d9d2147d-662e-44f9-ad3f-b99b73f010bb",
   "metadata": {},
   "source": [
    "We have jumps in accuracy because each minibatch can't represent the entire database!"
   ]
  },
  {
   "cell_type": "code",
   "execution_count": 112,
   "id": "b4ac9151-a55a-4836-a66d-ee4bd6fc777c",
   "metadata": {},
   "outputs": [],
   "source": [
    "\"\"\" Example for learning rate decay \"\"\"\n",
    "\n",
    "num_epochs = 10\n",
    "num_minibatches = 10\n",
    "model = nn.Sequential(\n",
    "    nn.Linear(784,20),\n",
    "    nn.ReLU(),\n",
    "    nn.Linear(20,10),\n",
    "    nn.LogSoftmax(dim=1)\n",
    ")\n",
    "for epoch in range(num_epochs):\n",
    "    for batch in range(num_minibatches):\n",
    "        \n",
    "        # 1st improvement to SGD - learning rate decay\n",
    "        optimizer = torch.optim.SGD(model.parameters(), lr=1)\n",
    "        decay = lambda previous_lr: 0.9 ** previous_lr\n",
    "        scheduler = torch.optim.lr_scheduler.LambdaLR(optimizer, lr_lambda=decay)\n",
    "        ##\n",
    "        \n",
    "        optimizer.step()\n",
    "    scheduler.step()"
   ]
  },
  {
   "cell_type": "code",
   "execution_count": 113,
   "id": "8d74b1f1-c854-4a58-a43b-122c6220e5a1",
   "metadata": {},
   "outputs": [],
   "source": [
    "# 2nd SGD improvement - Momentum\n",
    "# optimizer = torch.optim.SGD(model, lr=alpha, momentum=beta)"
   ]
  },
  {
   "cell_type": "code",
   "execution_count": 114,
   "id": "185f9a7b-f8bc-4ba2-92ba-83ec2777d883",
   "metadata": {},
   "outputs": [],
   "source": [
    "# Adam - useful when dC/wi > dC/wj. Only momentum will not solve this. Maybe different LR for different parameters.\n",
    "# optimizer = torch.optim.Adam(model, lr=alpha)"
   ]
  },
  {
   "cell_type": "code",
   "execution_count": null,
   "id": "4e59be88-5eb3-403a-b721-1010e5c00321",
   "metadata": {},
   "outputs": [],
   "source": []
  }
 ],
 "metadata": {
  "kernelspec": {
   "display_name": "Python 3 (ipykernel)",
   "language": "python",
   "name": "python3"
  },
  "language_info": {
   "codemirror_mode": {
    "name": "ipython",
    "version": 3
   },
   "file_extension": ".py",
   "mimetype": "text/x-python",
   "name": "python",
   "nbconvert_exporter": "python",
   "pygments_lexer": "ipython3",
   "version": "3.10.9"
  }
 },
 "nbformat": 4,
 "nbformat_minor": 5
}
